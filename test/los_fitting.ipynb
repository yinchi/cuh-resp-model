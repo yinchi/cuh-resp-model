{
 "cells": [
  {
   "cell_type": "code",
   "execution_count": 1,
   "id": "9011a224",
   "metadata": {},
   "outputs": [],
   "source": [
    "import pandas as pd\n",
    "import numpy as np\n",
    "\n",
    "from cuh_resp_model.components.step1 import get_los_data\n",
    "from cuh_resp_model.components.step3 import load_los"
   ]
  },
  {
   "cell_type": "code",
   "execution_count": 2,
   "id": "f8d14750",
   "metadata": {},
   "outputs": [
    {
     "data": {
      "application/vnd.microsoft.datawrangler.viewer.v0+json": {
       "columns": [
        {
         "name": "index",
         "rawType": "int64",
         "type": "integer"
        },
        {
         "name": "Age",
         "rawType": "int64",
         "type": "integer"
        },
        {
         "name": "Admission",
         "rawType": "datetime64[ns]",
         "type": "datetime"
        },
        {
         "name": "Discharge",
         "rawType": "datetime64[ns]",
         "type": "datetime"
        },
        {
         "name": "ReAdmission",
         "rawType": "datetime64[ns]",
         "type": "datetime"
        },
        {
         "name": "ReAdmissionDisch",
         "rawType": "datetime64[ns]",
         "type": "datetime"
        },
        {
         "name": "LOS",
         "rawType": "timedelta64[ns]",
         "type": "unknown"
        },
        {
         "name": "LOS_ReAdmission",
         "rawType": "timedelta64[ns]",
         "type": "unknown"
        },
        {
         "name": "LOS_Total",
         "rawType": "float64",
         "type": "float"
        }
       ],
       "conversionMethod": "pd.DataFrame",
       "ref": "24cbe2b0-dd4d-429d-8c5c-b5821890c715",
       "rows": [
        [
         "0",
         "88",
         "2021-12-01 07:35:11.104000",
         "2021-12-01 12:08:15.104000",
         "2021-12-13 13:37:28.576000",
         "2021-12-13 16:45:20.768000",
         "0 days 04:33:04",
         "0 days 03:07:52.192000",
         "0.32009481481481483"
        ],
        [
         "3",
         "48",
         "2021-12-01 16:50:03.392000",
         "2021-12-07 19:29:21.408000",
         "2021-12-13 16:34:25.408000",
         "2021-12-19 09:26:05.056000",
         "6 days 02:39:18.016000",
         "5 days 16:51:39.648000",
         "11.813167407407407"
        ],
        [
         "4",
         "39",
         "2021-12-01 17:42:29.120000",
         "2021-12-04 18:59:57.056000",
         null,
         null,
         "3 days 01:17:27.936000",
         "0 days 00:00:00",
         "3.0537955555555554"
        ],
        [
         "5",
         "72",
         "2021-12-01 21:23:07.392000",
         "2021-12-23 14:39:05.216000",
         null,
         null,
         "21 days 17:15:57.824000",
         "0 days 00:00:00",
         "21.719419259259258"
        ],
        [
         "6",
         "73",
         "2021-12-02 06:37:59.680000",
         "2021-12-02 20:04:05.248000",
         null,
         null,
         "0 days 13:26:05.568000",
         "0 days 00:00:00",
         "0.5597866666666667"
        ],
        [
         "7",
         "34",
         "2021-12-02 13:00:17.280000",
         "2021-12-17 18:00:14.080000",
         null,
         null,
         "15 days 04:59:56.800000",
         "0 days 00:00:00",
         "15.208296296296297"
        ],
        [
         "8",
         "28",
         "2021-12-02 19:00:44.160000",
         "2021-12-05 15:51:41.312000",
         "2021-12-13 02:09:20.896000",
         "2021-12-13 09:34:59.584000",
         "2 days 20:50:57.152000",
         "0 days 07:25:38.688000",
         "3.1781925925925925"
        ],
        [
         "9",
         "94",
         "2021-12-02 22:04:14.208000",
         "2021-12-14 15:00:05.760000",
         null,
         null,
         "11 days 16:55:51.552000",
         "0 days 00:00:00",
         "11.705457777777777"
        ],
        [
         "10",
         "66",
         "2021-12-03 11:21:35.488000",
         "2021-12-18 19:59:59.488000",
         null,
         null,
         "15 days 08:38:24",
         "0 days 00:00:00",
         "15.36"
        ],
        [
         "11",
         "51",
         "2021-12-03 15:24:04.480000",
         "2021-12-11 16:30:50.368000",
         null,
         null,
         "8 days 01:06:45.888000",
         "0 days 00:00:00",
         "8.046364444444444"
        ],
        [
         "12",
         "60",
         "2021-12-03 18:38:29.888000",
         "2021-12-13 16:51:53.984000",
         null,
         null,
         "9 days 22:13:24.096000",
         "0 days 00:00:00",
         "9.925973333333333"
        ],
        [
         "13",
         "78",
         "2021-12-03 20:53:56.352000",
         "2021-12-06 17:53:37.792000",
         "2021-12-07 13:35:27.744000",
         "2021-12-07 17:13:54.944000",
         "2 days 20:59:41.440000",
         "0 days 03:38:27.200000",
         "3.026488888888889"
        ],
        [
         "14",
         "41",
         "2021-12-04 12:37:39.456000",
         "2021-12-06 19:05:43.168000",
         "2021-12-17 18:48:17.664000",
         "2021-12-17 18:50:28.736000",
         "2 days 06:28:03.712000",
         "0 days 00:02:11.072000",
         "2.2710044444444444"
        ],
        [
         "15",
         "41",
         "2021-12-04 18:16:15.616000",
         "2021-12-05 18:55:11.360000",
         null,
         null,
         "1 days 00:38:55.744000",
         "0 days 00:00:00",
         "1.027034074074074"
        ],
        [
         "16",
         "43",
         "2021-12-04 21:24:07.808000",
         "2021-12-12 17:01:01.824000",
         null,
         null,
         "7 days 19:36:54.016000",
         "0 days 00:00:00",
         "7.817291851851852"
        ],
        [
         "17",
         "45",
         "2021-12-05 06:19:20.448000",
         "2021-12-05 13:38:25.920000",
         null,
         null,
         "0 days 07:19:05.472000",
         "0 days 00:00:00",
         "0.30492444444444444"
        ],
        [
         "18",
         "46",
         "2021-12-05 09:55:36.576000",
         "2021-12-17 21:49:36.640000",
         null,
         null,
         "12 days 11:54:00.064000",
         "0 days 00:00:00",
         "12.495834074074073"
        ],
        [
         "19",
         "94",
         "2021-12-05 18:57:22.432000",
         "2021-12-08 13:56:54.912000",
         null,
         null,
         "2 days 18:59:32.480000",
         "0 days 00:00:00",
         "2.791348148148148"
        ],
        [
         "20",
         "49",
         "2021-12-05 20:55:20.320000",
         "2021-12-06 18:52:36.736000",
         null,
         null,
         "0 days 21:57:16.416000",
         "0 days 00:00:00",
         "0.9147733333333333"
        ],
        [
         "21",
         "46",
         "2021-12-05 21:01:53.536000",
         "2021-12-13 20:30:21.184000",
         null,
         null,
         "7 days 23:28:27.648000",
         "0 days 00:00:00",
         "7.978097777777778"
        ],
        [
         "22",
         "50",
         "2021-12-05 21:41:12.832000",
         "2021-12-07 16:45:31.008000",
         "2021-12-12 16:32:37.888000",
         "2021-12-15 14:50:57.920000",
         "1 days 19:04:18.176000",
         "2 days 22:18:20.032000",
         "4.724053333333333"
        ],
        [
         "23",
         "57",
         "2021-12-06 11:02:56.256000",
         "2021-12-23 11:24:39.808000",
         null,
         null,
         "17 days 00:21:43.552000",
         "0 days 00:00:00",
         "17.015087407407407"
        ],
        [
         "24",
         "76",
         "2021-12-06 11:46:37.696000",
         "2021-12-17 18:00:14.080000",
         null,
         null,
         "11 days 06:13:36.384000",
         "0 days 00:00:00",
         "11.259448888888889"
        ],
        [
         "25",
         "56",
         "2021-12-06 13:51:08.800000",
         "2021-12-15 15:30:17.216000",
         null,
         null,
         "9 days 01:39:08.416000",
         "0 days 00:00:00",
         "9.068847407407407"
        ],
        [
         "26",
         "58",
         "2021-12-06 13:57:42.016000",
         "2021-12-07 16:12:44.928000",
         null,
         null,
         "1 days 02:15:02.912000",
         "0 days 00:00:00",
         "1.0937837037037037"
        ],
        [
         "27",
         "50",
         "2021-12-09 14:31:28.512000",
         "2021-12-13 20:15:03.680000",
         null,
         null,
         "4 days 05:43:35.168000",
         "0 days 00:00:00",
         "4.238601481481481"
        ],
        [
         "28",
         "42",
         "2021-12-06 15:46:55.616000",
         "2021-12-11 15:29:40.352000",
         null,
         null,
         "4 days 23:42:44.736000",
         "0 days 00:00:00",
         "4.988017777777777"
        ],
        [
         "29",
         "64",
         "2021-12-06 19:31:56.032000",
         "2022-01-11 20:29:53.536000",
         null,
         null,
         "36 days 00:57:57.504000",
         "0 days 00:00:00",
         "36.04024888888889"
        ],
        [
         "31",
         "70",
         "2021-12-06 20:13:26.400000",
         "2021-12-08 16:58:13.888000",
         null,
         null,
         "1 days 20:44:47.488000",
         "0 days 00:00:00",
         "1.8644385185185186"
        ],
        [
         "32",
         "52",
         "2021-12-07 12:19:00.224000",
         "2021-12-08 20:36:41.088000",
         null,
         null,
         "1 days 08:17:40.864000",
         "0 days 00:00:00",
         "1.3456118518518518"
        ],
        [
         "33",
         "78",
         "2021-12-07 13:24:32.384000",
         "2021-12-16 18:55:14.432000",
         null,
         null,
         "9 days 05:30:42.048000",
         "0 days 00:00:00",
         "9.229653333333333"
        ],
        [
         "34",
         "81",
         "2021-12-07 15:44:20.992000",
         "2021-12-15 13:19:12.896000",
         null,
         null,
         "7 days 21:34:51.904000",
         "0 days 00:00:00",
         "7.8992118518518515"
        ],
        [
         "35",
         "97",
         "2021-12-07 15:59:38.496000",
         "2021-12-13 16:16:56.832000",
         null,
         null,
         "6 days 00:17:18.336000",
         "0 days 00:00:00",
         "6.0120177777777775"
        ],
        [
         "36",
         "37",
         "2021-12-07 23:27:28.256000",
         "2022-01-12 13:45:21.664000",
         null,
         null,
         "35 days 14:17:53.408000",
         "0 days 00:00:00",
         "35.59575703703704"
        ],
        [
         "37",
         "35",
         "2021-12-08 02:48:26.880000",
         "2021-12-14 12:57:45.728000",
         null,
         null,
         "6 days 10:09:18.848000",
         "0 days 00:00:00",
         "6.423134814814815"
        ],
        [
         "38",
         "59",
         "2021-12-08 12:16:25.600000",
         "2021-12-14 00:00:04.096000",
         null,
         null,
         "5 days 11:43:38.496000",
         "0 days 00:00:00",
         "5.48864"
        ],
        [
         "39",
         "34",
         "2021-12-08 21:00:42.880000",
         "2021-12-30 15:17:50.720000",
         null,
         null,
         "21 days 18:17:07.840000",
         "0 days 00:00:00",
         "21.761896296296296"
        ],
        [
         "40",
         "80",
         "2021-12-08 21:05:05.024000",
         "2021-12-20 14:22:47.296000",
         "2021-12-21 14:00:33.024000",
         "2021-12-21 18:07:24.160000",
         "11 days 17:17:42.272000",
         "0 days 04:06:51.136000",
         "11.892053333333333"
        ],
        [
         "41",
         "91",
         "2021-12-09 11:30:09.536000",
         "2021-12-30 11:39:23.520000",
         null,
         null,
         "21 days 00:09:13.984000",
         "0 days 00:00:00",
         "21.00641185185185"
        ],
        [
         "42",
         "64",
         "2021-12-09 15:32:38.528000",
         "2021-12-28 11:42:21.696000",
         null,
         null,
         "18 days 20:09:43.168000",
         "0 days 00:00:00",
         "18.840082962962963"
        ],
        [
         "43",
         "50",
         "2021-12-09 23:04:50.432000",
         "2021-12-14 18:36:21.888000",
         null,
         null,
         "4 days 19:31:31.456000",
         "0 days 00:00:00",
         "4.813558518518518"
        ],
        [
         "44",
         "49",
         "2021-12-10 18:00:47.872000",
         "2021-12-11 16:46:07.872000",
         null,
         null,
         "0 days 22:45:20",
         "0 days 00:00:00",
         "0.9481481481481482"
        ],
        [
         "45",
         "52",
         "2021-12-10 22:38:14.016000",
         "2021-12-11 16:48:18.944000",
         null,
         null,
         "0 days 18:10:04.928000",
         "0 days 00:00:00",
         "0.7570014814814815"
        ],
        [
         "46",
         "18",
         "2021-12-12 16:17:20.384000",
         "2021-12-13 18:12:43.648000",
         null,
         null,
         "1 days 01:55:23.264000",
         "0 days 00:00:00",
         "1.0801303703703704"
        ],
        [
         "47",
         "0",
         "2021-12-11 16:15:32.864000",
         "2022-01-07 18:35:40.928000",
         null,
         null,
         "27 days 02:20:08.064000",
         "0 days 00:00:00",
         "27.097315555555557"
        ],
        [
         "48",
         "30",
         "2021-12-12 05:43:49.504000",
         "2021-12-14 17:00:14.720000",
         null,
         null,
         "2 days 11:16:25.216000",
         "0 days 00:00:00",
         "2.469736296296296"
        ],
        [
         "49",
         "85",
         "2021-12-12 05:46:00.576000",
         "2021-12-22 19:10:21.696000",
         null,
         null,
         "10 days 13:24:21.120000",
         "0 days 00:00:00",
         "10.558577777777778"
        ],
        [
         "50",
         "36",
         "2021-12-12 09:41:56.352000",
         "2021-12-13 15:00:29.312000",
         null,
         null,
         "1 days 05:18:32.960000",
         "0 days 00:00:00",
         "1.2212148148148148"
        ],
        [
         "51",
         "34",
         "2021-12-12 10:40:55.296000",
         "2021-12-14 10:00:48.896000",
         null,
         null,
         "1 days 23:19:53.600000",
         "0 days 00:00:00",
         "1.9721481481481482"
        ],
        [
         "52",
         "68",
         "2021-12-12 11:44:16.384000",
         "2021-12-22 18:39:46.688000",
         null,
         null,
         "10 days 06:55:30.304000",
         "0 days 00:00:00",
         "10.288545185185185"
        ]
       ],
       "shape": {
        "columns": 8,
        "rows": 5505
       }
      },
      "text/html": [
       "<div>\n",
       "<style scoped>\n",
       "    .dataframe tbody tr th:only-of-type {\n",
       "        vertical-align: middle;\n",
       "    }\n",
       "\n",
       "    .dataframe tbody tr th {\n",
       "        vertical-align: top;\n",
       "    }\n",
       "\n",
       "    .dataframe thead th {\n",
       "        text-align: right;\n",
       "    }\n",
       "</style>\n",
       "<table border=\"1\" class=\"dataframe\">\n",
       "  <thead>\n",
       "    <tr style=\"text-align: right;\">\n",
       "      <th></th>\n",
       "      <th>Age</th>\n",
       "      <th>Admission</th>\n",
       "      <th>Discharge</th>\n",
       "      <th>ReAdmission</th>\n",
       "      <th>ReAdmissionDisch</th>\n",
       "      <th>LOS</th>\n",
       "      <th>LOS_ReAdmission</th>\n",
       "      <th>LOS_Total</th>\n",
       "    </tr>\n",
       "  </thead>\n",
       "  <tbody>\n",
       "    <tr>\n",
       "      <th>0</th>\n",
       "      <td>88</td>\n",
       "      <td>2021-12-01 07:35:11.104</td>\n",
       "      <td>2021-12-01 12:08:15.104</td>\n",
       "      <td>2021-12-13 13:37:28.576</td>\n",
       "      <td>2021-12-13 16:45:20.768</td>\n",
       "      <td>0 days 04:33:04</td>\n",
       "      <td>0 days 03:07:52.192000</td>\n",
       "      <td>0.320095</td>\n",
       "    </tr>\n",
       "    <tr>\n",
       "      <th>3</th>\n",
       "      <td>48</td>\n",
       "      <td>2021-12-01 16:50:03.392</td>\n",
       "      <td>2021-12-07 19:29:21.408</td>\n",
       "      <td>2021-12-13 16:34:25.408</td>\n",
       "      <td>2021-12-19 09:26:05.056</td>\n",
       "      <td>6 days 02:39:18.016000</td>\n",
       "      <td>5 days 16:51:39.648000</td>\n",
       "      <td>11.813167</td>\n",
       "    </tr>\n",
       "    <tr>\n",
       "      <th>4</th>\n",
       "      <td>39</td>\n",
       "      <td>2021-12-01 17:42:29.120</td>\n",
       "      <td>2021-12-04 18:59:57.056</td>\n",
       "      <td>NaT</td>\n",
       "      <td>NaT</td>\n",
       "      <td>3 days 01:17:27.936000</td>\n",
       "      <td>0 days 00:00:00</td>\n",
       "      <td>3.053796</td>\n",
       "    </tr>\n",
       "    <tr>\n",
       "      <th>5</th>\n",
       "      <td>72</td>\n",
       "      <td>2021-12-01 21:23:07.392</td>\n",
       "      <td>2021-12-23 14:39:05.216</td>\n",
       "      <td>NaT</td>\n",
       "      <td>NaT</td>\n",
       "      <td>21 days 17:15:57.824000</td>\n",
       "      <td>0 days 00:00:00</td>\n",
       "      <td>21.719419</td>\n",
       "    </tr>\n",
       "    <tr>\n",
       "      <th>6</th>\n",
       "      <td>73</td>\n",
       "      <td>2021-12-02 06:37:59.680</td>\n",
       "      <td>2021-12-02 20:04:05.248</td>\n",
       "      <td>NaT</td>\n",
       "      <td>NaT</td>\n",
       "      <td>0 days 13:26:05.568000</td>\n",
       "      <td>0 days 00:00:00</td>\n",
       "      <td>0.559787</td>\n",
       "    </tr>\n",
       "    <tr>\n",
       "      <th>...</th>\n",
       "      <td>...</td>\n",
       "      <td>...</td>\n",
       "      <td>...</td>\n",
       "      <td>...</td>\n",
       "      <td>...</td>\n",
       "      <td>...</td>\n",
       "      <td>...</td>\n",
       "      <td>...</td>\n",
       "    </tr>\n",
       "    <tr>\n",
       "      <th>5613</th>\n",
       "      <td>78</td>\n",
       "      <td>2024-05-30 22:33:41.632</td>\n",
       "      <td>2024-06-03 16:44:46.976</td>\n",
       "      <td>NaT</td>\n",
       "      <td>NaT</td>\n",
       "      <td>3 days 18:11:05.344000</td>\n",
       "      <td>0 days 00:00:00</td>\n",
       "      <td>3.757701</td>\n",
       "    </tr>\n",
       "    <tr>\n",
       "      <th>5615</th>\n",
       "      <td>75</td>\n",
       "      <td>2024-05-31 17:20:54.784</td>\n",
       "      <td>2024-06-02 16:34:15.168</td>\n",
       "      <td>NaT</td>\n",
       "      <td>NaT</td>\n",
       "      <td>1 days 23:13:20.384000</td>\n",
       "      <td>0 days 00:00:00</td>\n",
       "      <td>1.967597</td>\n",
       "    </tr>\n",
       "    <tr>\n",
       "      <th>5617</th>\n",
       "      <td>80</td>\n",
       "      <td>2024-06-03 11:38:56.896</td>\n",
       "      <td>2024-06-13 18:34:27.200</td>\n",
       "      <td>NaT</td>\n",
       "      <td>NaT</td>\n",
       "      <td>10 days 06:55:30.304000</td>\n",
       "      <td>0 days 00:00:00</td>\n",
       "      <td>10.288545</td>\n",
       "    </tr>\n",
       "    <tr>\n",
       "      <th>5618</th>\n",
       "      <td>88</td>\n",
       "      <td>2024-06-03 17:52:30.208</td>\n",
       "      <td>2024-06-12 11:59:26.720</td>\n",
       "      <td>NaT</td>\n",
       "      <td>NaT</td>\n",
       "      <td>8 days 18:06:56.512000</td>\n",
       "      <td>0 days 00:00:00</td>\n",
       "      <td>8.754821</td>\n",
       "    </tr>\n",
       "    <tr>\n",
       "      <th>5619</th>\n",
       "      <td>59</td>\n",
       "      <td>2024-06-03 19:13:19.872</td>\n",
       "      <td>2024-06-05 18:31:02.400</td>\n",
       "      <td>NaT</td>\n",
       "      <td>NaT</td>\n",
       "      <td>1 days 23:17:42.528000</td>\n",
       "      <td>0 days 00:00:00</td>\n",
       "      <td>1.970631</td>\n",
       "    </tr>\n",
       "  </tbody>\n",
       "</table>\n",
       "<p>5505 rows × 8 columns</p>\n",
       "</div>"
      ],
      "text/plain": [
       "      Age               Admission               Discharge  \\\n",
       "0      88 2021-12-01 07:35:11.104 2021-12-01 12:08:15.104   \n",
       "3      48 2021-12-01 16:50:03.392 2021-12-07 19:29:21.408   \n",
       "4      39 2021-12-01 17:42:29.120 2021-12-04 18:59:57.056   \n",
       "5      72 2021-12-01 21:23:07.392 2021-12-23 14:39:05.216   \n",
       "6      73 2021-12-02 06:37:59.680 2021-12-02 20:04:05.248   \n",
       "...   ...                     ...                     ...   \n",
       "5613   78 2024-05-30 22:33:41.632 2024-06-03 16:44:46.976   \n",
       "5615   75 2024-05-31 17:20:54.784 2024-06-02 16:34:15.168   \n",
       "5617   80 2024-06-03 11:38:56.896 2024-06-13 18:34:27.200   \n",
       "5618   88 2024-06-03 17:52:30.208 2024-06-12 11:59:26.720   \n",
       "5619   59 2024-06-03 19:13:19.872 2024-06-05 18:31:02.400   \n",
       "\n",
       "                 ReAdmission        ReAdmissionDisch                     LOS  \\\n",
       "0    2021-12-13 13:37:28.576 2021-12-13 16:45:20.768         0 days 04:33:04   \n",
       "3    2021-12-13 16:34:25.408 2021-12-19 09:26:05.056  6 days 02:39:18.016000   \n",
       "4                        NaT                     NaT  3 days 01:17:27.936000   \n",
       "5                        NaT                     NaT 21 days 17:15:57.824000   \n",
       "6                        NaT                     NaT  0 days 13:26:05.568000   \n",
       "...                      ...                     ...                     ...   \n",
       "5613                     NaT                     NaT  3 days 18:11:05.344000   \n",
       "5615                     NaT                     NaT  1 days 23:13:20.384000   \n",
       "5617                     NaT                     NaT 10 days 06:55:30.304000   \n",
       "5618                     NaT                     NaT  8 days 18:06:56.512000   \n",
       "5619                     NaT                     NaT  1 days 23:17:42.528000   \n",
       "\n",
       "            LOS_ReAdmission  LOS_Total  \n",
       "0    0 days 03:07:52.192000   0.320095  \n",
       "3    5 days 16:51:39.648000  11.813167  \n",
       "4           0 days 00:00:00   3.053796  \n",
       "5           0 days 00:00:00  21.719419  \n",
       "6           0 days 00:00:00   0.559787  \n",
       "...                     ...        ...  \n",
       "5613        0 days 00:00:00   3.757701  \n",
       "5615        0 days 00:00:00   1.967597  \n",
       "5617        0 days 00:00:00  10.288545  \n",
       "5618        0 days 00:00:00   8.754821  \n",
       "5619        0 days 00:00:00   1.970631  \n",
       "\n",
       "[5505 rows x 8 columns]"
      ]
     },
     "execution_count": 2,
     "metadata": {},
     "output_type": "execute_result"
    }
   ],
   "source": [
    "los_data = get_los_data('data/patients_covid.xlsx')[0]\n",
    "los_df = load_los(los_data)\n",
    "los_df"
   ]
  },
  {
   "cell_type": "code",
   "execution_count": 3,
   "id": "7e735165",
   "metadata": {},
   "outputs": [
    {
     "name": "stdout",
     "output_type": "stream",
     "text": [
      "Shape before filtering: (275,)\n",
      "Shape after filtering: (269,)\n"
     ]
    }
   ],
   "source": [
    "from scipy.stats import zscore\n",
    "\n",
    "los_paeds = np.array(los_df.loc[los_df.Age < 16, 'LOS_Total'])\n",
    "print('Shape before filtering:', los_paeds.shape)\n",
    "\n",
    "los_paeds = los_paeds[np.abs(zscore(los_paeds)) < 3]\n",
    "print('Shape after filtering:', los_paeds.shape)"
   ]
  },
  {
   "cell_type": "code",
   "execution_count": 4,
   "id": "ea83b099",
   "metadata": {},
   "outputs": [
    {
     "name": "stderr",
     "output_type": "stream",
     "text": [
      "2025-04-15 14:11:58.936 | WARNING  | fitter.fitter:_fit_single_distribution:337 - SKIPPED _fit distribution (taking more than 10 seconds)\n",
      "2025-04-15 14:11:58.959 | INFO     | fitter.fitter:_fit_single_distribution:333 - Fitted anglit distribution with error=0.392996)\n",
      "2025-04-15 14:11:58.965 | INFO     | fitter.fitter:_fit_single_distribution:333 - Fitted alpha distribution with error=0.018194)\n",
      "2025-04-15 14:11:58.967 | INFO     | fitter.fitter:_fit_single_distribution:333 - Fitted cauchy distribution with error=0.066168)\n",
      "2025-04-15 14:11:58.977 | INFO     | fitter.fitter:_fit_single_distribution:333 - Fitted expon distribution with error=0.085925)\n",
      "2025-04-15 14:11:58.980 | INFO     | fitter.fitter:_fit_single_distribution:333 - Fitted argus distribution with error=0.415958)\n",
      "2025-04-15 14:11:58.981 | INFO     | fitter.fitter:_fit_single_distribution:333 - Fitted beta distribution with error=0.0859)\n",
      "2025-04-15 14:11:58.985 | INFO     | fitter.fitter:_fit_single_distribution:333 - Fitted bradford distribution with error=0.326789)\n",
      "2025-04-15 14:11:58.998 | INFO     | fitter.fitter:_fit_single_distribution:333 - Fitted dgamma distribution with error=0.144519)\n",
      "2025-04-15 14:11:58.999 | INFO     | fitter.fitter:_fit_single_distribution:333 - Fitted cosine distribution with error=0.353482)\n",
      "2025-04-15 14:11:59.006 | INFO     | fitter.fitter:_fit_single_distribution:333 - Fitted chi distribution with error=0.127193)\n",
      "2025-04-15 14:11:59.015 | INFO     | fitter.fitter:_fit_single_distribution:333 - Fitted dweibull distribution with error=0.185985)\n",
      "2025-04-15 14:11:59.019 | INFO     | fitter.fitter:_fit_single_distribution:333 - Fitted erlang distribution with error=0.07353)\n",
      "2025-04-15 14:11:59.027 | INFO     | fitter.fitter:_fit_single_distribution:333 - Fitted arcsine distribution with error=0.313451)\n",
      "2025-04-15 14:11:59.049 | INFO     | fitter.fitter:_fit_single_distribution:333 - Fitted fatiguelife distribution with error=0.04363)\n",
      "2025-04-15 14:11:59.053 | INFO     | fitter.fitter:_fit_single_distribution:333 - Fitted burr12 distribution with error=0.021475)\n",
      "2025-04-15 14:11:59.055 | INFO     | fitter.fitter:_fit_single_distribution:333 - Fitted foldnorm distribution with error=0.21928)\n",
      "2025-04-15 14:11:59.058 | INFO     | fitter.fitter:_fit_single_distribution:333 - Fitted gennorm distribution with error=0.153918)\n",
      "2025-04-15 14:11:59.060 | INFO     | fitter.fitter:_fit_single_distribution:333 - Fitted genhalflogistic distribution with error=0.142975)\n",
      "2025-04-15 14:11:59.060 | INFO     | fitter.fitter:_fit_single_distribution:333 - Fitted crystalball distribution with error=0.302847)\n",
      "2025-04-15 14:11:59.060 | INFO     | fitter.fitter:_fit_single_distribution:333 - Fitted exponnorm distribution with error=0.0827)\n",
      "2025-04-15 14:11:59.063 | INFO     | fitter.fitter:_fit_single_distribution:333 - Fitted gibrat distribution with error=0.031194)\n",
      "2025-04-15 14:11:59.065 | INFO     | fitter.fitter:_fit_single_distribution:333 - Fitted gumbel_r distribution with error=0.189243)\n",
      "2025-04-15 14:11:59.066 | INFO     | fitter.fitter:_fit_single_distribution:333 - Fitted halfcauchy distribution with error=0.038863)\n",
      "2025-04-15 14:11:59.068 | INFO     | fitter.fitter:_fit_single_distribution:333 - Fitted gumbel_l distribution with error=0.36632)\n",
      "2025-04-15 14:11:59.069 | INFO     | fitter.fitter:_fit_single_distribution:333 - Fitted halflogistic distribution with error=0.143205)\n",
      "2025-04-15 14:11:59.069 | INFO     | fitter.fitter:_fit_single_distribution:333 - Fitted halfnorm distribution with error=0.218944)\n",
      "2025-04-15 14:11:59.072 | INFO     | fitter.fitter:_fit_single_distribution:333 - Fitted betaprime distribution with error=0.020167)\n",
      "2025-04-15 14:11:59.072 | INFO     | fitter.fitter:_fit_single_distribution:333 - Fitted burr distribution with error=0.019533)\n",
      "2025-04-15 14:11:59.073 | INFO     | fitter.fitter:_fit_single_distribution:333 - Fitted hypsecant distribution with error=0.213193)\n",
      "2025-04-15 14:11:59.074 | INFO     | fitter.fitter:_fit_single_distribution:333 - Fitted fisk distribution with error=0.026923)\n",
      "2025-04-15 14:11:59.075 | WARNING  | fitter.fitter:_fit_single_distribution:337 - SKIPPED irwinhall distribution (taking more than 10 seconds)\n",
      "2025-04-15 14:11:59.076 | INFO     | fitter.fitter:_fit_single_distribution:333 - Fitted chi2 distribution with error=0.088029)\n",
      "2025-04-15 14:11:59.079 | INFO     | fitter.fitter:_fit_single_distribution:333 - Fitted foldcauchy distribution with error=0.031753)\n",
      "2025-04-15 14:11:59.082 | INFO     | fitter.fitter:_fit_single_distribution:333 - Fitted invweibull distribution with error=0.018239)\n",
      "2025-04-15 14:11:59.084 | INFO     | fitter.fitter:_fit_single_distribution:333 - Fitted invgamma distribution with error=0.018397)\n",
      "2025-04-15 14:11:59.085 | INFO     | fitter.fitter:_fit_single_distribution:333 - Fitted invgauss distribution with error=0.025928)\n",
      "2025-04-15 14:11:59.087 | INFO     | fitter.fitter:_fit_single_distribution:333 - Fitted genpareto distribution with error=0.055457)\n",
      "2025-04-15 14:11:59.089 | INFO     | fitter.fitter:_fit_single_distribution:333 - Fitted gengamma distribution with error=0.043118)\n",
      "2025-04-15 14:11:59.093 | INFO     | fitter.fitter:_fit_single_distribution:333 - Fitted genlogistic distribution with error=0.189272)\n",
      "2025-04-15 14:11:59.094 | WARNING  | fitter.fitter:_fit_single_distribution:337 - SKIPPED kstwo distribution (taking more than 10 seconds)\n",
      "2025-04-15 14:11:59.096 | INFO     | fitter.fitter:_fit_single_distribution:333 - Fitted f distribution with error=0.020167)\n",
      "2025-04-15 14:11:59.097 | INFO     | fitter.fitter:_fit_single_distribution:333 - Fitted laplace distribution with error=0.161287)\n",
      "2025-04-15 14:11:59.097 | INFO     | fitter.fitter:_fit_single_distribution:333 - Fitted ksone distribution with error=0.404597)\n",
      "2025-04-15 14:11:59.102 | INFO     | fitter.fitter:_fit_single_distribution:333 - Fitted landau distribution with error=0.03056)\n",
      "2025-04-15 14:11:59.103 | INFO     | fitter.fitter:_fit_single_distribution:333 - Fitted exponpow distribution with error=0.11471)\n",
      "2025-04-15 14:11:59.107 | INFO     | fitter.fitter:_fit_single_distribution:333 - Fitted gamma distribution with error=0.081376)\n",
      "2025-04-15 14:11:59.109 | INFO     | fitter.fitter:_fit_single_distribution:333 - Fitted levy distribution with error=0.074779)\n",
      "2025-04-15 14:11:59.109 | INFO     | fitter.fitter:_fit_single_distribution:333 - Fitted levy_l distribution with error=0.442313)\n",
      "2025-04-15 14:11:59.109 | INFO     | fitter.fitter:_fit_single_distribution:333 - Fitted johnsonsu distribution with error=0.019133)\n",
      "2025-04-15 14:11:59.113 | INFO     | fitter.fitter:_fit_single_distribution:333 - Fitted laplace_asymmetric distribution with error=0.085092)\n",
      "2025-04-15 14:11:59.115 | INFO     | fitter.fitter:_fit_single_distribution:333 - Fitted logistic distribution with error=0.239162)\n",
      "2025-04-15 14:11:59.117 | INFO     | fitter.fitter:_fit_single_distribution:333 - Fitted kappa3 distribution with error=0.043757)\n",
      "2025-04-15 14:11:59.118 | INFO     | fitter.fitter:_fit_single_distribution:333 - Fitted lognorm distribution with error=0.03184)\n",
      "2025-04-15 14:11:59.120 | INFO     | fitter.fitter:_fit_single_distribution:333 - Fitted genextreme distribution with error=0.018239)\n",
      "2025-04-15 14:11:59.126 | WARNING  | fitter.fitter:_fit_single_distribution:337 - SKIPPED multivariate_normal distribution (taking more than 10 seconds)\n",
      "2025-04-15 14:11:59.128 | INFO     | fitter.fitter:_fit_single_distribution:333 - Fitted moyal distribution with error=0.153925)\n",
      "2025-04-15 14:11:59.128 | INFO     | fitter.fitter:_fit_single_distribution:333 - Fitted maxwell distribution with error=0.276395)\n",
      "2025-04-15 14:11:59.129 | INFO     | fitter.fitter:_fit_single_distribution:333 - Fitted jf_skew_t distribution with error=0.018462)\n",
      "2025-04-15 14:11:59.131 | INFO     | fitter.fitter:_fit_single_distribution:333 - Fitted dpareto_lognorm distribution with error=0.019876)\n",
      "2025-04-15 14:11:59.132 | INFO     | fitter.fitter:_fit_single_distribution:333 - Fitted norm distribution with error=0.302847)\n",
      "2025-04-15 14:11:59.136 | INFO     | fitter.fitter:_fit_single_distribution:333 - Fitted pareto distribution with error=0.056193)\n",
      "2025-04-15 14:11:59.138 | INFO     | fitter.fitter:_fit_single_distribution:333 - Fitted exponweib distribution with error=0.025488)\n",
      "2025-04-15 14:11:59.141 | INFO     | fitter.fitter:_fit_single_distribution:333 - Fitted rayleigh distribution with error=0.269792)\n",
      "2025-04-15 14:11:59.142 | INFO     | fitter.fitter:_fit_single_distribution:333 - Fitted halfgennorm distribution with error=0.073157)\n",
      "2025-04-15 14:11:59.143 | INFO     | fitter.fitter:_fit_single_distribution:333 - Fitted loguniform distribution with error=0.17705)\n",
      "2025-04-15 14:11:59.144 | INFO     | fitter.fitter:_fit_single_distribution:333 - Fitted powerlaw distribution with error=0.188001)\n",
      "2025-04-15 14:11:59.146 | INFO     | fitter.fitter:_fit_single_distribution:333 - Fitted loglaplace distribution with error=0.031279)\n",
      "2025-04-15 14:11:59.146 | INFO     | fitter.fitter:_fit_single_distribution:333 - Fitted lomax distribution with error=0.056193)\n",
      "2025-04-15 14:11:59.147 | INFO     | fitter.fitter:_fit_single_distribution:333 - Fitted loggamma distribution with error=0.305469)\n",
      "2025-04-15 14:11:59.149 | WARNING  | fitter.fitter:_fit_single_distribution:337 - SKIPPED rv_histogram distribution (taking more than 10 seconds)\n",
      "2025-04-15 14:11:59.149 | INFO     | fitter.fitter:_fit_single_distribution:333 - Fitted mielke distribution with error=0.019534)\n",
      "2025-04-15 14:11:59.151 | WARNING  | fitter.fitter:_fit_single_distribution:337 - SKIPPED rv_continuous distribution (taking more than 10 seconds)\n",
      "2025-04-15 14:11:59.151 | INFO     | fitter.fitter:_fit_single_distribution:333 - Fitted gompertz distribution with error=0.085262)\n",
      "2025-04-15 14:11:59.159 | INFO     | fitter.fitter:_fit_single_distribution:333 - Fitted geninvgauss distribution with error=0.021803)\n",
      "2025-04-15 14:11:59.162 | INFO     | fitter.fitter:_fit_single_distribution:333 - Fitted semicircular distribution with error=0.404762)\n",
      "2025-04-15 14:11:59.163 | INFO     | fitter.fitter:_fit_single_distribution:333 - Fitted rice distribution with error=0.269792)\n",
      "2025-04-15 14:11:59.167 | INFO     | fitter.fitter:_fit_single_distribution:333 - Fitted skewcauchy distribution with error=0.044304)\n",
      "2025-04-15 14:11:59.170 | INFO     | fitter.fitter:_fit_single_distribution:333 - Fitted nakagami distribution with error=0.147617)\n",
      "2025-04-15 14:11:59.175 | INFO     | fitter.fitter:_fit_single_distribution:333 - Fitted uniform distribution with error=0.402881)\n",
      "2025-04-15 14:11:59.176 | INFO     | fitter.fitter:_fit_single_distribution:333 - Fitted reciprocal distribution with error=0.17705)\n",
      "2025-04-15 14:11:59.178 | WARNING  | fitter.fitter:_fit_single_distribution:337 - SKIPPED vonmises_fisher distribution (taking more than 10 seconds)\n",
      "2025-04-15 14:11:59.180 | INFO     | fitter.fitter:_fit_single_distribution:333 - Fitted vonmises distribution with error=3.259012)\n",
      "2025-04-15 14:11:59.184 | INFO     | fitter.fitter:_fit_single_distribution:333 - Fitted trapezoid distribution with error=0.481849)\n",
      "2025-04-15 14:11:59.185 | INFO     | fitter.fitter:_fit_single_distribution:333 - Fitted t distribution with error=0.066957)\n",
      "2025-04-15 14:11:59.187 | INFO     | fitter.fitter:_fit_single_distribution:333 - Fitted kstwobign distribution with error=0.235154)\n",
      "2025-04-15 14:11:59.187 | INFO     | fitter.fitter:_fit_single_distribution:333 - Fitted truncpareto distribution with error=0.061494)\n",
      "2025-04-15 14:11:59.190 | INFO     | fitter.fitter:_fit_single_distribution:333 - Fitted wald distribution with error=0.044588)\n",
      "2025-04-15 14:11:59.191 | INFO     | fitter.fitter:_fit_single_distribution:333 - Fitted trapz distribution with error=0.481849)\n",
      "2025-04-15 14:11:59.192 | INFO     | fitter.fitter:_fit_single_distribution:333 - Fitted rel_breitwigner distribution with error=0.105835)\n",
      "2025-04-15 14:11:59.194 | INFO     | fitter.fitter:_fit_single_distribution:333 - Fitted rdist distribution with error=0.30294)\n",
      "2025-04-15 14:11:59.195 | INFO     | fitter.fitter:_fit_single_distribution:333 - Fitted truncexpon distribution with error=0.348543)\n",
      "2025-04-15 14:11:59.198 | INFO     | fitter.fitter:_fit_single_distribution:333 - Fitted wrapcauchy distribution with error=0.247228)\n",
      "2025-04-15 14:11:59.202 | INFO     | fitter.fitter:_fit_single_distribution:333 - Fitted truncweibull_min distribution with error=0.123093)\n",
      "2025-04-15 14:11:59.203 | INFO     | fitter.fitter:_fit_single_distribution:333 - Fitted weibull_max distribution with error=0.66141)\n",
      "2025-04-15 14:11:59.208 | INFO     | fitter.fitter:_fit_single_distribution:333 - Fitted genexpon distribution with error=0.085924)\n",
      "2025-04-15 14:11:59.217 | INFO     | fitter.fitter:_fit_single_distribution:333 - Fitted johnsonsb distribution with error=0.034536)\n",
      "2025-04-15 14:11:59.223 | INFO     | fitter.fitter:_fit_single_distribution:333 - Fitted pearson3 distribution with error=0.078599)\n",
      "2025-04-15 14:11:59.227 | INFO     | fitter.fitter:_fit_single_distribution:333 - Fitted powernorm distribution with error=nan)\n",
      "2025-04-15 14:11:59.233 | INFO     | fitter.fitter:_fit_single_distribution:333 - Fitted weibull_min distribution with error=0.080606)\n",
      "2025-04-15 14:11:59.240 | INFO     | fitter.fitter:_fit_single_distribution:333 - Fitted skewnorm distribution with error=0.218944)\n",
      "2025-04-15 14:11:59.242 | INFO     | fitter.fitter:_fit_single_distribution:333 - Fitted ncf distribution with error=0.019048)\n",
      "2025-04-15 14:11:59.254 | INFO     | fitter.fitter:_fit_single_distribution:333 - Fitted truncnorm distribution with error=0.196944)\n",
      "2025-04-15 14:11:59.259 | INFO     | fitter.fitter:_fit_single_distribution:333 - Fitted genhyperbolic distribution with error=0.020575)\n",
      "2025-04-15 14:11:59.266 | INFO     | fitter.fitter:_fit_single_distribution:333 - Fitted triang distribution with error=0.326856)\n",
      "2025-04-15 14:11:59.310 | INFO     | fitter.fitter:_fit_single_distribution:333 - Fitted powerlognorm distribution with error=0.023859)\n",
      "2025-04-15 14:11:59.317 | INFO     | fitter.fitter:_fit_single_distribution:333 - Fitted ncx2 distribution with error=0.093805)\n",
      "2025-04-15 14:11:59.362 | INFO     | fitter.fitter:_fit_single_distribution:333 - Fitted kappa4 distribution with error=0.18584)\n",
      "2025-04-15 14:11:59.371 | INFO     | fitter.fitter:_fit_single_distribution:333 - Fitted nct distribution with error=0.01841)\n",
      "2025-04-15 14:11:59.378 | INFO     | fitter.fitter:_fit_single_distribution:333 - Fitted gausshyper distribution with error=0.163199)\n",
      "2025-04-15 14:11:59.387 | INFO     | fitter.fitter:_fit_single_distribution:333 - Fitted vonmises_line distribution with error=0.279663)\n",
      "2025-04-15 14:11:59.388 | INFO     | fitter.fitter:_fit_single_distribution:333 - Fitted norminvgauss distribution with error=0.018943)\n",
      "2025-04-15 14:11:59.448 | INFO     | fitter.fitter:_fit_single_distribution:333 - Fitted tukeylambda distribution with error=0.153457)\n",
      "2025-04-15 14:11:59.909 | INFO     | fitter.fitter:_fit_single_distribution:333 - Fitted recipinvgauss distribution with error=0.061987)\n",
      "2025-04-15 14:12:01.169 | WARNING  | fitter.fitter:_fit_single_distribution:337 - SKIPPED levy_stable distribution (taking more than 10 seconds)\n",
      "/home/yinchi/Desktop/git_projects/cuh-resp-model/.venv/lib/python3.13/site-packages/scipy/integrate/_quadpack_py.py:1260: IntegrationWarning: The maximum number of subdivisions (50) has been achieved.\n",
      "  If increasing the limit yields no improvement it is advised to analyze \n",
      "  the integrand in order to determine the difficulties.  If the position of a \n",
      "  local difficulty can be determined (singularity, discontinuity) one will \n",
      "  probably gain from splitting up the interval and calling the integrator \n",
      "  on the subranges.  Perhaps a special-purpose integrator should be used.\n",
      "  quad_r = quad(f, low, high, args=args, full_output=self.full_output,\n",
      "/home/yinchi/Desktop/git_projects/cuh-resp-model/.venv/lib/python3.13/site-packages/scipy/integrate/_quadpack_py.py:1260: IntegrationWarning: The integral is probably divergent, or slowly convergent.\n",
      "  quad_r = quad(f, low, high, args=args, full_output=self.full_output,\n",
      "2025-04-15 14:12:09.173 | WARNING  | fitter.fitter:_fit_single_distribution:337 - SKIPPED studentized_range distribution (taking more than 10 seconds)\n"
     ]
    }
   ],
   "source": [
    "import fitter\n",
    "\n",
    "f = fitter.Fitter(los_paeds, timeout=10)\n",
    "f.fit()"
   ]
  },
  {
   "cell_type": "code",
   "execution_count": 5,
   "id": "4b019dea",
   "metadata": {},
   "outputs": [
    {
     "data": {
      "application/vnd.microsoft.datawrangler.viewer.v0+json": {
       "columns": [
        {
         "name": "index",
         "rawType": "object",
         "type": "string"
        },
        {
         "name": "sumsquare_error",
         "rawType": "float64",
         "type": "float"
        },
        {
         "name": "aic",
         "rawType": "float64",
         "type": "float"
        },
        {
         "name": "bic",
         "rawType": "float64",
         "type": "float"
        },
        {
         "name": "ks_pvalue",
         "rawType": "float64",
         "type": "float"
        }
       ],
       "conversionMethod": "pd.DataFrame",
       "ref": "fc4b58f8-9302-408f-a234-9f1c8aafb586",
       "rows": [
        [
         "alpha",
         "0.018194006303675094",
         "1084.4202549557097",
         "1095.2043890945151",
         "0.9310872916023805"
        ],
        [
         "genextreme",
         "0.018238900383901965",
         "1098.4832191142805",
         "1109.267353253086",
         "0.8245247630986393"
        ],
        [
         "invweibull",
         "0.018239345760624543",
         "1098.4846445616886",
         "1109.268778700494",
         "0.8244847392594268"
        ],
        [
         "invgamma",
         "0.018397417535095738",
         "1100.1094561497364",
         "1110.8935902885419",
         "0.807803036867499"
        ],
        [
         "nct",
         "0.018410053269179622",
         "1103.591174389194",
         "1117.9700199076015",
         "0.7345425735746224"
        ],
        [
         "jf_skew_t",
         "0.018462321388654154",
         "1103.5230093517907",
         "1117.9018548701981",
         "0.7319952035122201"
        ],
        [
         "norminvgauss",
         "0.01894307833405239",
         "1078.7862690192649",
         "1093.1651145376723",
         "0.8039125791475032"
        ],
        [
         "ncf",
         "0.019048463432694153",
         "1121.0644987670594",
         "1139.0380556650687",
         "0.4873000496062527"
        ],
        [
         "johnsonsu",
         "0.01913321016539219",
         "1090.0575757851682",
         "1104.4364213035756",
         "0.6401514298922649"
        ],
        [
         "burr",
         "0.01953349591668812",
         "1101.0766248766756",
         "1115.455470395083",
         "0.8399428197725365"
        ],
        [
         "mielke",
         "0.019533509007012537",
         "1101.0757481611297",
         "1115.454593679537",
         "0.83996285967024"
        ],
        [
         "dpareto_lognorm",
         "0.01987637704622941",
         "1112.7540498201774",
         "1134.3223180977884",
         "0.7265461480201042"
        ],
        [
         "f",
         "0.020166603988194014",
         "1102.3999298954163",
         "1116.7787754138237",
         "0.7380173820026896"
        ],
        [
         "betaprime",
         "0.020166604990217784",
         "1102.39907294778",
         "1116.7779184661874",
         "0.738022311853543"
        ],
        [
         "genhyperbolic",
         "0.020574798533558092",
         "1075.6708185876037",
         "1093.644375485613",
         "0.7438535651526741"
        ],
        [
         "burr12",
         "0.02147452532648935",
         "1105.8599497031742",
         "1120.2387952215815",
         "0.74911021075823"
        ],
        [
         "geninvgauss",
         "0.021803351400032613",
         "1082.8909720074942",
         "1097.2698175259015",
         "0.48100168353407435"
        ],
        [
         "powerlognorm",
         "0.023859199854893723",
         "1094.4528608293385",
         "1108.831706347746",
         "0.36701744020434857"
        ],
        [
         "exponweib",
         "0.025488346817034473",
         "1095.800402940528",
         "1110.1792484589355",
         "0.3692092062477351"
        ],
        [
         "invgauss",
         "0.025928206103681677",
         "1075.298940004997",
         "1086.0830741438024",
         "0.2524599894148779"
        ],
        [
         "fisk",
         "0.026923033089251206",
         "1109.3630967727045",
         "1120.14723091151",
         "0.5313586691040171"
        ],
        [
         "landau",
         "0.030560276819644665",
         "1171.0208986842338",
         "1178.2103214434374",
         "0.025903368957183814"
        ],
        [
         "gibrat",
         "0.031194383537572503",
         "1189.2071439969586",
         "1196.3965667561622",
         "0.05688474938574595"
        ],
        [
         "loglaplace",
         "0.0312794007940549",
         "1115.0722939348814",
         "1125.8564280736869",
         "0.3757671883533109"
        ],
        [
         "foldcauchy",
         "0.031752995790611145",
         "1100.5959528345297",
         "1111.3800869733352",
         "0.4778574371398774"
        ],
        [
         "lognorm",
         "0.03183977612709082",
         "1097.5164099059105",
         "1108.300544044716",
         "0.1721384564575451"
        ],
        [
         "johnsonsb",
         "0.034535530449865945",
         "1095.845630515864",
         "1110.2244760342714",
         "0.12896083851155282"
        ],
        [
         "halfcauchy",
         "0.03886347328335305",
         "1078.8656564788375",
         "1086.0550792380411",
         "0.2928814953326131"
        ],
        [
         "gengamma",
         "0.04311774031255425",
         "1108.5511915302566",
         "1122.930037048664",
         "0.029018959428830482"
        ],
        [
         "fatiguelife",
         "0.04362953790130227",
         "1080.2212242806434",
         "1091.0053584194488",
         "0.004519287720200509"
        ],
        [
         "kappa3",
         "0.04375665777469782",
         "1103.520915183649",
         "1114.3050493224546",
         "0.28141908419957706"
        ],
        [
         "skewcauchy",
         "0.044303500129013476",
         "1041.726391243259",
         "1052.5105253820645",
         "0.0008554903608999968"
        ],
        [
         "wald",
         "0.04458824866957571",
         "1227.7057322469186",
         "1234.8951550061222",
         "0.0015575271211135198"
        ],
        [
         "genpareto",
         "0.05545723086041512",
         "1092.230286066781",
         "1103.0144202055865",
         "0.08531336170564197"
        ],
        [
         "lomax",
         "0.05619321861800219",
         "1093.3632103320988",
         "1104.1473444709043",
         "0.1262734087930819"
        ],
        [
         "pareto",
         "0.05619331980731041",
         "1093.3653842790454",
         "1104.149518417851",
         "0.12629118630176384"
        ],
        [
         "truncpareto",
         "0.06149441520500579",
         "1047.9458809405528",
         "1062.3247264589602",
         "0.08882943236804519"
        ],
        [
         "recipinvgauss",
         "0.06198711829861697",
         "1126.8422674589256",
         "1137.626401597731",
         "4.976517865983007e-05"
        ],
        [
         "cauchy",
         "0.06616827715178177",
         "1272.9320127199953",
         "1280.121435479199",
         "9.523031051637466e-11"
        ],
        [
         "t",
         "0.0669572237757687",
         "1251.189481962536",
         "1261.9736161013416",
         "4.1197453911764186e-11"
        ],
        [
         "halfgennorm",
         "0.07315708526215953",
         "1092.0012973297455",
         "1102.785431468551",
         "0.01771281049458608"
        ],
        [
         "erlang",
         "0.07352966606709753",
         "1379.7963609411838",
         "1390.5804950799893",
         "0.010811040411031274"
        ],
        [
         "levy",
         "0.07477888528046832",
         "1007.0604997475309",
         "1014.2499225067346",
         "6.970095031570897e-06"
        ],
        [
         "pearson3",
         "0.07859856696960944",
         "1237.5937096110392",
         "1248.3778437498447",
         "0.008187002062681168"
        ],
        [
         "weibull_min",
         "0.08060559421261262",
         "1098.281942688721",
         "1109.0660768275266",
         "0.0007376821551272047"
        ],
        [
         "gamma",
         "0.08137571162053064",
         "1188.637270736948",
         "1199.4214048757535",
         "0.0010021902852028234"
        ],
        [
         "exponnorm",
         "0.0827000190803899",
         "1242.955873090783",
         "1253.7400072295884",
         "1.5716242032513355e-10"
        ],
        [
         "laplace_asymmetric",
         "0.08509203616828692",
         "1236.7484772184193",
         "1247.5326113572248",
         "3.373385625356662e-10"
        ],
        [
         "gompertz",
         "0.08526249132991051",
         "1238.4923102853481",
         "1249.2764444241536",
         "6.140733936766474e-10"
        ],
        [
         "beta",
         "0.08589974092859787",
         "1141.8668151619418",
         "1156.2456606803491",
         "1.9037872604833637e-05"
        ]
       ],
       "shape": {
        "columns": 4,
        "rows": 106
       }
      },
      "text/html": [
       "<div>\n",
       "<style scoped>\n",
       "    .dataframe tbody tr th:only-of-type {\n",
       "        vertical-align: middle;\n",
       "    }\n",
       "\n",
       "    .dataframe tbody tr th {\n",
       "        vertical-align: top;\n",
       "    }\n",
       "\n",
       "    .dataframe thead th {\n",
       "        text-align: right;\n",
       "    }\n",
       "</style>\n",
       "<table border=\"1\" class=\"dataframe\">\n",
       "  <thead>\n",
       "    <tr style=\"text-align: right;\">\n",
       "      <th></th>\n",
       "      <th>sumsquare_error</th>\n",
       "      <th>aic</th>\n",
       "      <th>bic</th>\n",
       "      <th>ks_pvalue</th>\n",
       "    </tr>\n",
       "  </thead>\n",
       "  <tbody>\n",
       "    <tr>\n",
       "      <th>alpha</th>\n",
       "      <td>0.018194</td>\n",
       "      <td>1084.420255</td>\n",
       "      <td>1095.204389</td>\n",
       "      <td>9.310873e-01</td>\n",
       "    </tr>\n",
       "    <tr>\n",
       "      <th>genextreme</th>\n",
       "      <td>0.018239</td>\n",
       "      <td>1098.483219</td>\n",
       "      <td>1109.267353</td>\n",
       "      <td>8.245248e-01</td>\n",
       "    </tr>\n",
       "    <tr>\n",
       "      <th>invweibull</th>\n",
       "      <td>0.018239</td>\n",
       "      <td>1098.484645</td>\n",
       "      <td>1109.268779</td>\n",
       "      <td>8.244847e-01</td>\n",
       "    </tr>\n",
       "    <tr>\n",
       "      <th>invgamma</th>\n",
       "      <td>0.018397</td>\n",
       "      <td>1100.109456</td>\n",
       "      <td>1110.893590</td>\n",
       "      <td>8.078030e-01</td>\n",
       "    </tr>\n",
       "    <tr>\n",
       "      <th>nct</th>\n",
       "      <td>0.018410</td>\n",
       "      <td>1103.591174</td>\n",
       "      <td>1117.970020</td>\n",
       "      <td>7.345426e-01</td>\n",
       "    </tr>\n",
       "    <tr>\n",
       "      <th>...</th>\n",
       "      <td>...</td>\n",
       "      <td>...</td>\n",
       "      <td>...</td>\n",
       "      <td>...</td>\n",
       "    </tr>\n",
       "    <tr>\n",
       "      <th>levy_l</th>\n",
       "      <td>0.442313</td>\n",
       "      <td>964.936625</td>\n",
       "      <td>972.126047</td>\n",
       "      <td>5.091076e-100</td>\n",
       "    </tr>\n",
       "    <tr>\n",
       "      <th>trapezoid</th>\n",
       "      <td>0.481849</td>\n",
       "      <td>811.919564</td>\n",
       "      <td>826.298409</td>\n",
       "      <td>1.477764e-189</td>\n",
       "    </tr>\n",
       "    <tr>\n",
       "      <th>trapz</th>\n",
       "      <td>0.481849</td>\n",
       "      <td>811.919564</td>\n",
       "      <td>826.298409</td>\n",
       "      <td>1.477764e-189</td>\n",
       "    </tr>\n",
       "    <tr>\n",
       "      <th>weibull_max</th>\n",
       "      <td>0.661410</td>\n",
       "      <td>1068.168012</td>\n",
       "      <td>1078.952146</td>\n",
       "      <td>4.354381e-194</td>\n",
       "    </tr>\n",
       "    <tr>\n",
       "      <th>vonmises</th>\n",
       "      <td>3.259012</td>\n",
       "      <td>414.380384</td>\n",
       "      <td>425.164518</td>\n",
       "      <td>0.000000e+00</td>\n",
       "    </tr>\n",
       "  </tbody>\n",
       "</table>\n",
       "<p>106 rows × 4 columns</p>\n",
       "</div>"
      ],
      "text/plain": [
       "             sumsquare_error          aic          bic      ks_pvalue\n",
       "alpha               0.018194  1084.420255  1095.204389   9.310873e-01\n",
       "genextreme          0.018239  1098.483219  1109.267353   8.245248e-01\n",
       "invweibull          0.018239  1098.484645  1109.268779   8.244847e-01\n",
       "invgamma            0.018397  1100.109456  1110.893590   8.078030e-01\n",
       "nct                 0.018410  1103.591174  1117.970020   7.345426e-01\n",
       "...                      ...          ...          ...            ...\n",
       "levy_l              0.442313   964.936625   972.126047  5.091076e-100\n",
       "trapezoid           0.481849   811.919564   826.298409  1.477764e-189\n",
       "trapz               0.481849   811.919564   826.298409  1.477764e-189\n",
       "weibull_max         0.661410  1068.168012  1078.952146  4.354381e-194\n",
       "vonmises            3.259012   414.380384   425.164518   0.000000e+00\n",
       "\n",
       "[106 rows x 4 columns]"
      ]
     },
     "execution_count": 5,
     "metadata": {},
     "output_type": "execute_result"
    }
   ],
   "source": [
    "fit_df = f.df_errors.sort_values('sumsquare_error')[['sumsquare_error', 'aic', 'bic', 'ks_pvalue']]\n",
    "fit_df = fit_df.loc[np.isfinite(fit_df.sumsquare_error)].sort_values('sumsquare_error')\n",
    "fit_df"
   ]
  },
  {
   "cell_type": "code",
   "execution_count": 6,
   "id": "a5ddefb4",
   "metadata": {},
   "outputs": [
    {
     "data": {
      "application/vnd.microsoft.datawrangler.viewer.v0+json": {
       "columns": [
        {
         "name": "index",
         "rawType": "object",
         "type": "string"
        },
        {
         "name": "sumsquare_error",
         "rawType": "float64",
         "type": "float"
        },
        {
         "name": "aic",
         "rawType": "float64",
         "type": "float"
        },
        {
         "name": "bic",
         "rawType": "float64",
         "type": "float"
        },
        {
         "name": "ks_pvalue",
         "rawType": "float64",
         "type": "float"
        },
        {
         "name": "dist_mean",
         "rawType": "float64",
         "type": "float"
        },
        {
         "name": "dist_std",
         "rawType": "float64",
         "type": "float"
        }
       ],
       "conversionMethod": "pd.DataFrame",
       "ref": "f240745d-1b52-40ef-8894-5e109774f4cb",
       "rows": [
        [
         "alpha",
         "0.018194006303675094",
         "1084.4202549557097",
         "1095.2043890945151",
         "0.9310872916023805",
         null,
         null
        ],
        [
         "genextreme",
         "0.018238900383901965",
         "1098.4832191142805",
         "1109.267353253086",
         "0.8245247630986393",
         null,
         null
        ],
        [
         "invweibull",
         "0.018239345760624543",
         "1098.4846445616886",
         "1109.268778700494",
         "0.8244847392594268",
         null,
         null
        ],
        [
         "invgamma",
         "0.018397417535095738",
         "1100.1094561497364",
         "1110.8935902885419",
         "0.807803036867499",
         null,
         null
        ],
        [
         "nct",
         "0.018410053269179622",
         "1103.591174389194",
         "1117.9700199076015",
         "0.7345425735746224",
         null,
         null
        ],
        [
         "jf_skew_t",
         "0.018462321388654154",
         "1103.5230093517907",
         "1117.9018548701981",
         "0.7319952035122201",
         null,
         null
        ],
        [
         "norminvgauss",
         "0.01894307833405239",
         "1078.7862690192649",
         "1093.1651145376723",
         "0.8039125791475032",
         null,
         null
        ],
        [
         "ncf",
         "0.019048463432694153",
         "1121.0644987670594",
         "1139.0380556650687",
         "0.4873000496062527",
         null,
         null
        ],
        [
         "johnsonsu",
         "0.01913321016539219",
         "1090.0575757851682",
         "1104.4364213035756",
         "0.6401514298922649",
         null,
         null
        ],
        [
         "burr",
         "0.01953349591668812",
         "1101.0766248766756",
         "1115.455470395083",
         "0.8399428197725365",
         null,
         null
        ],
        [
         "mielke",
         "0.019533509007012537",
         "1101.0757481611297",
         "1115.454593679537",
         "0.83996285967024",
         null,
         null
        ],
        [
         "dpareto_lognorm",
         "0.01987637704622941",
         "1112.7540498201774",
         "1134.3223180977884",
         "0.7265461480201042",
         null,
         null
        ],
        [
         "f",
         "0.020166603988194014",
         "1102.3999298954163",
         "1116.7787754138237",
         "0.7380173820026896",
         null,
         null
        ],
        [
         "betaprime",
         "0.020166604990217784",
         "1102.39907294778",
         "1116.7779184661874",
         "0.738022311853543",
         null,
         null
        ],
        [
         "genhyperbolic",
         "0.020574798533558092",
         "1075.6708185876037",
         "1093.644375485613",
         "0.7438535651526741",
         null,
         null
        ],
        [
         "burr12",
         "0.02147452532648935",
         "1105.8599497031742",
         "1120.2387952215815",
         "0.74911021075823",
         null,
         null
        ],
        [
         "geninvgauss",
         "0.021803351400032613",
         "1082.8909720074942",
         "1097.2698175259015",
         "0.48100168353407435",
         null,
         null
        ],
        [
         "powerlognorm",
         "0.023859199854893723",
         "1094.4528608293385",
         "1108.831706347746",
         "0.36701744020434857",
         null,
         null
        ],
        [
         "exponweib",
         "0.025488346817034473",
         "1095.800402940528",
         "1110.1792484589355",
         "0.3692092062477351",
         null,
         null
        ],
        [
         "invgauss",
         "0.025928206103681677",
         "1075.298940004997",
         "1086.0830741438024",
         "0.2524599894148779",
         null,
         null
        ],
        [
         "fisk",
         "0.026923033089251206",
         "1109.3630967727045",
         "1120.14723091151",
         "0.5313586691040171",
         null,
         null
        ],
        [
         "landau",
         "0.030560276819644665",
         "1171.0208986842338",
         "1178.2103214434374",
         "0.025903368957183814",
         null,
         null
        ],
        [
         "gibrat",
         "0.031194383537572503",
         "1189.2071439969586",
         "1196.3965667561622",
         "0.05688474938574595",
         null,
         null
        ],
        [
         "loglaplace",
         "0.0312794007940549",
         "1115.0722939348814",
         "1125.8564280736869",
         "0.3757671883533109",
         null,
         null
        ],
        [
         "foldcauchy",
         "0.031752995790611145",
         "1100.5959528345297",
         "1111.3800869733352",
         "0.4778574371398774",
         null,
         null
        ],
        [
         "lognorm",
         "0.03183977612709082",
         "1097.5164099059105",
         "1108.300544044716",
         "0.1721384564575451",
         null,
         null
        ],
        [
         "johnsonsb",
         "0.034535530449865945",
         "1095.845630515864",
         "1110.2244760342714",
         "0.12896083851155282",
         null,
         null
        ],
        [
         "halfcauchy",
         "0.03886347328335305",
         "1078.8656564788375",
         "1086.0550792380411",
         "0.2928814953326131",
         null,
         null
        ],
        [
         "gengamma",
         "0.04311774031255425",
         "1108.5511915302566",
         "1122.930037048664",
         "0.029018959428830482",
         null,
         null
        ],
        [
         "fatiguelife",
         "0.04362953790130227",
         "1080.2212242806434",
         "1091.0053584194488",
         "0.004519287720200509",
         null,
         null
        ],
        [
         "kappa3",
         "0.04375665777469782",
         "1103.520915183649",
         "1114.3050493224546",
         "0.28141908419957706",
         null,
         null
        ],
        [
         "skewcauchy",
         "0.044303500129013476",
         "1041.726391243259",
         "1052.5105253820645",
         "0.0008554903608999968",
         null,
         null
        ],
        [
         "wald",
         "0.04458824866957571",
         "1227.7057322469186",
         "1234.8951550061222",
         "0.0015575271211135198",
         null,
         null
        ],
        [
         "genpareto",
         "0.05545723086041512",
         "1092.230286066781",
         "1103.0144202055865",
         "0.08531336170564197",
         null,
         null
        ],
        [
         "lomax",
         "0.05619321861800219",
         "1093.3632103320988",
         "1104.1473444709043",
         "0.1262734087930819",
         null,
         null
        ],
        [
         "pareto",
         "0.05619331980731041",
         "1093.3653842790454",
         "1104.149518417851",
         "0.12629118630176384",
         null,
         null
        ],
        [
         "truncpareto",
         "0.06149441520500579",
         "1047.9458809405528",
         "1062.3247264589602",
         "0.08882943236804519",
         null,
         null
        ],
        [
         "recipinvgauss",
         "0.06198711829861697",
         "1126.8422674589256",
         "1137.626401597731",
         "4.976517865983007e-05",
         null,
         null
        ],
        [
         "cauchy",
         "0.06616827715178177",
         "1272.9320127199953",
         "1280.121435479199",
         "9.523031051637466e-11",
         null,
         null
        ],
        [
         "t",
         "0.0669572237757687",
         "1251.189481962536",
         "1261.9736161013416",
         "4.1197453911764186e-11",
         null,
         null
        ],
        [
         "halfgennorm",
         "0.07315708526215953",
         "1092.0012973297455",
         "1102.785431468551",
         "0.01771281049458608",
         null,
         null
        ],
        [
         "erlang",
         "0.07352966606709753",
         "1379.7963609411838",
         "1390.5804950799893",
         "0.010811040411031274",
         null,
         null
        ],
        [
         "levy",
         "0.07477888528046832",
         "1007.0604997475309",
         "1014.2499225067346",
         "6.970095031570897e-06",
         null,
         null
        ],
        [
         "pearson3",
         "0.07859856696960944",
         "1237.5937096110392",
         "1248.3778437498447",
         "0.008187002062681168",
         null,
         null
        ],
        [
         "weibull_min",
         "0.08060559421261262",
         "1098.281942688721",
         "1109.0660768275266",
         "0.0007376821551272047",
         null,
         null
        ],
        [
         "gamma",
         "0.08137571162053064",
         "1188.637270736948",
         "1199.4214048757535",
         "0.0010021902852028234",
         null,
         null
        ],
        [
         "exponnorm",
         "0.0827000190803899",
         "1242.955873090783",
         "1253.7400072295884",
         "1.5716242032513355e-10",
         null,
         null
        ],
        [
         "laplace_asymmetric",
         "0.08509203616828692",
         "1236.7484772184193",
         "1247.5326113572248",
         "3.373385625356662e-10",
         null,
         null
        ],
        [
         "gompertz",
         "0.08526249132991051",
         "1238.4923102853481",
         "1249.2764444241536",
         "6.140733936766474e-10",
         null,
         null
        ],
        [
         "beta",
         "0.08589974092859787",
         "1141.8668151619418",
         "1156.2456606803491",
         "1.9037872604833637e-05",
         null,
         null
        ]
       ],
       "shape": {
        "columns": 6,
        "rows": 106
       }
      },
      "text/html": [
       "<div>\n",
       "<style scoped>\n",
       "    .dataframe tbody tr th:only-of-type {\n",
       "        vertical-align: middle;\n",
       "    }\n",
       "\n",
       "    .dataframe tbody tr th {\n",
       "        vertical-align: top;\n",
       "    }\n",
       "\n",
       "    .dataframe thead th {\n",
       "        text-align: right;\n",
       "    }\n",
       "</style>\n",
       "<table border=\"1\" class=\"dataframe\">\n",
       "  <thead>\n",
       "    <tr style=\"text-align: right;\">\n",
       "      <th></th>\n",
       "      <th>sumsquare_error</th>\n",
       "      <th>aic</th>\n",
       "      <th>bic</th>\n",
       "      <th>ks_pvalue</th>\n",
       "      <th>dist_mean</th>\n",
       "      <th>dist_std</th>\n",
       "    </tr>\n",
       "  </thead>\n",
       "  <tbody>\n",
       "    <tr>\n",
       "      <th>alpha</th>\n",
       "      <td>0.018194</td>\n",
       "      <td>1084.420255</td>\n",
       "      <td>1095.204389</td>\n",
       "      <td>9.310873e-01</td>\n",
       "      <td>NaN</td>\n",
       "      <td>NaN</td>\n",
       "    </tr>\n",
       "    <tr>\n",
       "      <th>genextreme</th>\n",
       "      <td>0.018239</td>\n",
       "      <td>1098.483219</td>\n",
       "      <td>1109.267353</td>\n",
       "      <td>8.245248e-01</td>\n",
       "      <td>NaN</td>\n",
       "      <td>NaN</td>\n",
       "    </tr>\n",
       "    <tr>\n",
       "      <th>invweibull</th>\n",
       "      <td>0.018239</td>\n",
       "      <td>1098.484645</td>\n",
       "      <td>1109.268779</td>\n",
       "      <td>8.244847e-01</td>\n",
       "      <td>NaN</td>\n",
       "      <td>NaN</td>\n",
       "    </tr>\n",
       "    <tr>\n",
       "      <th>invgamma</th>\n",
       "      <td>0.018397</td>\n",
       "      <td>1100.109456</td>\n",
       "      <td>1110.893590</td>\n",
       "      <td>8.078030e-01</td>\n",
       "      <td>NaN</td>\n",
       "      <td>NaN</td>\n",
       "    </tr>\n",
       "    <tr>\n",
       "      <th>nct</th>\n",
       "      <td>0.018410</td>\n",
       "      <td>1103.591174</td>\n",
       "      <td>1117.970020</td>\n",
       "      <td>7.345426e-01</td>\n",
       "      <td>NaN</td>\n",
       "      <td>NaN</td>\n",
       "    </tr>\n",
       "    <tr>\n",
       "      <th>...</th>\n",
       "      <td>...</td>\n",
       "      <td>...</td>\n",
       "      <td>...</td>\n",
       "      <td>...</td>\n",
       "      <td>...</td>\n",
       "      <td>...</td>\n",
       "    </tr>\n",
       "    <tr>\n",
       "      <th>levy_l</th>\n",
       "      <td>0.442313</td>\n",
       "      <td>964.936625</td>\n",
       "      <td>972.126047</td>\n",
       "      <td>5.091076e-100</td>\n",
       "      <td>NaN</td>\n",
       "      <td>NaN</td>\n",
       "    </tr>\n",
       "    <tr>\n",
       "      <th>trapezoid</th>\n",
       "      <td>0.481849</td>\n",
       "      <td>811.919564</td>\n",
       "      <td>826.298409</td>\n",
       "      <td>1.477764e-189</td>\n",
       "      <td>NaN</td>\n",
       "      <td>NaN</td>\n",
       "    </tr>\n",
       "    <tr>\n",
       "      <th>trapz</th>\n",
       "      <td>0.481849</td>\n",
       "      <td>811.919564</td>\n",
       "      <td>826.298409</td>\n",
       "      <td>1.477764e-189</td>\n",
       "      <td>NaN</td>\n",
       "      <td>NaN</td>\n",
       "    </tr>\n",
       "    <tr>\n",
       "      <th>weibull_max</th>\n",
       "      <td>0.661410</td>\n",
       "      <td>1068.168012</td>\n",
       "      <td>1078.952146</td>\n",
       "      <td>4.354381e-194</td>\n",
       "      <td>NaN</td>\n",
       "      <td>NaN</td>\n",
       "    </tr>\n",
       "    <tr>\n",
       "      <th>vonmises</th>\n",
       "      <td>3.259012</td>\n",
       "      <td>414.380384</td>\n",
       "      <td>425.164518</td>\n",
       "      <td>0.000000e+00</td>\n",
       "      <td>NaN</td>\n",
       "      <td>NaN</td>\n",
       "    </tr>\n",
       "  </tbody>\n",
       "</table>\n",
       "<p>106 rows × 6 columns</p>\n",
       "</div>"
      ],
      "text/plain": [
       "             sumsquare_error          aic          bic      ks_pvalue  \\\n",
       "alpha               0.018194  1084.420255  1095.204389   9.310873e-01   \n",
       "genextreme          0.018239  1098.483219  1109.267353   8.245248e-01   \n",
       "invweibull          0.018239  1098.484645  1109.268779   8.244847e-01   \n",
       "invgamma            0.018397  1100.109456  1110.893590   8.078030e-01   \n",
       "nct                 0.018410  1103.591174  1117.970020   7.345426e-01   \n",
       "...                      ...          ...          ...            ...   \n",
       "levy_l              0.442313   964.936625   972.126047  5.091076e-100   \n",
       "trapezoid           0.481849   811.919564   826.298409  1.477764e-189   \n",
       "trapz               0.481849   811.919564   826.298409  1.477764e-189   \n",
       "weibull_max         0.661410  1068.168012  1078.952146  4.354381e-194   \n",
       "vonmises            3.259012   414.380384   425.164518   0.000000e+00   \n",
       "\n",
       "             dist_mean  dist_std  \n",
       "alpha              NaN       NaN  \n",
       "genextreme         NaN       NaN  \n",
       "invweibull         NaN       NaN  \n",
       "invgamma           NaN       NaN  \n",
       "nct                NaN       NaN  \n",
       "...                ...       ...  \n",
       "levy_l             NaN       NaN  \n",
       "trapezoid          NaN       NaN  \n",
       "trapz              NaN       NaN  \n",
       "weibull_max        NaN       NaN  \n",
       "vonmises           NaN       NaN  \n",
       "\n",
       "[106 rows x 6 columns]"
      ]
     },
     "execution_count": 6,
     "metadata": {},
     "output_type": "execute_result"
    }
   ],
   "source": [
    "fit_df['dist_mean'] = np.nan\n",
    "fit_df['dist_std'] = np.nan\n",
    "fit_df"
   ]
  },
  {
   "cell_type": "code",
   "execution_count": 7,
   "id": "3989032c",
   "metadata": {},
   "outputs": [],
   "source": [
    "from scipy import stats"
   ]
  },
  {
   "cell_type": "code",
   "execution_count": 8,
   "id": "7f95c4b5",
   "metadata": {},
   "outputs": [
    {
     "name": "stderr",
     "output_type": "stream",
     "text": [
      "/home/yinchi/Desktop/git_projects/cuh-resp-model/.venv/lib/python3.13/site-packages/scipy/stats/_distn_infrastructure.py:1451: RuntimeWarning: invalid value encountered in sqrt\n",
      "  res = sqrt(self.stats(*args, **kwds))\n",
      "/home/yinchi/Desktop/git_projects/cuh-resp-model/.venv/lib/python3.13/site-packages/scipy/stats/_distn_infrastructure.py:1980: IntegrationWarning: The algorithm does not converge.  Roundoff error is detected\n",
      "  in the extrapolation table.  It is assumed that the requested tolerance\n",
      "  cannot be achieved, and that the returned result (if full_output = 1) is \n",
      "  the best which can be obtained.\n",
      "  return integrate.quad(self._mom_integ1, 0, 1, args=(m,)+args)[0]\n",
      "/home/yinchi/Desktop/git_projects/cuh-resp-model/.venv/lib/python3.13/site-packages/scipy/stats/_distn_infrastructure.py:1401: RuntimeWarning: The shape parameter of the erlang distribution has been given a non-integer value array(0.77025959).\n",
      "  res = self.stats(*args, **kwds)\n",
      "/home/yinchi/Desktop/git_projects/cuh-resp-model/.venv/lib/python3.13/site-packages/scipy/stats/_distn_infrastructure.py:1451: RuntimeWarning: The shape parameter of the erlang distribution has been given a non-integer value array(0.77025959).\n",
      "  res = sqrt(self.stats(*args, **kwds))\n",
      "/home/yinchi/Desktop/git_projects/cuh-resp-model/.venv/lib/python3.13/site-packages/scipy/stats/_continuous_distns.py:2971: RuntimeWarning: invalid value encountered in multiply\n",
      "  gamma_fun = sc.gamma(n/c + 1.) * (\n",
      "/home/yinchi/Desktop/git_projects/cuh-resp-model/.venv/lib/python3.13/site-packages/scipy/stats/_continuous_distns.py:2971: RuntimeWarning: invalid value encountered in multiply\n",
      "  gamma_fun = sc.gamma(n/c + 1.) * (\n",
      "/tmp/ipykernel_1013384/482280279.py:2: DeprecationWarning: `trapz` is deprecated in favour of `trapezoid` and will be removed in SciPy 1.16.0.\n",
      "  dist = getattr(stats, dist_name)(*f.fitted_param[dist_name])\n"
     ]
    },
    {
     "data": {
      "application/vnd.microsoft.datawrangler.viewer.v0+json": {
       "columns": [
        {
         "name": "index",
         "rawType": "object",
         "type": "string"
        },
        {
         "name": "sumsquare_error",
         "rawType": "float64",
         "type": "float"
        },
        {
         "name": "aic",
         "rawType": "float64",
         "type": "float"
        },
        {
         "name": "bic",
         "rawType": "float64",
         "type": "float"
        },
        {
         "name": "ks_pvalue",
         "rawType": "float64",
         "type": "float"
        },
        {
         "name": "dist_mean",
         "rawType": "float64",
         "type": "float"
        },
        {
         "name": "dist_std",
         "rawType": "float64",
         "type": "float"
        }
       ],
       "conversionMethod": "pd.DataFrame",
       "ref": "b1019bd6-0462-4c5d-abf9-947327b5d155",
       "rows": [
        [
         "alpha",
         "0.018194006303675094",
         "1084.4202549557097",
         "1095.2043890945151",
         "0.9310872916023805",
         "inf",
         "inf"
        ],
        [
         "genextreme",
         "0.018238900383901965",
         "1098.4832191142805",
         "1109.267353253086",
         "0.8245247630986393",
         "8.965130346443047",
         null
        ],
        [
         "invweibull",
         "0.018239345760624543",
         "1098.4846445616886",
         "1109.268778700494",
         "0.8244847392594268",
         "8.965142528885591",
         null
        ],
        [
         "invgamma",
         "0.018397417535095738",
         "1100.1094561497364",
         "1110.8935902885419",
         "0.807803036867499",
         "7.385546709093447",
         "inf"
        ],
        [
         "nct",
         "0.018410053269179622",
         "1103.591174389194",
         "1117.9700199076015",
         "0.7345425735746224",
         "11.388911382787423",
         null
        ],
        [
         "jf_skew_t",
         "0.018462321388654154",
         "1103.5230093517907",
         "1117.9018548701981",
         "0.7319952035122201",
         "12.3523756150377",
         null
        ],
        [
         "norminvgauss",
         "0.01894307833405239",
         "1078.7862690192649",
         "1093.1651145376723",
         "0.8039125791475032",
         "4.422614422128746",
         "7.515703322183926"
        ],
        [
         "ncf",
         "0.019048463432694153",
         "1121.0644987670594",
         "1139.0380556650687",
         "0.4873000496062527",
         "5.775543392873895",
         null
        ],
        [
         "johnsonsu",
         "0.01913321016539219",
         "1090.0575757851682",
         "1104.4364213035756",
         "0.6401514298922649",
         "4.696223914236299",
         "10.93351091975474"
        ],
        [
         "burr",
         "0.01953349591668812",
         "1101.0766248766756",
         "1115.455470395083",
         "0.8399428197725365",
         "8.119938326310733",
         null
        ],
        [
         "mielke",
         "0.019533509007012537",
         "1101.0757481611297",
         "1115.454593679537",
         "0.83996285967024",
         "8.119949027355396",
         "inf"
        ],
        [
         "dpareto_lognorm",
         "0.01987637704622941",
         "1112.7540498201774",
         "1134.3223180977884",
         "0.7265461480201042",
         "8.76958931105162",
         null
        ],
        [
         "f",
         "0.020166603988194014",
         "1102.3999298954163",
         "1116.7787754138237",
         "0.7380173820026896",
         "6.329277250577657",
         "inf"
        ],
        [
         "betaprime",
         "0.020166604990217784",
         "1102.39907294778",
         "1116.7779184661874",
         "0.738022311853543",
         "6.329378513356674",
         "inf"
        ],
        [
         "genhyperbolic",
         "0.020574798533558092",
         "1075.6708185876037",
         "1093.644375485613",
         "0.7438535651526741",
         "4.422724759324758",
         "7.169284663824767"
        ],
        [
         "burr12",
         "0.02147452532648935",
         "1105.8599497031742",
         "1120.2387952215815",
         "0.74911021075823",
         "9.075000067543927",
         null
        ],
        [
         "geninvgauss",
         "0.021803351400032613",
         "1082.8909720074942",
         "1097.2698175259015",
         "0.48100168353407435",
         "4.42261962538365",
         "7.510173878334255"
        ],
        [
         "powerlognorm",
         "0.023859199854893723",
         "1094.4528608293385",
         "1108.831706347746",
         "0.36701744020434857",
         "4.62790567753603",
         "10.610648386630052"
        ],
        [
         "exponweib",
         "0.025488346817034473",
         "1095.800402940528",
         "1110.1792484589355",
         "0.3692092062477351",
         "4.567193851588379",
         "9.809658481547693"
        ],
        [
         "invgauss",
         "0.025928206103681677",
         "1075.298940004997",
         "1086.0830741438024",
         "0.2524599894148779",
         "4.422654115196565",
         "6.937090750605164"
        ],
        [
         "fisk",
         "0.026923033089251206",
         "1109.3630967727045",
         "1120.14723091151",
         "0.5313586691040171",
         "5.862247304452577",
         null
        ],
        [
         "landau",
         "0.030560276819644665",
         "1171.0208986842338",
         "1178.2103214434374",
         "0.025903368957183814",
         null,
         null
        ],
        [
         "gibrat",
         "0.031194383537572503",
         "1189.2071439969586",
         "1196.3965667561622",
         "0.05688474938574595",
         "3.6347828107673106",
         "4.7977303341801125"
        ],
        [
         "loglaplace",
         "0.0312794007940549",
         "1115.0722939348814",
         "1125.8564280736869",
         "0.3757671883533109",
         "inf",
         "inf"
        ],
        [
         "foldcauchy",
         "0.031752995790611145",
         "1100.5959528345297",
         "1111.3800869733352",
         "0.4778574371398774",
         "inf",
         "inf"
        ],
        [
         "lognorm",
         "0.03183977612709082",
         "1097.5164099059105",
         "1108.300544044716",
         "0.1721384564575451",
         "4.405689360902328",
         "8.237771930428346"
        ],
        [
         "johnsonsb",
         "0.034535530449865945",
         "1095.845630515864",
         "1110.2244760342714",
         "0.12896083851155282",
         "4.2799372665357724",
         "6.613814165638598"
        ],
        [
         "halfcauchy",
         "0.03886347328335305",
         "1078.8656564788375",
         "1086.0550792380411",
         "0.2928814953326131",
         "inf",
         "inf"
        ],
        [
         "gengamma",
         "0.04311774031255425",
         "1108.5511915302566",
         "1122.930037048664",
         "0.029018959428830482",
         "4.225564055186102",
         "6.177912391808829"
        ],
        [
         "fatiguelife",
         "0.04362953790130227",
         "1080.2212242806434",
         "1091.0053584194488",
         "0.004519287720200509",
         "4.523485075820256",
         "5.803589291001809"
        ],
        [
         "kappa3",
         "0.04375665777469782",
         "1103.520915183649",
         "1114.3050493224546",
         "0.28141908419957706",
         "5.490002442237065",
         null
        ],
        [
         "skewcauchy",
         "0.044303500129013476",
         "1041.726391243259",
         "1052.5105253820645",
         "0.0008554903608999968",
         null,
         null
        ],
        [
         "wald",
         "0.04458824866957571",
         "1227.7057322469186",
         "1234.8951550061222",
         "0.0015575271211135198",
         "3.7132334641611924",
         "4.056995724290276"
        ],
        [
         "genpareto",
         "0.05545723086041512",
         "1092.230286066781",
         "1103.0144202055865",
         "0.08531336170564197",
         "4.686287436453403",
         "16.006697797839717"
        ],
        [
         "lomax",
         "0.05619321861800219",
         "1093.3632103320988",
         "1104.1473444709043",
         "0.1262734087930819",
         "4.689493868323708",
         "18.972093878765385"
        ],
        [
         "pareto",
         "0.05619331980731041",
         "1093.3653842790454",
         "1104.149518417851",
         "0.12629118630176384",
         "4.68944908496787",
         "18.971088494723706"
        ],
        [
         "truncpareto",
         "0.06149441520500579",
         "1047.9458809405528",
         "1062.3247264589602",
         "0.08882943236804519",
         "4.302039686140938",
         "5.9595743248785755"
        ],
        [
         "recipinvgauss",
         "0.06198711829861697",
         "1126.8422674589256",
         "1137.626401597731",
         "4.976517865983007e-05",
         "4.422643290164781",
         "5.0971456582534636"
        ],
        [
         "cauchy",
         "0.06616827715178177",
         "1272.9320127199953",
         "1280.121435479199",
         "9.523031051637466e-11",
         null,
         null
        ],
        [
         "t",
         "0.0669572237757687",
         "1251.189481962536",
         "1261.9736161013416",
         "4.1197453911764186e-11",
         "inf",
         null
        ],
        [
         "halfgennorm",
         "0.07315708526215953",
         "1092.0012973297455",
         "1102.785431468551",
         "0.01771281049458608",
         "4.334320246712876",
         "5.9819714427018615"
        ],
        [
         "erlang",
         "0.07352966606709753",
         "1379.7963609411838",
         "1390.5804950799893",
         "0.010811040411031274",
         "3.233272669726304",
         "3.535381405189178"
        ],
        [
         "levy",
         "0.07477888528046832",
         "1007.0604997475309",
         "1014.2499225067346",
         "6.970095031570897e-06",
         "inf",
         "inf"
        ],
        [
         "pearson3",
         "0.07859856696960944",
         "1237.5937096110392",
         "1248.3778437498447",
         "0.008187002062681168",
         "3.780319146238385",
         "4.264893869223631"
        ],
        [
         "weibull_min",
         "0.08060559421261262",
         "1098.281942688721",
         "1109.0660768275266",
         "0.0007376821551272047",
         "4.446368568410497",
         "5.566870335503747"
        ],
        [
         "gamma",
         "0.08137571162053064",
         "1188.637270736948",
         "1199.4214048757535",
         "0.0010021902852028234",
         "4.050139560755987",
         "4.610800857888889"
        ],
        [
         "exponnorm",
         "0.0827000190803899",
         "1242.955873090783",
         "1253.7400072295884",
         "1.5716242032513355e-10",
         "4.422625281896305",
         "4.229523785180378"
        ],
        [
         "laplace_asymmetric",
         "0.08509203616828692",
         "1236.7484772184193",
         "1247.5326113572248",
         "3.373385625356662e-10",
         "4.4230318121292065",
         "4.276259080263538"
        ],
        [
         "gompertz",
         "0.08526249132991051",
         "1238.4923102853481",
         "1249.2764444241536",
         "6.140733936766474e-10",
         "4.401121352619091",
         "4.2536447254950405"
        ],
        [
         "beta",
         "0.08589974092859787",
         "1141.8668151619418",
         "1156.2456606803491",
         "1.9037872604833637e-05",
         "4.446257999611855",
         "5.032235208573146"
        ]
       ],
       "shape": {
        "columns": 6,
        "rows": 106
       }
      },
      "text/html": [
       "<div>\n",
       "<style scoped>\n",
       "    .dataframe tbody tr th:only-of-type {\n",
       "        vertical-align: middle;\n",
       "    }\n",
       "\n",
       "    .dataframe tbody tr th {\n",
       "        vertical-align: top;\n",
       "    }\n",
       "\n",
       "    .dataframe thead th {\n",
       "        text-align: right;\n",
       "    }\n",
       "</style>\n",
       "<table border=\"1\" class=\"dataframe\">\n",
       "  <thead>\n",
       "    <tr style=\"text-align: right;\">\n",
       "      <th></th>\n",
       "      <th>sumsquare_error</th>\n",
       "      <th>aic</th>\n",
       "      <th>bic</th>\n",
       "      <th>ks_pvalue</th>\n",
       "      <th>dist_mean</th>\n",
       "      <th>dist_std</th>\n",
       "    </tr>\n",
       "  </thead>\n",
       "  <tbody>\n",
       "    <tr>\n",
       "      <th>alpha</th>\n",
       "      <td>0.018194</td>\n",
       "      <td>1084.420255</td>\n",
       "      <td>1095.204389</td>\n",
       "      <td>9.310873e-01</td>\n",
       "      <td>inf</td>\n",
       "      <td>inf</td>\n",
       "    </tr>\n",
       "    <tr>\n",
       "      <th>genextreme</th>\n",
       "      <td>0.018239</td>\n",
       "      <td>1098.483219</td>\n",
       "      <td>1109.267353</td>\n",
       "      <td>8.245248e-01</td>\n",
       "      <td>8.965130</td>\n",
       "      <td>NaN</td>\n",
       "    </tr>\n",
       "    <tr>\n",
       "      <th>invweibull</th>\n",
       "      <td>0.018239</td>\n",
       "      <td>1098.484645</td>\n",
       "      <td>1109.268779</td>\n",
       "      <td>8.244847e-01</td>\n",
       "      <td>8.965143</td>\n",
       "      <td>NaN</td>\n",
       "    </tr>\n",
       "    <tr>\n",
       "      <th>invgamma</th>\n",
       "      <td>0.018397</td>\n",
       "      <td>1100.109456</td>\n",
       "      <td>1110.893590</td>\n",
       "      <td>8.078030e-01</td>\n",
       "      <td>7.385547</td>\n",
       "      <td>inf</td>\n",
       "    </tr>\n",
       "    <tr>\n",
       "      <th>nct</th>\n",
       "      <td>0.018410</td>\n",
       "      <td>1103.591174</td>\n",
       "      <td>1117.970020</td>\n",
       "      <td>7.345426e-01</td>\n",
       "      <td>11.388911</td>\n",
       "      <td>NaN</td>\n",
       "    </tr>\n",
       "    <tr>\n",
       "      <th>...</th>\n",
       "      <td>...</td>\n",
       "      <td>...</td>\n",
       "      <td>...</td>\n",
       "      <td>...</td>\n",
       "      <td>...</td>\n",
       "      <td>...</td>\n",
       "    </tr>\n",
       "    <tr>\n",
       "      <th>levy_l</th>\n",
       "      <td>0.442313</td>\n",
       "      <td>964.936625</td>\n",
       "      <td>972.126047</td>\n",
       "      <td>5.091076e-100</td>\n",
       "      <td>inf</td>\n",
       "      <td>inf</td>\n",
       "    </tr>\n",
       "    <tr>\n",
       "      <th>trapezoid</th>\n",
       "      <td>0.481849</td>\n",
       "      <td>811.919564</td>\n",
       "      <td>826.298409</td>\n",
       "      <td>1.477764e-189</td>\n",
       "      <td>28.100214</td>\n",
       "      <td>11.380136</td>\n",
       "    </tr>\n",
       "    <tr>\n",
       "      <th>trapz</th>\n",
       "      <td>0.481849</td>\n",
       "      <td>811.919564</td>\n",
       "      <td>826.298409</td>\n",
       "      <td>1.477764e-189</td>\n",
       "      <td>28.100214</td>\n",
       "      <td>11.380136</td>\n",
       "    </tr>\n",
       "    <tr>\n",
       "      <th>weibull_max</th>\n",
       "      <td>0.661410</td>\n",
       "      <td>1068.168012</td>\n",
       "      <td>1078.952146</td>\n",
       "      <td>4.354381e-194</td>\n",
       "      <td>2.688729</td>\n",
       "      <td>307.116907</td>\n",
       "    </tr>\n",
       "    <tr>\n",
       "      <th>vonmises</th>\n",
       "      <td>3.259012</td>\n",
       "      <td>414.380384</td>\n",
       "      <td>425.164518</td>\n",
       "      <td>0.000000e+00</td>\n",
       "      <td>1.341361</td>\n",
       "      <td>1.247472</td>\n",
       "    </tr>\n",
       "  </tbody>\n",
       "</table>\n",
       "<p>106 rows × 6 columns</p>\n",
       "</div>"
      ],
      "text/plain": [
       "             sumsquare_error          aic          bic      ks_pvalue  \\\n",
       "alpha               0.018194  1084.420255  1095.204389   9.310873e-01   \n",
       "genextreme          0.018239  1098.483219  1109.267353   8.245248e-01   \n",
       "invweibull          0.018239  1098.484645  1109.268779   8.244847e-01   \n",
       "invgamma            0.018397  1100.109456  1110.893590   8.078030e-01   \n",
       "nct                 0.018410  1103.591174  1117.970020   7.345426e-01   \n",
       "...                      ...          ...          ...            ...   \n",
       "levy_l              0.442313   964.936625   972.126047  5.091076e-100   \n",
       "trapezoid           0.481849   811.919564   826.298409  1.477764e-189   \n",
       "trapz               0.481849   811.919564   826.298409  1.477764e-189   \n",
       "weibull_max         0.661410  1068.168012  1078.952146  4.354381e-194   \n",
       "vonmises            3.259012   414.380384   425.164518   0.000000e+00   \n",
       "\n",
       "             dist_mean    dist_std  \n",
       "alpha              inf         inf  \n",
       "genextreme    8.965130         NaN  \n",
       "invweibull    8.965143         NaN  \n",
       "invgamma      7.385547         inf  \n",
       "nct          11.388911         NaN  \n",
       "...                ...         ...  \n",
       "levy_l             inf         inf  \n",
       "trapezoid    28.100214   11.380136  \n",
       "trapz        28.100214   11.380136  \n",
       "weibull_max   2.688729  307.116907  \n",
       "vonmises      1.341361    1.247472  \n",
       "\n",
       "[106 rows x 6 columns]"
      ]
     },
     "execution_count": 8,
     "metadata": {},
     "output_type": "execute_result"
    }
   ],
   "source": [
    "for dist_name in fit_df.index:\n",
    "    dist = getattr(stats, dist_name)(*f.fitted_param[dist_name])\n",
    "    fit_df.loc[dist_name, 'dist_mean'] = dist.mean()\n",
    "    fit_df.loc[dist_name, 'dist_std'] = dist.std()\n",
    "\n",
    "fit_df"
   ]
  },
  {
   "cell_type": "code",
   "execution_count": 9,
   "id": "035feffb",
   "metadata": {},
   "outputs": [
    {
     "name": "stdout",
     "output_type": "stream",
     "text": [
      "4.422625405479829 6.521927824692987\n"
     ]
    }
   ],
   "source": [
    "print(np.mean(los_paeds), np.std(los_paeds))"
   ]
  },
  {
   "cell_type": "code",
   "execution_count": 15,
   "id": "d19de0b6",
   "metadata": {},
   "outputs": [
    {
     "data": {
      "application/vnd.microsoft.datawrangler.viewer.v0+json": {
       "columns": [
        {
         "name": "index",
         "rawType": "object",
         "type": "string"
        },
        {
         "name": "sumsquare_error",
         "rawType": "float64",
         "type": "float"
        },
        {
         "name": "aic",
         "rawType": "float64",
         "type": "float"
        },
        {
         "name": "bic",
         "rawType": "float64",
         "type": "float"
        },
        {
         "name": "ks_pvalue",
         "rawType": "float64",
         "type": "float"
        },
        {
         "name": "dist_mean",
         "rawType": "float64",
         "type": "float"
        },
        {
         "name": "dist_std",
         "rawType": "float64",
         "type": "float"
        }
       ],
       "conversionMethod": "pd.DataFrame",
       "ref": "6cb0b878-6aa9-417d-a3fb-8cb82c35f3a8",
       "rows": [
        [
         "norminvgauss",
         "0.01894307833405239",
         "1078.7862690192649",
         "1093.1651145376723",
         "0.8039125791475032",
         "4.422614422128746",
         "7.515703322183926"
        ],
        [
         "genhyperbolic",
         "0.020574798533558092",
         "1075.6708185876037",
         "1093.644375485613",
         "0.7438535651526741",
         "4.422724759324758",
         "7.169284663824767"
        ],
        [
         "geninvgauss",
         "0.021803351400032613",
         "1082.8909720074942",
         "1097.2698175259015",
         "0.48100168353407435",
         "4.42261962538365",
         "7.510173878334255"
        ],
        [
         "invgauss",
         "0.025928206103681677",
         "1075.298940004997",
         "1086.0830741438024",
         "0.2524599894148779",
         "4.422654115196565",
         "6.937090750605164"
        ],
        [
         "gibrat",
         "0.031194383537572503",
         "1189.2071439969586",
         "1196.3965667561622",
         "0.05688474938574595",
         "3.6347828107673106",
         "4.7977303341801125"
        ]
       ],
       "shape": {
        "columns": 6,
        "rows": 5
       }
      },
      "text/html": [
       "<div>\n",
       "<style scoped>\n",
       "    .dataframe tbody tr th:only-of-type {\n",
       "        vertical-align: middle;\n",
       "    }\n",
       "\n",
       "    .dataframe tbody tr th {\n",
       "        vertical-align: top;\n",
       "    }\n",
       "\n",
       "    .dataframe thead th {\n",
       "        text-align: right;\n",
       "    }\n",
       "</style>\n",
       "<table border=\"1\" class=\"dataframe\">\n",
       "  <thead>\n",
       "    <tr style=\"text-align: right;\">\n",
       "      <th></th>\n",
       "      <th>sumsquare_error</th>\n",
       "      <th>aic</th>\n",
       "      <th>bic</th>\n",
       "      <th>ks_pvalue</th>\n",
       "      <th>dist_mean</th>\n",
       "      <th>dist_std</th>\n",
       "    </tr>\n",
       "  </thead>\n",
       "  <tbody>\n",
       "    <tr>\n",
       "      <th>norminvgauss</th>\n",
       "      <td>0.018943</td>\n",
       "      <td>1078.786269</td>\n",
       "      <td>1093.165115</td>\n",
       "      <td>0.803913</td>\n",
       "      <td>4.422614</td>\n",
       "      <td>7.515703</td>\n",
       "    </tr>\n",
       "    <tr>\n",
       "      <th>genhyperbolic</th>\n",
       "      <td>0.020575</td>\n",
       "      <td>1075.670819</td>\n",
       "      <td>1093.644375</td>\n",
       "      <td>0.743854</td>\n",
       "      <td>4.422725</td>\n",
       "      <td>7.169285</td>\n",
       "    </tr>\n",
       "    <tr>\n",
       "      <th>geninvgauss</th>\n",
       "      <td>0.021803</td>\n",
       "      <td>1082.890972</td>\n",
       "      <td>1097.269818</td>\n",
       "      <td>0.481002</td>\n",
       "      <td>4.422620</td>\n",
       "      <td>7.510174</td>\n",
       "    </tr>\n",
       "    <tr>\n",
       "      <th>invgauss</th>\n",
       "      <td>0.025928</td>\n",
       "      <td>1075.298940</td>\n",
       "      <td>1086.083074</td>\n",
       "      <td>0.252460</td>\n",
       "      <td>4.422654</td>\n",
       "      <td>6.937091</td>\n",
       "    </tr>\n",
       "    <tr>\n",
       "      <th>gibrat</th>\n",
       "      <td>0.031194</td>\n",
       "      <td>1189.207144</td>\n",
       "      <td>1196.396567</td>\n",
       "      <td>0.056885</td>\n",
       "      <td>3.634783</td>\n",
       "      <td>4.797730</td>\n",
       "    </tr>\n",
       "  </tbody>\n",
       "</table>\n",
       "</div>"
      ],
      "text/plain": [
       "               sumsquare_error          aic          bic  ks_pvalue  \\\n",
       "norminvgauss          0.018943  1078.786269  1093.165115   0.803913   \n",
       "genhyperbolic         0.020575  1075.670819  1093.644375   0.743854   \n",
       "geninvgauss           0.021803  1082.890972  1097.269818   0.481002   \n",
       "invgauss              0.025928  1075.298940  1086.083074   0.252460   \n",
       "gibrat                0.031194  1189.207144  1196.396567   0.056885   \n",
       "\n",
       "               dist_mean  dist_std  \n",
       "norminvgauss    4.422614  7.515703  \n",
       "genhyperbolic   4.422725  7.169285  \n",
       "geninvgauss     4.422620  7.510174  \n",
       "invgauss        4.422654  6.937091  \n",
       "gibrat          3.634783  4.797730  "
      ]
     },
     "execution_count": 15,
     "metadata": {},
     "output_type": "execute_result"
    }
   ],
   "source": [
    "fit_df = fit_df.loc[np.isfinite(fit_df.dist_std) & (fit_df.dist_mean > 0) & (fit_df.dist_std > 0.5 * np.std(los_paeds)) & (fit_df.dist_std < 1.5 * np.std(los_paeds))]\n",
    "fit_df[:5]"
   ]
  },
  {
   "cell_type": "code",
   "execution_count": 11,
   "id": "26b4ed51",
   "metadata": {},
   "outputs": [
    {
     "data": {
      "text/plain": [
       "['norminvgauss', 'genhyperbolic', 'geninvgauss', 'invgauss', 'gibrat']"
      ]
     },
     "execution_count": 11,
     "metadata": {},
     "output_type": "execute_result"
    }
   ],
   "source": [
    "list(fit_df.index[:5])"
   ]
  },
  {
   "cell_type": "code",
   "execution_count": 12,
   "id": "43d73662",
   "metadata": {},
   "outputs": [
    {
     "name": "stderr",
     "output_type": "stream",
     "text": [
      "2025-04-15 14:12:12.278 | INFO     | fitter.fitter:_fit_single_distribution:333 - Fitted gibrat distribution with error=0.031194)\n",
      "2025-04-15 14:12:12.278 | INFO     | fitter.fitter:_fit_single_distribution:333 - Fitted invgauss distribution with error=0.025928)\n",
      "2025-04-15 14:12:12.338 | INFO     | fitter.fitter:_fit_single_distribution:333 - Fitted geninvgauss distribution with error=0.021803)\n",
      "2025-04-15 14:12:12.415 | INFO     | fitter.fitter:_fit_single_distribution:333 - Fitted genhyperbolic distribution with error=0.020575)\n",
      "2025-04-15 14:12:12.459 | INFO     | fitter.fitter:_fit_single_distribution:333 - Fitted norminvgauss distribution with error=0.018943)\n"
     ]
    }
   ],
   "source": [
    "f2 = fitter.Fitter(los_paeds, distributions=list(fit_df.index[:5]))\n",
    "f2.fit()"
   ]
  },
  {
   "cell_type": "code",
   "execution_count": 16,
   "id": "60d8b8d0",
   "metadata": {},
   "outputs": [
    {
     "data": {
      "image/png": "[encoded data removed]",
      "text/plain": [
       "<Figure size 1000x500 with 1 Axes>"
      ]
     },
     "metadata": {},
     "output_type": "display_data"
    }
   ],
   "source": [
    "from io import BytesIO\n",
    "from matplotlib import pyplot as plt\n",
    "from base64 import b64encode, b64decode\n",
    "from IPython.display import Image\n",
    "\n",
    "plt.rcParams.update({'font.size': 12})\n",
    "plt.figure(figsize=(10,5))\n",
    "f2.hist()\n",
    "f2.plot_pdf()\n",
    "plt.legend(fontsize='11', loc='upper right')\n",
    "plt.title('Top five fitted distributions')\n",
    "plt.xlabel('Length of stay, days')\n",
    "plt.ylabel('Distribution density')\n",
    "\n",
    "io = BytesIO()\n",
    "plt.tight_layout(pad=1)\n",
    "plt.savefig(io, format='png')\n",
    "io.seek(0)\n",
    "png_encoded = b64encode(io.read())"
   ]
  },
  {
   "cell_type": "code",
   "execution_count": 17,
   "id": "077615b2",
   "metadata": {},
   "outputs": [
    {
     "data": {
      "image/png": "[encoded data removed]",
      "text/plain": [
       "<IPython.core.display.Image object>"
      ]
     },
     "execution_count": 17,
     "metadata": {},
     "output_type": "execute_result"
    }
   ],
   "source": [
    "Image(b64decode(png_encoded))"
   ]
  },
  {
   "cell_type": "code",
   "execution_count": null,
   "id": "18400c09",
   "metadata": {},
   "outputs": [],
   "source": []
  }
 ],
 "metadata": {
  "kernelspec": {
   "display_name": ".venv",
   "language": "python",
   "name": "python3"
  },
  "language_info": {
   "codemirror_mode": {
    "name": "ipython",
    "version": 3
   },
   "file_extension": ".py",
   "mimetype": "text/x-python",
   "name": "python",
   "nbconvert_exporter": "python",
   "pygments_lexer": "ipython3",
   "version": "3.13.2"
  }
 },
 "nbformat": 4,
 "nbformat_minor": 5
}
