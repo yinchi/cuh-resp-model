{
 "cells": [
  {
   "cell_type": "code",
   "execution_count": 1,
   "id": "ea4e3e9a",
   "metadata": {},
   "outputs": [],
   "source": [
    "import json\n",
    "\n",
    "data = json.load(open('config.json', 'r', encoding='utf8'))"
   ]
  },
  {
   "cell_type": "code",
   "execution_count": 2,
   "id": "9e9b1506",
   "metadata": {},
   "outputs": [
    {
     "data": {
      "text/plain": [
       "dict_keys(['completed', 'step_1', 'step_2', 'step_3'])"
      ]
     },
     "execution_count": 2,
     "metadata": {},
     "output_type": "execute_result"
    }
   ],
   "source": [
    "data.keys()"
   ]
  },
  {
   "cell_type": "code",
   "execution_count": 3,
   "id": "bdb2937a",
   "metadata": {},
   "outputs": [],
   "source": [
    "import pandas as pd"
   ]
  },
  {
   "cell_type": "code",
   "execution_count": 4,
   "id": "4968c58f",
   "metadata": {},
   "outputs": [
    {
     "data": {
      "application/vnd.microsoft.datawrangler.viewer.v0+json": {
       "columns": [
        {
         "name": "index",
         "rawType": "int64",
         "type": "integer"
        },
        {
         "name": "date",
         "rawType": "object",
         "type": "string"
        },
        {
         "name": "n_arr",
         "rawType": "float64",
         "type": "float"
        }
       ],
       "conversionMethod": "pd.DataFrame",
       "ref": "f1e40e46-9072-486b-a700-a29ea7ae17a0",
       "rows": [
        [
         "0",
         "2024-10-01",
         "2.116019269812747"
        ],
        [
         "1",
         "2024-10-02",
         "2.11602850666088"
        ],
        [
         "2",
         "2024-10-03",
         "2.11604192718122"
        ],
        [
         "3",
         "2024-10-04",
         "2.116061309170929"
        ],
        [
         "4",
         "2024-10-05",
         "2.116089132416788"
        ],
        [
         "5",
         "2024-10-06",
         "2.1161288327813788"
        ],
        [
         "6",
         "2024-10-07",
         "2.11618513884278"
        ],
        [
         "7",
         "2024-10-08",
         "2.116264514307673"
        ],
        [
         "8",
         "2024-10-09",
         "2.116375734654869"
        ],
        [
         "9",
         "2024-10-10",
         "2.116530632442637"
        ],
        [
         "10",
         "2024-10-11",
         "2.1167450523803835"
        ],
        [
         "11",
         "2024-10-12",
         "2.1170400645059435"
        ],
        [
         "12",
         "2024-10-13",
         "2.117443491417067"
        ],
        [
         "13",
         "2024-10-14",
         "2.1179918131612183"
        ],
        [
         "14",
         "2024-10-15",
         "2.1187325206390195"
        ],
        [
         "15",
         "2024-10-16",
         "2.1197269946171557"
        ],
        [
         "16",
         "2024-10-17",
         "2.121053991899736"
        ],
        [
         "17",
         "2024-10-18",
         "2.1228138219183794"
        ],
        [
         "18",
         "2024-10-19",
         "2.1251332948410995"
        ],
        [
         "19",
         "2024-10-20",
         "2.1281715149823945"
        ],
        [
         "20",
         "2024-10-21",
         "2.132126579417471"
        ],
        [
         "21",
         "2024-10-22",
         "2.137243219800882"
        ],
        [
         "22",
         "2024-10-23",
         "2.143821394033258"
        ],
        [
         "23",
         "2024-10-24",
         "2.1522257923244883"
        ],
        [
         "24",
         "2024-10-25",
         "2.1628961683718644"
        ],
        [
         "25",
         "2024-10-26",
         "2.1763583402673494"
        ],
        [
         "26",
         "2024-10-27",
         "2.1932356274701243"
        ],
        [
         "27",
         "2024-10-28",
         "2.2142604006626363"
        ],
        [
         "28",
         "2024-10-29",
         "2.240285322503201"
        ],
        [
         "29",
         "2024-10-30",
         "2.272293752328485"
        ],
        [
         "30",
         "2024-10-31",
         "2.311408681173888"
        ],
        [
         "31",
         "2024-11-01",
         "2.358899460841963"
        ],
        [
         "32",
         "2024-11-02",
         "2.4161854992317697"
        ],
        [
         "33",
         "2024-11-03",
         "2.484836021962603"
        ],
        [
         "34",
         "2024-11-04",
         "2.56656495655822"
        ],
        [
         "35",
         "2024-11-05",
         "2.6632199896086295"
        ],
        [
         "36",
         "2024-11-06",
         "2.7767648887680405"
        ],
        [
         "37",
         "2024-11-07",
         "2.9092542787276305"
        ],
        [
         "38",
         "2024-11-08",
         "3.0628002203533833"
        ],
        [
         "39",
         "2024-11-09",
         "3.239530169474528"
        ],
        [
         "40",
         "2024-11-10",
         "3.4415361875127664"
        ],
        [
         "41",
         "2024-11-11",
         "3.6708156373414615"
        ],
        [
         "42",
         "2024-11-12",
         "3.9292040168353735"
        ],
        [
         "43",
         "2024-11-13",
         "4.218301046792083"
        ],
        [
         "44",
         "2024-11-14",
         "4.539391621362874"
        ],
        [
         "45",
         "2024-11-15",
         "4.893363725006823"
        ],
        [
         "46",
         "2024-11-16",
         "5.280625893259073"
        ],
        [
         "47",
         "2024-11-17",
         "5.701027215200345"
        ],
        [
         "48",
         "2024-11-18",
         "6.153783211835638"
        ],
        [
         "49",
         "2024-11-19",
         "6.637411145439813"
        ]
       ],
       "shape": {
        "columns": 2,
        "rows": 151
       }
      },
      "text/html": [
       "<div>\n",
       "<style scoped>\n",
       "    .dataframe tbody tr th:only-of-type {\n",
       "        vertical-align: middle;\n",
       "    }\n",
       "\n",
       "    .dataframe tbody tr th {\n",
       "        vertical-align: top;\n",
       "    }\n",
       "\n",
       "    .dataframe thead th {\n",
       "        text-align: right;\n",
       "    }\n",
       "</style>\n",
       "<table border=\"1\" class=\"dataframe\">\n",
       "  <thead>\n",
       "    <tr style=\"text-align: right;\">\n",
       "      <th></th>\n",
       "      <th>date</th>\n",
       "      <th>n_arr</th>\n",
       "    </tr>\n",
       "  </thead>\n",
       "  <tbody>\n",
       "    <tr>\n",
       "      <th>0</th>\n",
       "      <td>2024-10-01</td>\n",
       "      <td>2.116019</td>\n",
       "    </tr>\n",
       "    <tr>\n",
       "      <th>1</th>\n",
       "      <td>2024-10-02</td>\n",
       "      <td>2.116029</td>\n",
       "    </tr>\n",
       "    <tr>\n",
       "      <th>2</th>\n",
       "      <td>2024-10-03</td>\n",
       "      <td>2.116042</td>\n",
       "    </tr>\n",
       "    <tr>\n",
       "      <th>3</th>\n",
       "      <td>2024-10-04</td>\n",
       "      <td>2.116061</td>\n",
       "    </tr>\n",
       "    <tr>\n",
       "      <th>4</th>\n",
       "      <td>2024-10-05</td>\n",
       "      <td>2.116089</td>\n",
       "    </tr>\n",
       "    <tr>\n",
       "      <th>...</th>\n",
       "      <td>...</td>\n",
       "      <td>...</td>\n",
       "    </tr>\n",
       "    <tr>\n",
       "      <th>146</th>\n",
       "      <td>2025-02-24</td>\n",
       "      <td>2.116000</td>\n",
       "    </tr>\n",
       "    <tr>\n",
       "      <th>147</th>\n",
       "      <td>2025-02-25</td>\n",
       "      <td>2.116000</td>\n",
       "    </tr>\n",
       "    <tr>\n",
       "      <th>148</th>\n",
       "      <td>2025-02-26</td>\n",
       "      <td>2.116000</td>\n",
       "    </tr>\n",
       "    <tr>\n",
       "      <th>149</th>\n",
       "      <td>2025-02-27</td>\n",
       "      <td>2.116000</td>\n",
       "    </tr>\n",
       "    <tr>\n",
       "      <th>150</th>\n",
       "      <td>2025-02-28</td>\n",
       "      <td>2.116000</td>\n",
       "    </tr>\n",
       "  </tbody>\n",
       "</table>\n",
       "<p>151 rows × 2 columns</p>\n",
       "</div>"
      ],
      "text/plain": [
       "           date     n_arr\n",
       "0    2024-10-01  2.116019\n",
       "1    2024-10-02  2.116029\n",
       "2    2024-10-03  2.116042\n",
       "3    2024-10-04  2.116061\n",
       "4    2024-10-05  2.116089\n",
       "..          ...       ...\n",
       "146  2025-02-24  2.116000\n",
       "147  2025-02-25  2.116000\n",
       "148  2025-02-26  2.116000\n",
       "149  2025-02-27  2.116000\n",
       "150  2025-02-28  2.116000\n",
       "\n",
       "[151 rows x 2 columns]"
      ]
     },
     "execution_count": 4,
     "metadata": {},
     "output_type": "execute_result"
    }
   ],
   "source": [
    "df_arr = pd.DataFrame({\n",
    "    'date': data['step_2']['xs'],\n",
    "    'n_arr': data['step_2']['ys']\n",
    "})\n",
    "df_arr"
   ]
  },
  {
   "cell_type": "code",
   "execution_count": 5,
   "id": "60048b97",
   "metadata": {},
   "outputs": [
    {
     "data": {
      "text/plain": [
       "'2024-10-01'"
      ]
     },
     "execution_count": 5,
     "metadata": {},
     "output_type": "execute_result"
    }
   ],
   "source": [
    "df_arr.date[0]"
   ]
  },
  {
   "cell_type": "code",
   "execution_count": 6,
   "id": "406bb753",
   "metadata": {},
   "outputs": [
    {
     "data": {
      "text/plain": [
       "0   2024-10-01\n",
       "1   2024-10-02\n",
       "2   2024-10-03\n",
       "3   2024-10-04\n",
       "4   2024-10-05\n",
       "5   2024-10-06\n",
       "6   2024-10-07\n",
       "7   2024-10-08\n",
       "8   2024-10-09\n",
       "9   2024-10-10\n",
       "Name: date, dtype: datetime64[ns]"
      ]
     },
     "execution_count": 6,
     "metadata": {},
     "output_type": "execute_result"
    }
   ],
   "source": [
    "df_arr.date = pd.to_datetime(df_arr.date)\n",
    "df_arr.date[:10]"
   ]
  },
  {
   "cell_type": "code",
   "execution_count": 7,
   "id": "3fe24b9d",
   "metadata": {},
   "outputs": [
    {
     "data": {
      "text/plain": [
       "<Axes: xlabel='date'>"
      ]
     },
     "execution_count": 7,
     "metadata": {},
     "output_type": "execute_result"
    },
    {
     "data": {
      "image/png": "[encoded data removed]",
      "text/plain": [
       "<Figure size 640x480 with 1 Axes>"
      ]
     },
     "metadata": {},
     "output_type": "display_data"
    }
   ],
   "source": [
    "df_arr.plot(x='date', y='n_arr')"
   ]
  },
  {
   "cell_type": "code",
   "execution_count": 18,
   "id": "38915519",
   "metadata": {},
   "outputs": [],
   "source": [
    "from scipy import stats"
   ]
  },
  {
   "cell_type": "code",
   "execution_count": 28,
   "id": "a2828952",
   "metadata": {},
   "outputs": [
    {
     "name": "stdout",
     "output_type": "stream",
     "text": [
      "genhyperbolic\n"
     ]
    },
    {
     "data": {
      "text/plain": [
       "{'p': -0.3023685348444624,\n",
       " 'a': 2.237863755025021,\n",
       " 'b': 2.2194479387233113,\n",
       " 'loc': 0.3100321434414689,\n",
       " 'scale': 0.37992439044793436}"
      ]
     },
     "execution_count": 28,
     "metadata": {},
     "output_type": "execute_result"
    }
   ],
   "source": [
    "n = data['step_3']['selected_dists']['paeds']\n",
    "params = data['step_3']['dists']['paeds'][n]\n",
    "\n",
    "dist_paeds = getattr(stats, n)(**params)\n",
    "\n",
    "print(dist_paeds.dist.name)\n",
    "dist_paeds.kwds"
   ]
  },
  {
   "cell_type": "code",
   "execution_count": 29,
   "id": "88adab23",
   "metadata": {},
   "outputs": [
    {
     "name": "stdout",
     "output_type": "stream",
     "text": [
      "genhyperbolic\n"
     ]
    },
    {
     "data": {
      "text/plain": [
       "{'p': -0.031781317536850616,\n",
       " 'a': 3.405172001096986,\n",
       " 'b': 3.389108415988021,\n",
       " 'loc': 0.12084849786926694,\n",
       " 'scale': 0.47536291525568297}"
      ]
     },
     "execution_count": 29,
     "metadata": {},
     "output_type": "execute_result"
    }
   ],
   "source": [
    "n = data['step_3']['selected_dists']['adult']\n",
    "params = data['step_3']['dists']['adult'][n]\n",
    "\n",
    "dist_adult = getattr(stats, n)(**params)\n",
    "\n",
    "print(dist_adult.dist.name)\n",
    "dist_adult.kwds"
   ]
  },
  {
   "cell_type": "code",
   "execution_count": 30,
   "id": "fb49b02f",
   "metadata": {},
   "outputs": [
    {
     "name": "stdout",
     "output_type": "stream",
     "text": [
      "genexpon\n"
     ]
    },
    {
     "data": {
      "text/plain": [
       "{'a': 0.09966757968288487,\n",
       " 'b': 0.2229084323738606,\n",
       " 'c': 4.693407483531251,\n",
       " 'loc': 0.003021774062861417,\n",
       " 'scale': 4.034911780519071}"
      ]
     },
     "execution_count": 30,
     "metadata": {},
     "output_type": "execute_result"
    }
   ],
   "source": [
    "n = data['step_3']['selected_dists']['senior']\n",
    "params = data['step_3']['dists']['senior'][n]\n",
    "\n",
    "dist_senior = getattr(stats, n)(**params)\n",
    "\n",
    "print(dist_senior.dist.name)\n",
    "dist_senior.kwds"
   ]
  },
  {
   "cell_type": "code",
   "execution_count": null,
   "id": "ab94df93",
   "metadata": {},
   "outputs": [],
   "source": []
  }
 ],
 "metadata": {
  "kernelspec": {
   "display_name": ".venv",
   "language": "python",
   "name": "python3"
  },
  "language_info": {
   "codemirror_mode": {
    "name": "ipython",
    "version": 3
   },
   "file_extension": ".py",
   "mimetype": "text/x-python",
   "name": "python",
   "nbconvert_exporter": "python",
   "pygments_lexer": "ipython3",
   "version": "3.13.2"
  }
 },
 "nbformat": 4,
 "nbformat_minor": 5
}
