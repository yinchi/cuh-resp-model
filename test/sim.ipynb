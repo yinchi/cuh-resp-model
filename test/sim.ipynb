{
 "cells": [
  {
   "cell_type": "code",
   "execution_count": 1,
   "id": "ea4e3e9a",
   "metadata": {},
   "outputs": [],
   "source": [
    "import json\n",
    "\n",
    "data = json.load(open('config.json', 'r', encoding='utf8'))"
   ]
  },
  {
   "cell_type": "code",
   "execution_count": 2,
   "id": "9e9b1506",
   "metadata": {},
   "outputs": [
    {
     "data": {
      "text/plain": [
       "dict_keys(['completed', 'step_1', 'step_2', 'step_3'])"
      ]
     },
     "execution_count": 2,
     "metadata": {},
     "output_type": "execute_result"
    }
   ],
   "source": [
    "data.keys()"
   ]
  },
  {
   "cell_type": "code",
   "execution_count": 3,
   "id": "bdb2937a",
   "metadata": {},
   "outputs": [],
   "source": [
    "import pandas as pd"
   ]
  },
  {
   "cell_type": "code",
   "execution_count": 4,
   "id": "4968c58f",
   "metadata": {},
   "outputs": [
    {
     "data": {
      "application/vnd.microsoft.datawrangler.viewer.v0+json": {
       "columns": [
        {
         "name": "index",
         "rawType": "int64",
         "type": "integer"
        },
        {
         "name": "date",
         "rawType": "object",
         "type": "string"
        },
        {
         "name": "n_arr",
         "rawType": "float64",
         "type": "float"
        }
       ],
       "conversionMethod": "pd.DataFrame",
       "ref": "eea3b576-d52f-4c10-9d71-8ac35c7e5f14",
       "rows": [
        [
         "0",
         "2024-10-01",
         "2.116019269812747"
        ],
        [
         "1",
         "2024-10-02",
         "2.11602850666088"
        ],
        [
         "2",
         "2024-10-03",
         "2.11604192718122"
        ],
        [
         "3",
         "2024-10-04",
         "2.116061309170929"
        ],
        [
         "4",
         "2024-10-05",
         "2.116089132416788"
        ],
        [
         "5",
         "2024-10-06",
         "2.1161288327813788"
        ],
        [
         "6",
         "2024-10-07",
         "2.11618513884278"
        ],
        [
         "7",
         "2024-10-08",
         "2.116264514307673"
        ],
        [
         "8",
         "2024-10-09",
         "2.116375734654869"
        ],
        [
         "9",
         "2024-10-10",
         "2.116530632442637"
        ],
        [
         "10",
         "2024-10-11",
         "2.1167450523803835"
        ],
        [
         "11",
         "2024-10-12",
         "2.1170400645059435"
        ],
        [
         "12",
         "2024-10-13",
         "2.117443491417067"
        ],
        [
         "13",
         "2024-10-14",
         "2.1179918131612183"
        ],
        [
         "14",
         "2024-10-15",
         "2.1187325206390195"
        ],
        [
         "15",
         "2024-10-16",
         "2.1197269946171557"
        ],
        [
         "16",
         "2024-10-17",
         "2.121053991899736"
        ],
        [
         "17",
         "2024-10-18",
         "2.1228138219183794"
        ],
        [
         "18",
         "2024-10-19",
         "2.1251332948410995"
        ],
        [
         "19",
         "2024-10-20",
         "2.1281715149823945"
        ],
        [
         "20",
         "2024-10-21",
         "2.132126579417471"
        ],
        [
         "21",
         "2024-10-22",
         "2.137243219800882"
        ],
        [
         "22",
         "2024-10-23",
         "2.143821394033258"
        ],
        [
         "23",
         "2024-10-24",
         "2.1522257923244883"
        ],
        [
         "24",
         "2024-10-25",
         "2.1628961683718644"
        ],
        [
         "25",
         "2024-10-26",
         "2.1763583402673494"
        ],
        [
         "26",
         "2024-10-27",
         "2.1932356274701243"
        ],
        [
         "27",
         "2024-10-28",
         "2.2142604006626363"
        ],
        [
         "28",
         "2024-10-29",
         "2.240285322503201"
        ],
        [
         "29",
         "2024-10-30",
         "2.272293752328485"
        ],
        [
         "30",
         "2024-10-31",
         "2.311408681173888"
        ],
        [
         "31",
         "2024-11-01",
         "2.358899460841963"
        ],
        [
         "32",
         "2024-11-02",
         "2.4161854992317697"
        ],
        [
         "33",
         "2024-11-03",
         "2.484836021962603"
        ],
        [
         "34",
         "2024-11-04",
         "2.56656495655822"
        ],
        [
         "35",
         "2024-11-05",
         "2.6632199896086295"
        ],
        [
         "36",
         "2024-11-06",
         "2.7767648887680405"
        ],
        [
         "37",
         "2024-11-07",
         "2.9092542787276305"
        ],
        [
         "38",
         "2024-11-08",
         "3.0628002203533833"
        ],
        [
         "39",
         "2024-11-09",
         "3.239530169474528"
        ],
        [
         "40",
         "2024-11-10",
         "3.4415361875127664"
        ],
        [
         "41",
         "2024-11-11",
         "3.6708156373414615"
        ],
        [
         "42",
         "2024-11-12",
         "3.9292040168353735"
        ],
        [
         "43",
         "2024-11-13",
         "4.218301046792083"
        ],
        [
         "44",
         "2024-11-14",
         "4.539391621362874"
        ],
        [
         "45",
         "2024-11-15",
         "4.893363725006823"
        ],
        [
         "46",
         "2024-11-16",
         "5.280625893259073"
        ],
        [
         "47",
         "2024-11-17",
         "5.701027215200345"
        ],
        [
         "48",
         "2024-11-18",
         "6.153783211835638"
        ],
        [
         "49",
         "2024-11-19",
         "6.637411145439813"
        ]
       ],
       "shape": {
        "columns": 2,
        "rows": 151
       }
      },
      "text/html": [
       "<div>\n",
       "<style scoped>\n",
       "    .dataframe tbody tr th:only-of-type {\n",
       "        vertical-align: middle;\n",
       "    }\n",
       "\n",
       "    .dataframe tbody tr th {\n",
       "        vertical-align: top;\n",
       "    }\n",
       "\n",
       "    .dataframe thead th {\n",
       "        text-align: right;\n",
       "    }\n",
       "</style>\n",
       "<table border=\"1\" class=\"dataframe\">\n",
       "  <thead>\n",
       "    <tr style=\"text-align: right;\">\n",
       "      <th></th>\n",
       "      <th>date</th>\n",
       "      <th>n_arr</th>\n",
       "    </tr>\n",
       "  </thead>\n",
       "  <tbody>\n",
       "    <tr>\n",
       "      <th>0</th>\n",
       "      <td>2024-10-01</td>\n",
       "      <td>2.116019</td>\n",
       "    </tr>\n",
       "    <tr>\n",
       "      <th>1</th>\n",
       "      <td>2024-10-02</td>\n",
       "      <td>2.116029</td>\n",
       "    </tr>\n",
       "    <tr>\n",
       "      <th>2</th>\n",
       "      <td>2024-10-03</td>\n",
       "      <td>2.116042</td>\n",
       "    </tr>\n",
       "    <tr>\n",
       "      <th>3</th>\n",
       "      <td>2024-10-04</td>\n",
       "      <td>2.116061</td>\n",
       "    </tr>\n",
       "    <tr>\n",
       "      <th>4</th>\n",
       "      <td>2024-10-05</td>\n",
       "      <td>2.116089</td>\n",
       "    </tr>\n",
       "    <tr>\n",
       "      <th>...</th>\n",
       "      <td>...</td>\n",
       "      <td>...</td>\n",
       "    </tr>\n",
       "    <tr>\n",
       "      <th>146</th>\n",
       "      <td>2025-02-24</td>\n",
       "      <td>2.116000</td>\n",
       "    </tr>\n",
       "    <tr>\n",
       "      <th>147</th>\n",
       "      <td>2025-02-25</td>\n",
       "      <td>2.116000</td>\n",
       "    </tr>\n",
       "    <tr>\n",
       "      <th>148</th>\n",
       "      <td>2025-02-26</td>\n",
       "      <td>2.116000</td>\n",
       "    </tr>\n",
       "    <tr>\n",
       "      <th>149</th>\n",
       "      <td>2025-02-27</td>\n",
       "      <td>2.116000</td>\n",
       "    </tr>\n",
       "    <tr>\n",
       "      <th>150</th>\n",
       "      <td>2025-02-28</td>\n",
       "      <td>2.116000</td>\n",
       "    </tr>\n",
       "  </tbody>\n",
       "</table>\n",
       "<p>151 rows × 2 columns</p>\n",
       "</div>"
      ],
      "text/plain": [
       "           date     n_arr\n",
       "0    2024-10-01  2.116019\n",
       "1    2024-10-02  2.116029\n",
       "2    2024-10-03  2.116042\n",
       "3    2024-10-04  2.116061\n",
       "4    2024-10-05  2.116089\n",
       "..          ...       ...\n",
       "146  2025-02-24  2.116000\n",
       "147  2025-02-25  2.116000\n",
       "148  2025-02-26  2.116000\n",
       "149  2025-02-27  2.116000\n",
       "150  2025-02-28  2.116000\n",
       "\n",
       "[151 rows x 2 columns]"
      ]
     },
     "execution_count": 4,
     "metadata": {},
     "output_type": "execute_result"
    }
   ],
   "source": [
    "df_arr = pd.DataFrame({\n",
    "    'date': data['step_2']['xs'],\n",
    "    'n_arr': data['step_2']['ys']\n",
    "})\n",
    "df_arr"
   ]
  },
  {
   "cell_type": "code",
   "execution_count": 5,
   "id": "60048b97",
   "metadata": {},
   "outputs": [
    {
     "data": {
      "text/plain": [
       "'2024-10-01'"
      ]
     },
     "execution_count": 5,
     "metadata": {},
     "output_type": "execute_result"
    }
   ],
   "source": [
    "df_arr.date[0]"
   ]
  },
  {
   "cell_type": "code",
   "execution_count": 6,
   "id": "406bb753",
   "metadata": {},
   "outputs": [
    {
     "data": {
      "text/plain": [
       "0   2024-10-01\n",
       "1   2024-10-02\n",
       "2   2024-10-03\n",
       "3   2024-10-04\n",
       "4   2024-10-05\n",
       "5   2024-10-06\n",
       "6   2024-10-07\n",
       "7   2024-10-08\n",
       "8   2024-10-09\n",
       "9   2024-10-10\n",
       "Name: date, dtype: datetime64[ns]"
      ]
     },
     "execution_count": 6,
     "metadata": {},
     "output_type": "execute_result"
    }
   ],
   "source": [
    "df_arr.date = pd.to_datetime(df_arr.date)\n",
    "df_arr.date[:10]"
   ]
  },
  {
   "cell_type": "code",
   "execution_count": 7,
   "id": "3fe24b9d",
   "metadata": {},
   "outputs": [
    {
     "data": {
      "text/plain": [
       "<Axes: xlabel='date'>"
      ]
     },
     "execution_count": 7,
     "metadata": {},
     "output_type": "execute_result"
    },
    {
     "data": {
      "image/png": "[encoded data removed]",
      "text/plain": [
       "<Figure size 640x480 with 1 Axes>"
      ]
     },
     "metadata": {},
     "output_type": "display_data"
    }
   ],
   "source": [
    "df_arr.plot(x='date', y='n_arr')"
   ]
  },
  {
   "cell_type": "code",
   "execution_count": 8,
   "id": "38915519",
   "metadata": {},
   "outputs": [],
   "source": [
    "from scipy import stats"
   ]
  },
  {
   "cell_type": "code",
   "execution_count": 9,
   "id": "a2828952",
   "metadata": {},
   "outputs": [
    {
     "name": "stdout",
     "output_type": "stream",
     "text": [
      "genhyperbolic\n"
     ]
    },
    {
     "data": {
      "text/plain": [
       "{'p': -0.3023685348444624,\n",
       " 'a': 2.237863755025021,\n",
       " 'b': 2.2194479387233113,\n",
       " 'loc': 0.3100321434414689,\n",
       " 'scale': 0.37992439044793436}"
      ]
     },
     "execution_count": 9,
     "metadata": {},
     "output_type": "execute_result"
    }
   ],
   "source": [
    "n = data['step_3']['selected_dists']['paeds']\n",
    "params = data['step_3']['dists']['paeds'][n]\n",
    "\n",
    "dist_paeds = getattr(stats, n)(**params)\n",
    "\n",
    "print(dist_paeds.dist.name)\n",
    "dist_paeds.kwds"
   ]
  },
  {
   "cell_type": "code",
   "execution_count": 10,
   "id": "88adab23",
   "metadata": {},
   "outputs": [
    {
     "name": "stdout",
     "output_type": "stream",
     "text": [
      "genhyperbolic\n"
     ]
    },
    {
     "data": {
      "text/plain": [
       "{'p': -0.031781317536850616,\n",
       " 'a': 3.405172001096986,\n",
       " 'b': 3.389108415988021,\n",
       " 'loc': 0.12084849786926694,\n",
       " 'scale': 0.47536291525568297}"
      ]
     },
     "execution_count": 10,
     "metadata": {},
     "output_type": "execute_result"
    }
   ],
   "source": [
    "n = data['step_3']['selected_dists']['adult']\n",
    "params = data['step_3']['dists']['adult'][n]\n",
    "\n",
    "dist_adult = getattr(stats, n)(**params)\n",
    "\n",
    "print(dist_adult.dist.name)\n",
    "dist_adult.kwds"
   ]
  },
  {
   "cell_type": "code",
   "execution_count": 11,
   "id": "fb49b02f",
   "metadata": {},
   "outputs": [
    {
     "name": "stdout",
     "output_type": "stream",
     "text": [
      "genexpon\n"
     ]
    },
    {
     "data": {
      "text/plain": [
       "{'a': 0.09966757968288487,\n",
       " 'b': 0.2229084323738606,\n",
       " 'c': 4.693407483531251,\n",
       " 'loc': 0.003021774062861417,\n",
       " 'scale': 4.034911780519071}"
      ]
     },
     "execution_count": 11,
     "metadata": {},
     "output_type": "execute_result"
    }
   ],
   "source": [
    "n = data['step_3']['selected_dists']['senior']\n",
    "params = data['step_3']['dists']['senior'][n]\n",
    "\n",
    "dist_senior = getattr(stats, n)(**params)\n",
    "\n",
    "print(dist_senior.dist.name)\n",
    "dist_senior.kwds"
   ]
  },
  {
   "cell_type": "code",
   "execution_count": 12,
   "id": "ab94df93",
   "metadata": {},
   "outputs": [
    {
     "data": {
      "text/plain": [
       "{'paeds': 0.049954586739327886,\n",
       " 'adult': 0.3042688465031789,\n",
       " 'senior': 0.6457765667574932}"
      ]
     },
     "execution_count": 12,
     "metadata": {},
     "output_type": "execute_result"
    }
   ],
   "source": [
    "age_dist = data['step_3']['age_dist']\n",
    "age_dist"
   ]
  },
  {
   "cell_type": "code",
   "execution_count": 13,
   "id": "6a6bded0",
   "metadata": {},
   "outputs": [],
   "source": [
    "import salabim as sim"
   ]
  },
  {
   "cell_type": "code",
   "execution_count": 14,
   "id": "4d757713",
   "metadata": {},
   "outputs": [],
   "source": [
    "# Get the simulation end, i.e. midnight one day after the last day in `df_arr`\n",
    "sim_end = list(df_arr.date)[-1] + pd.Timedelta(days=1)"
   ]
  },
  {
   "cell_type": "code",
   "execution_count": 26,
   "id": "3c6824ef",
   "metadata": {},
   "outputs": [
    {
     "data": {
      "text/plain": [
       "Timestamp('2025-03-01 00:00:00')"
      ]
     },
     "execution_count": 26,
     "metadata": {},
     "output_type": "execute_result"
    }
   ],
   "source": [
    "sim_end"
   ]
  },
  {
   "cell_type": "code",
   "execution_count": 15,
   "id": "506b6e77",
   "metadata": {},
   "outputs": [],
   "source": [
    "from math import isnan\n",
    "from numpy.random import normal\n",
    "\n",
    "u01 = sim.Uniform(0, 1)\n",
    "JITTER = 0.05 # Add 5% jitter to simulation arrivals\n",
    "\n",
    "\n",
    "class Environment(sim.Environment):\n",
    "    \"\"\"The simulation environment\"\"\"\n",
    "    beds: sim.Resource\n",
    "\n",
    "    # Use virtual resources as counters for different types of bed occupancies\n",
    "    beds_adult: sim.Resource\n",
    "    beds_paeds: sim.Resource\n",
    "\n",
    "    def setup(self):\n",
    "        self.beds = sim.Resource('beds', capacity=sim.inf, env=self)\n",
    "        self.beds_adult = sim.Resource('beds', capacity=sim.inf, env=self)\n",
    "        self.beds_paeds = sim.Resource('beds', capacity=sim.inf, env=self)\n",
    "\n",
    "\n",
    "class Patient(sim.Component):\n",
    "    \"\"\"A patient in the respiratory disease model.\"\"\"\n",
    "\n",
    "    def process(self):\n",
    "        \"\"\"Model a patient journey through the ward.\"\"\"\n",
    "        self.env: Environment\n",
    "\n",
    "        # Arrivals are generated at midnight but released to the system at a random time of day\n",
    "        self.hold(self.env.days(u01))\n",
    "\n",
    "        is_paeds = False\n",
    "        if (r := u01()) < age_dist['paeds']:\n",
    "            is_paeds = True\n",
    "            los = dist_paeds.rvs()\n",
    "        elif r < age_dist['paeds'] + age_dist['adult']:\n",
    "            los = dist_adult.rvs()\n",
    "        else:\n",
    "            los = dist_senior.rvs()\n",
    "        \n",
    "        assert not isnan(los), 'LOS is nan'\n",
    "        los = max(0, los)  # Clip to bounds\n",
    "\n",
    "        self.request(self.env.beds)  # 1 hold\n",
    "        self.request(self.env.beds_paeds if is_paeds else self.env.beds_adult)  # 2 holds\n",
    "        self.hold(los)\n",
    "        self.release(self.env.beds_paeds if is_paeds else self.env.beds_adult)  # 1 holds\n",
    "        self.release(self.env.beds)  # 0 holds\n",
    "\n",
    "\n",
    "class DailyArrivals(sim.Component):\n",
    "    \"\"\"Daily Arrival generator.\"\"\"\n",
    "\n",
    "    def process(self):\n",
    "        \"\"\"Generate patients. Patients are batch-generated each day; each Patient instance\n",
    "        is responsible for entering the system at the correct time-of-day using\n",
    "        `Patient.hold()`.\"\"\"\n",
    "        for n_cases in df_arr.n_arr:\n",
    "            n = round(n_cases * normal(1.0, JITTER))\n",
    "            for _ in range(n):\n",
    "                Patient()\n",
    "            self.hold(self.env.days(1.0))\n",
    "\n",
    "\n",
    "def simulate(df_arr: pd.DataFrame, until: pd.Timestamp):\n",
    "    \"\"\"The respirator disease model simulation.\"\"\"\n",
    "    env = Environment(time_unit='days', datetime0=df_arr.date[0], random_seed='*')\n",
    "    DailyArrivals(env=env)\n",
    "\n",
    "    env.run(env.datetime_to_t(until))\n",
    "\n",
    "    beds_df = env.beds.claimed_quantity.as_dataframe().set_index('t')\n",
    "    beds_paeds_df = env.beds_paeds.claimed_quantity.as_dataframe().set_index('t')\n",
    "    beds_adult_df = env.beds_adult.claimed_quantity.as_dataframe().set_index('t')\n",
    "\n",
    "    beds_df.index = beds_df.index.map(env.t_to_datetime)\n",
    "    beds_paeds_df.index = beds_paeds_df.index.map(env.t_to_datetime)\n",
    "    beds_adult_df.index = beds_adult_df.index.map(env.t_to_datetime)\n",
    "\n",
    "    beds_df = beds_df.resample('1D').max().ffill()\n",
    "    beds_paeds_df = beds_paeds_df.resample('1D').max().ffill()\n",
    "    beds_adult_df = beds_adult_df.resample('1D').max().ffill()\n",
    "\n",
    "    return {\n",
    "        'total': beds_df, 'paeds': beds_paeds_df, 'adult': beds_adult_df\n",
    "    }"
   ]
  },
  {
   "cell_type": "code",
   "execution_count": 16,
   "id": "d69a6a98",
   "metadata": {},
   "outputs": [],
   "source": [
    "dfs = []\n",
    "dfs_adult = []\n",
    "dfs_paeds = []\n",
    "\n",
    "for _ in range(30):\n",
    "    result = simulate(df_arr, until=sim_end)\n",
    "    dfs.append(result['total'])\n",
    "    dfs_paeds.append(result['paeds'])\n",
    "    dfs_adult.append(result['adult'])\n",
    "\n",
    "df30 = pd.concat(dfs, axis=1)\n",
    "df30_adult = pd.concat(dfs_adult, axis=1)\n",
    "df30_paeds = pd.concat(dfs_paeds, axis=1)"
   ]
  },
  {
   "cell_type": "code",
   "execution_count": 17,
   "id": "ca188ff7",
   "metadata": {},
   "outputs": [
    {
     "data": {
      "image/png": "[encoded data removed]",
      "text/plain": [
       "<Figure size 640x480 with 1 Axes>"
      ]
     },
     "metadata": {},
     "output_type": "display_data"
    }
   ],
   "source": [
    "from matplotlib import pyplot as plt\n",
    "\n",
    "quantiles = df30.quantile(q=[0.1, 0.25, 0.5, 0.75, 0.9], axis=1).T\n",
    "quantiles.plot(xlabel='Day number', ylabel='Total occupancy', title='Total bed forecast')\n",
    "plt.show()"
   ]
  },
  {
   "cell_type": "code",
   "execution_count": 18,
   "id": "44f1aa1c",
   "metadata": {},
   "outputs": [
    {
     "data": {
      "image/png": "[encoded data removed]",
      "text/plain": [
       "<Figure size 640x480 with 1 Axes>"
      ]
     },
     "metadata": {},
     "output_type": "display_data"
    }
   ],
   "source": [
    "quantiles = df30_adult.quantile(q=[0.1, 0.25, 0.5, 0.75, 0.9], axis=1).T\n",
    "quantiles.plot(xlabel='Day number', ylabel='Total occupancy', title='Adult bed forecast')\n",
    "plt.show()"
   ]
  },
  {
   "cell_type": "code",
   "execution_count": 19,
   "id": "737e37cf",
   "metadata": {},
   "outputs": [
    {
     "data": {
      "image/png": "[encoded data removed]",
      "text/plain": [
       "<Figure size 640x480 with 1 Axes>"
      ]
     },
     "metadata": {},
     "output_type": "display_data"
    }
   ],
   "source": [
    "quantiles = df30_paeds.quantile(q=[0.1, 0.25, 0.5, 0.75, 0.9], axis=1).T\n",
    "quantiles.plot(xlabel='Day number', ylabel='Total occupancy', title='Paeds bed forecast')\n",
    "plt.show()"
   ]
  },
  {
   "cell_type": "code",
   "execution_count": 20,
   "id": "0af26916",
   "metadata": {},
   "outputs": [],
   "source": [
    "import plotly.graph_objects as go\n",
    "import numpy as np"
   ]
  },
  {
   "cell_type": "code",
   "execution_count": 23,
   "id": "166ad458",
   "metadata": {},
   "outputs": [
    {
     "data": {
      "application/vnd.plotly.v1+json": {
       "config": {
        "plotlyServerURL": "https://plot.ly"
       },
       "data": [
        {
         "fill": "toself",
         "fillcolor": "rgba(231,107,243,0.3)",
         "line": {
          "color": "rgba(255,255,255,0)"
         },
         "name": "lower/upper deciles",
         "type": "scatter",
         "x": [
          "2024-10-01T00:00:00",
          "2024-10-02T00:00:00",
          "2024-10-03T00:00:00",
          "2024-10-04T00:00:00",
          "2024-10-05T00:00:00",
          "2024-10-06T00:00:00",
          "2024-10-07T00:00:00",
          "2024-10-08T00:00:00",
          "2024-10-09T00:00:00",
          "2024-10-10T00:00:00",
          "2024-10-11T00:00:00",
          "2024-10-12T00:00:00",
          "2024-10-13T00:00:00",
          "2024-10-14T00:00:00",
          "2024-10-15T00:00:00",
          "2024-10-16T00:00:00",
          "2024-10-17T00:00:00",
          "2024-10-18T00:00:00",
          "2024-10-19T00:00:00",
          "2024-10-20T00:00:00",
          "2024-10-21T00:00:00",
          "2024-10-22T00:00:00",
          "2024-10-23T00:00:00",
          "2024-10-24T00:00:00",
          "2024-10-25T00:00:00",
          "2024-10-26T00:00:00",
          "2024-10-27T00:00:00",
          "2024-10-28T00:00:00",
          "2024-10-29T00:00:00",
          "2024-10-30T00:00:00",
          "2024-10-31T00:00:00",
          "2024-11-01T00:00:00",
          "2024-11-02T00:00:00",
          "2024-11-03T00:00:00",
          "2024-11-04T00:00:00",
          "2024-11-05T00:00:00",
          "2024-11-06T00:00:00",
          "2024-11-07T00:00:00",
          "2024-11-08T00:00:00",
          "2024-11-09T00:00:00",
          "2024-11-10T00:00:00",
          "2024-11-11T00:00:00",
          "2024-11-12T00:00:00",
          "2024-11-13T00:00:00",
          "2024-11-14T00:00:00",
          "2024-11-15T00:00:00",
          "2024-11-16T00:00:00",
          "2024-11-17T00:00:00",
          "2024-11-18T00:00:00",
          "2024-11-19T00:00:00",
          "2024-11-20T00:00:00",
          "2024-11-21T00:00:00",
          "2024-11-22T00:00:00",
          "2024-11-23T00:00:00",
          "2024-11-24T00:00:00",
          "2024-11-25T00:00:00",
          "2024-11-26T00:00:00",
          "2024-11-27T00:00:00",
          "2024-11-28T00:00:00",
          "2024-11-29T00:00:00",
          "2024-11-30T00:00:00",
          "2024-12-01T00:00:00",
          "2024-12-02T00:00:00",
          "2024-12-03T00:00:00",
          "2024-12-04T00:00:00",
          "2024-12-05T00:00:00",
          "2024-12-06T00:00:00",
          "2024-12-07T00:00:00",
          "2024-12-08T00:00:00",
          "2024-12-09T00:00:00",
          "2024-12-10T00:00:00",
          "2024-12-11T00:00:00",
          "2024-12-12T00:00:00",
          "2024-12-13T00:00:00",
          "2024-12-14T00:00:00",
          "2024-12-15T00:00:00",
          "2024-12-16T00:00:00",
          "2024-12-17T00:00:00",
          "2024-12-18T00:00:00",
          "2024-12-19T00:00:00",
          "2024-12-20T00:00:00",
          "2024-12-21T00:00:00",
          "2024-12-22T00:00:00",
          "2024-12-23T00:00:00",
          "2024-12-24T00:00:00",
          "2024-12-25T00:00:00",
          "2024-12-26T00:00:00",
          "2024-12-27T00:00:00",
          "2024-12-28T00:00:00",
          "2024-12-29T00:00:00",
          "2024-12-30T00:00:00",
          "2024-12-31T00:00:00",
          "2025-01-01T00:00:00",
          "2025-01-02T00:00:00",
          "2025-01-03T00:00:00",
          "2025-01-04T00:00:00",
          "2025-01-05T00:00:00",
          "2025-01-06T00:00:00",
          "2025-01-07T00:00:00",
          "2025-01-08T00:00:00",
          "2025-01-09T00:00:00",
          "2025-01-10T00:00:00",
          "2025-01-11T00:00:00",
          "2025-01-12T00:00:00",
          "2025-01-13T00:00:00",
          "2025-01-14T00:00:00",
          "2025-01-15T00:00:00",
          "2025-01-16T00:00:00",
          "2025-01-17T00:00:00",
          "2025-01-18T00:00:00",
          "2025-01-19T00:00:00",
          "2025-01-20T00:00:00",
          "2025-01-21T00:00:00",
          "2025-01-22T00:00:00",
          "2025-01-23T00:00:00",
          "2025-01-24T00:00:00",
          "2025-01-25T00:00:00",
          "2025-01-26T00:00:00",
          "2025-01-27T00:00:00",
          "2025-01-28T00:00:00",
          "2025-01-29T00:00:00",
          "2025-01-30T00:00:00",
          "2025-01-31T00:00:00",
          "2025-02-01T00:00:00",
          "2025-02-02T00:00:00",
          "2025-02-03T00:00:00",
          "2025-02-04T00:00:00",
          "2025-02-05T00:00:00",
          "2025-02-06T00:00:00",
          "2025-02-07T00:00:00",
          "2025-02-08T00:00:00",
          "2025-02-09T00:00:00",
          "2025-02-10T00:00:00",
          "2025-02-11T00:00:00",
          "2025-02-12T00:00:00",
          "2025-02-13T00:00:00",
          "2025-02-14T00:00:00",
          "2025-02-15T00:00:00",
          "2025-02-16T00:00:00",
          "2025-02-17T00:00:00",
          "2025-02-18T00:00:00",
          "2025-02-19T00:00:00",
          "2025-02-20T00:00:00",
          "2025-02-21T00:00:00",
          "2025-02-22T00:00:00",
          "2025-02-23T00:00:00",
          "2025-02-24T00:00:00",
          "2025-02-25T00:00:00",
          "2025-02-26T00:00:00",
          "2025-02-27T00:00:00",
          "2025-02-28T00:00:00",
          "2025-03-01T00:00:00",
          "2025-03-01T00:00:00",
          "2025-02-28T00:00:00",
          "2025-02-27T00:00:00",
          "2025-02-26T00:00:00",
          "2025-02-25T00:00:00",
          "2025-02-24T00:00:00",
          "2025-02-23T00:00:00",
          "2025-02-22T00:00:00",
          "2025-02-21T00:00:00",
          "2025-02-20T00:00:00",
          "2025-02-19T00:00:00",
          "2025-02-18T00:00:00",
          "2025-02-17T00:00:00",
          "2025-02-16T00:00:00",
          "2025-02-15T00:00:00",
          "2025-02-14T00:00:00",
          "2025-02-13T00:00:00",
          "2025-02-12T00:00:00",
          "2025-02-11T00:00:00",
          "2025-02-10T00:00:00",
          "2025-02-09T00:00:00",
          "2025-02-08T00:00:00",
          "2025-02-07T00:00:00",
          "2025-02-06T00:00:00",
          "2025-02-05T00:00:00",
          "2025-02-04T00:00:00",
          "2025-02-03T00:00:00",
          "2025-02-02T00:00:00",
          "2025-02-01T00:00:00",
          "2025-01-31T00:00:00",
          "2025-01-30T00:00:00",
          "2025-01-29T00:00:00",
          "2025-01-28T00:00:00",
          "2025-01-27T00:00:00",
          "2025-01-26T00:00:00",
          "2025-01-25T00:00:00",
          "2025-01-24T00:00:00",
          "2025-01-23T00:00:00",
          "2025-01-22T00:00:00",
          "2025-01-21T00:00:00",
          "2025-01-20T00:00:00",
          "2025-01-19T00:00:00",
          "2025-01-18T00:00:00",
          "2025-01-17T00:00:00",
          "2025-01-16T00:00:00",
          "2025-01-15T00:00:00",
          "2025-01-14T00:00:00",
          "2025-01-13T00:00:00",
          "2025-01-12T00:00:00",
          "2025-01-11T00:00:00",
          "2025-01-10T00:00:00",
          "2025-01-09T00:00:00",
          "2025-01-08T00:00:00",
          "2025-01-07T00:00:00",
          "2025-01-06T00:00:00",
          "2025-01-05T00:00:00",
          "2025-01-04T00:00:00",
          "2025-01-03T00:00:00",
          "2025-01-02T00:00:00",
          "2025-01-01T00:00:00",
          "2024-12-31T00:00:00",
          "2024-12-30T00:00:00",
          "2024-12-29T00:00:00",
          "2024-12-28T00:00:00",
          "2024-12-27T00:00:00",
          "2024-12-26T00:00:00",
          "2024-12-25T00:00:00",
          "2024-12-24T00:00:00",
          "2024-12-23T00:00:00",
          "2024-12-22T00:00:00",
          "2024-12-21T00:00:00",
          "2024-12-20T00:00:00",
          "2024-12-19T00:00:00",
          "2024-12-18T00:00:00",
          "2024-12-17T00:00:00",
          "2024-12-16T00:00:00",
          "2024-12-15T00:00:00",
          "2024-12-14T00:00:00",
          "2024-12-13T00:00:00",
          "2024-12-12T00:00:00",
          "2024-12-11T00:00:00",
          "2024-12-10T00:00:00",
          "2024-12-09T00:00:00",
          "2024-12-08T00:00:00",
          "2024-12-07T00:00:00",
          "2024-12-06T00:00:00",
          "2024-12-05T00:00:00",
          "2024-12-04T00:00:00",
          "2024-12-03T00:00:00",
          "2024-12-02T00:00:00",
          "2024-12-01T00:00:00",
          "2024-11-30T00:00:00",
          "2024-11-29T00:00:00",
          "2024-11-28T00:00:00",
          "2024-11-27T00:00:00",
          "2024-11-26T00:00:00",
          "2024-11-25T00:00:00",
          "2024-11-24T00:00:00",
          "2024-11-23T00:00:00",
          "2024-11-22T00:00:00",
          "2024-11-21T00:00:00",
          "2024-11-20T00:00:00",
          "2024-11-19T00:00:00",
          "2024-11-18T00:00:00",
          "2024-11-17T00:00:00",
          "2024-11-16T00:00:00",
          "2024-11-15T00:00:00",
          "2024-11-14T00:00:00",
          "2024-11-13T00:00:00",
          "2024-11-12T00:00:00",
          "2024-11-11T00:00:00",
          "2024-11-10T00:00:00",
          "2024-11-09T00:00:00",
          "2024-11-08T00:00:00",
          "2024-11-07T00:00:00",
          "2024-11-06T00:00:00",
          "2024-11-05T00:00:00",
          "2024-11-04T00:00:00",
          "2024-11-03T00:00:00",
          "2024-11-02T00:00:00",
          "2024-11-01T00:00:00",
          "2024-10-31T00:00:00",
          "2024-10-30T00:00:00",
          "2024-10-29T00:00:00",
          "2024-10-28T00:00:00",
          "2024-10-27T00:00:00",
          "2024-10-26T00:00:00",
          "2024-10-25T00:00:00",
          "2024-10-24T00:00:00",
          "2024-10-23T00:00:00",
          "2024-10-22T00:00:00",
          "2024-10-21T00:00:00",
          "2024-10-20T00:00:00",
          "2024-10-19T00:00:00",
          "2024-10-18T00:00:00",
          "2024-10-17T00:00:00",
          "2024-10-16T00:00:00",
          "2024-10-15T00:00:00",
          "2024-10-14T00:00:00",
          "2024-10-13T00:00:00",
          "2024-10-12T00:00:00",
          "2024-10-11T00:00:00",
          "2024-10-10T00:00:00",
          "2024-10-09T00:00:00",
          "2024-10-08T00:00:00",
          "2024-10-07T00:00:00",
          "2024-10-06T00:00:00",
          "2024-10-05T00:00:00",
          "2024-10-04T00:00:00",
          "2024-10-03T00:00:00",
          "2024-10-02T00:00:00",
          "2024-10-01T00:00:00"
         ],
         "y": [
          2,
          4,
          6,
          8,
          10,
          11,
          12,
          14,
          15,
          16,
          16.1,
          18,
          19.1,
          20.1,
          21,
          21.200000000000003,
          21.200000000000003,
          23,
          22.1,
          22,
          22.1,
          23,
          22.1,
          23,
          23.1,
          23.1,
          24,
          25,
          26,
          25,
          25,
          26,
          25.1,
          26,
          27,
          28.1,
          29.1,
          30.1,
          33,
          33,
          34,
          35,
          35.1,
          37,
          39,
          40.1,
          43,
          45.1,
          47.1,
          50.1,
          53.1,
          57.1,
          61.1,
          65.1,
          70.1,
          74.1,
          78.30000000000001,
          84.1,
          90,
          94,
          97.1,
          103.2,
          109.1,
          115.2,
          121,
          126,
          130,
          133,
          134.1,
          138.1,
          141,
          146,
          147,
          152,
          152.2,
          153.2,
          153.5,
          154.2,
          157.1,
          156.3,
          158,
          155.1,
          151.3,
          148.3,
          145.2,
          140,
          138.1,
          134.3,
          131,
          128.1,
          124.2,
          118.2,
          114.4,
          108.60000000000001,
          104.2,
          99,
          98.1,
          93,
          89.2,
          84.1,
          82,
          78,
          76,
          72.1,
          71.1,
          67,
          63.1,
          61.1,
          60,
          57.2,
          55,
          52.1,
          51.1,
          50,
          50.1,
          47.300000000000004,
          47.1,
          45,
          43,
          42,
          43.1,
          43.1,
          41.2,
          40,
          38.2,
          38.1,
          38.1,
          36.1,
          35.1,
          35.1,
          35.1,
          34.1,
          34,
          35,
          34,
          34.1,
          34.2,
          32.2,
          33.2,
          33,
          32.1,
          32.1,
          32.1,
          31,
          31.1,
          31.1,
          31,
          31,
          30.1,
          30,
          31,
          30,
          20,
          21,
          20.9,
          20,
          20.9,
          19.9,
          21,
          22,
          22,
          23.9,
          23,
          23.8,
          22,
          23,
          21.9,
          23,
          23.8,
          23.8,
          24.9,
          26,
          26.9,
          26.9,
          28,
          28,
          28.9,
          28.9,
          28,
          30,
          30,
          30.9,
          30.9,
          31.9,
          31.9,
          33.9,
          34.6,
          35.5,
          35.9,
          36.8,
          37,
          40.9,
          42,
          42.9,
          44,
          47.9,
          49.9,
          50.8,
          51,
          52.9,
          55,
          58,
          62.9,
          65.8,
          68.7,
          72.9,
          75,
          79.9,
          84,
          87.9,
          88,
          92.9,
          100,
          105,
          109,
          112.9,
          116.8,
          119.6,
          122,
          123.9,
          124.9,
          128,
          134,
          133.8,
          130.9,
          132.6,
          131.9,
          135.8,
          135.5,
          130.9,
          131.6,
          129,
          129.9,
          127.9,
          122.9,
          120,
          116.9,
          112,
          106.9,
          101.9,
          98,
          94.9,
          90,
          84,
          79.8,
          75,
          70,
          64.8,
          57.9,
          53.9,
          51.9,
          48.9,
          45.9,
          42.7,
          38.9,
          36,
          34,
          32.9,
          29.9,
          29.8,
          27,
          25.9,
          24.9,
          23.9,
          22.9,
          22.9,
          20.9,
          20,
          19.8,
          19,
          18,
          17.9,
          17,
          17.9,
          17,
          16.9,
          16.9,
          17,
          17,
          17.9,
          16.9,
          16,
          17.8,
          16,
          16.9,
          16,
          15.9,
          15,
          14.9,
          14,
          13,
          12,
          11,
          11,
          10.9,
          10,
          9.9,
          9,
          7.9,
          7,
          6,
          5,
          3,
          2
         ]
        },
        {
         "fill": "toself",
         "fillcolor": "rgba(231,107,243,0.5)",
         "line": {
          "color": "rgba(255,255,255,0)"
         },
         "name": "lower/upper quartiles",
         "type": "scatter",
         "x": [
          "2024-10-01T00:00:00",
          "2024-10-02T00:00:00",
          "2024-10-03T00:00:00",
          "2024-10-04T00:00:00",
          "2024-10-05T00:00:00",
          "2024-10-06T00:00:00",
          "2024-10-07T00:00:00",
          "2024-10-08T00:00:00",
          "2024-10-09T00:00:00",
          "2024-10-10T00:00:00",
          "2024-10-11T00:00:00",
          "2024-10-12T00:00:00",
          "2024-10-13T00:00:00",
          "2024-10-14T00:00:00",
          "2024-10-15T00:00:00",
          "2024-10-16T00:00:00",
          "2024-10-17T00:00:00",
          "2024-10-18T00:00:00",
          "2024-10-19T00:00:00",
          "2024-10-20T00:00:00",
          "2024-10-21T00:00:00",
          "2024-10-22T00:00:00",
          "2024-10-23T00:00:00",
          "2024-10-24T00:00:00",
          "2024-10-25T00:00:00",
          "2024-10-26T00:00:00",
          "2024-10-27T00:00:00",
          "2024-10-28T00:00:00",
          "2024-10-29T00:00:00",
          "2024-10-30T00:00:00",
          "2024-10-31T00:00:00",
          "2024-11-01T00:00:00",
          "2024-11-02T00:00:00",
          "2024-11-03T00:00:00",
          "2024-11-04T00:00:00",
          "2024-11-05T00:00:00",
          "2024-11-06T00:00:00",
          "2024-11-07T00:00:00",
          "2024-11-08T00:00:00",
          "2024-11-09T00:00:00",
          "2024-11-10T00:00:00",
          "2024-11-11T00:00:00",
          "2024-11-12T00:00:00",
          "2024-11-13T00:00:00",
          "2024-11-14T00:00:00",
          "2024-11-15T00:00:00",
          "2024-11-16T00:00:00",
          "2024-11-17T00:00:00",
          "2024-11-18T00:00:00",
          "2024-11-19T00:00:00",
          "2024-11-20T00:00:00",
          "2024-11-21T00:00:00",
          "2024-11-22T00:00:00",
          "2024-11-23T00:00:00",
          "2024-11-24T00:00:00",
          "2024-11-25T00:00:00",
          "2024-11-26T00:00:00",
          "2024-11-27T00:00:00",
          "2024-11-28T00:00:00",
          "2024-11-29T00:00:00",
          "2024-11-30T00:00:00",
          "2024-12-01T00:00:00",
          "2024-12-02T00:00:00",
          "2024-12-03T00:00:00",
          "2024-12-04T00:00:00",
          "2024-12-05T00:00:00",
          "2024-12-06T00:00:00",
          "2024-12-07T00:00:00",
          "2024-12-08T00:00:00",
          "2024-12-09T00:00:00",
          "2024-12-10T00:00:00",
          "2024-12-11T00:00:00",
          "2024-12-12T00:00:00",
          "2024-12-13T00:00:00",
          "2024-12-14T00:00:00",
          "2024-12-15T00:00:00",
          "2024-12-16T00:00:00",
          "2024-12-17T00:00:00",
          "2024-12-18T00:00:00",
          "2024-12-19T00:00:00",
          "2024-12-20T00:00:00",
          "2024-12-21T00:00:00",
          "2024-12-22T00:00:00",
          "2024-12-23T00:00:00",
          "2024-12-24T00:00:00",
          "2024-12-25T00:00:00",
          "2024-12-26T00:00:00",
          "2024-12-27T00:00:00",
          "2024-12-28T00:00:00",
          "2024-12-29T00:00:00",
          "2024-12-30T00:00:00",
          "2024-12-31T00:00:00",
          "2025-01-01T00:00:00",
          "2025-01-02T00:00:00",
          "2025-01-03T00:00:00",
          "2025-01-04T00:00:00",
          "2025-01-05T00:00:00",
          "2025-01-06T00:00:00",
          "2025-01-07T00:00:00",
          "2025-01-08T00:00:00",
          "2025-01-09T00:00:00",
          "2025-01-10T00:00:00",
          "2025-01-11T00:00:00",
          "2025-01-12T00:00:00",
          "2025-01-13T00:00:00",
          "2025-01-14T00:00:00",
          "2025-01-15T00:00:00",
          "2025-01-16T00:00:00",
          "2025-01-17T00:00:00",
          "2025-01-18T00:00:00",
          "2025-01-19T00:00:00",
          "2025-01-20T00:00:00",
          "2025-01-21T00:00:00",
          "2025-01-22T00:00:00",
          "2025-01-23T00:00:00",
          "2025-01-24T00:00:00",
          "2025-01-25T00:00:00",
          "2025-01-26T00:00:00",
          "2025-01-27T00:00:00",
          "2025-01-28T00:00:00",
          "2025-01-29T00:00:00",
          "2025-01-30T00:00:00",
          "2025-01-31T00:00:00",
          "2025-02-01T00:00:00",
          "2025-02-02T00:00:00",
          "2025-02-03T00:00:00",
          "2025-02-04T00:00:00",
          "2025-02-05T00:00:00",
          "2025-02-06T00:00:00",
          "2025-02-07T00:00:00",
          "2025-02-08T00:00:00",
          "2025-02-09T00:00:00",
          "2025-02-10T00:00:00",
          "2025-02-11T00:00:00",
          "2025-02-12T00:00:00",
          "2025-02-13T00:00:00",
          "2025-02-14T00:00:00",
          "2025-02-15T00:00:00",
          "2025-02-16T00:00:00",
          "2025-02-17T00:00:00",
          "2025-02-18T00:00:00",
          "2025-02-19T00:00:00",
          "2025-02-20T00:00:00",
          "2025-02-21T00:00:00",
          "2025-02-22T00:00:00",
          "2025-02-23T00:00:00",
          "2025-02-24T00:00:00",
          "2025-02-25T00:00:00",
          "2025-02-26T00:00:00",
          "2025-02-27T00:00:00",
          "2025-02-28T00:00:00",
          "2025-03-01T00:00:00",
          "2025-03-01T00:00:00",
          "2025-02-28T00:00:00",
          "2025-02-27T00:00:00",
          "2025-02-26T00:00:00",
          "2025-02-25T00:00:00",
          "2025-02-24T00:00:00",
          "2025-02-23T00:00:00",
          "2025-02-22T00:00:00",
          "2025-02-21T00:00:00",
          "2025-02-20T00:00:00",
          "2025-02-19T00:00:00",
          "2025-02-18T00:00:00",
          "2025-02-17T00:00:00",
          "2025-02-16T00:00:00",
          "2025-02-15T00:00:00",
          "2025-02-14T00:00:00",
          "2025-02-13T00:00:00",
          "2025-02-12T00:00:00",
          "2025-02-11T00:00:00",
          "2025-02-10T00:00:00",
          "2025-02-09T00:00:00",
          "2025-02-08T00:00:00",
          "2025-02-07T00:00:00",
          "2025-02-06T00:00:00",
          "2025-02-05T00:00:00",
          "2025-02-04T00:00:00",
          "2025-02-03T00:00:00",
          "2025-02-02T00:00:00",
          "2025-02-01T00:00:00",
          "2025-01-31T00:00:00",
          "2025-01-30T00:00:00",
          "2025-01-29T00:00:00",
          "2025-01-28T00:00:00",
          "2025-01-27T00:00:00",
          "2025-01-26T00:00:00",
          "2025-01-25T00:00:00",
          "2025-01-24T00:00:00",
          "2025-01-23T00:00:00",
          "2025-01-22T00:00:00",
          "2025-01-21T00:00:00",
          "2025-01-20T00:00:00",
          "2025-01-19T00:00:00",
          "2025-01-18T00:00:00",
          "2025-01-17T00:00:00",
          "2025-01-16T00:00:00",
          "2025-01-15T00:00:00",
          "2025-01-14T00:00:00",
          "2025-01-13T00:00:00",
          "2025-01-12T00:00:00",
          "2025-01-11T00:00:00",
          "2025-01-10T00:00:00",
          "2025-01-09T00:00:00",
          "2025-01-08T00:00:00",
          "2025-01-07T00:00:00",
          "2025-01-06T00:00:00",
          "2025-01-05T00:00:00",
          "2025-01-04T00:00:00",
          "2025-01-03T00:00:00",
          "2025-01-02T00:00:00",
          "2025-01-01T00:00:00",
          "2024-12-31T00:00:00",
          "2024-12-30T00:00:00",
          "2024-12-29T00:00:00",
          "2024-12-28T00:00:00",
          "2024-12-27T00:00:00",
          "2024-12-26T00:00:00",
          "2024-12-25T00:00:00",
          "2024-12-24T00:00:00",
          "2024-12-23T00:00:00",
          "2024-12-22T00:00:00",
          "2024-12-21T00:00:00",
          "2024-12-20T00:00:00",
          "2024-12-19T00:00:00",
          "2024-12-18T00:00:00",
          "2024-12-17T00:00:00",
          "2024-12-16T00:00:00",
          "2024-12-15T00:00:00",
          "2024-12-14T00:00:00",
          "2024-12-13T00:00:00",
          "2024-12-12T00:00:00",
          "2024-12-11T00:00:00",
          "2024-12-10T00:00:00",
          "2024-12-09T00:00:00",
          "2024-12-08T00:00:00",
          "2024-12-07T00:00:00",
          "2024-12-06T00:00:00",
          "2024-12-05T00:00:00",
          "2024-12-04T00:00:00",
          "2024-12-03T00:00:00",
          "2024-12-02T00:00:00",
          "2024-12-01T00:00:00",
          "2024-11-30T00:00:00",
          "2024-11-29T00:00:00",
          "2024-11-28T00:00:00",
          "2024-11-27T00:00:00",
          "2024-11-26T00:00:00",
          "2024-11-25T00:00:00",
          "2024-11-24T00:00:00",
          "2024-11-23T00:00:00",
          "2024-11-22T00:00:00",
          "2024-11-21T00:00:00",
          "2024-11-20T00:00:00",
          "2024-11-19T00:00:00",
          "2024-11-18T00:00:00",
          "2024-11-17T00:00:00",
          "2024-11-16T00:00:00",
          "2024-11-15T00:00:00",
          "2024-11-14T00:00:00",
          "2024-11-13T00:00:00",
          "2024-11-12T00:00:00",
          "2024-11-11T00:00:00",
          "2024-11-10T00:00:00",
          "2024-11-09T00:00:00",
          "2024-11-08T00:00:00",
          "2024-11-07T00:00:00",
          "2024-11-06T00:00:00",
          "2024-11-05T00:00:00",
          "2024-11-04T00:00:00",
          "2024-11-03T00:00:00",
          "2024-11-02T00:00:00",
          "2024-11-01T00:00:00",
          "2024-10-31T00:00:00",
          "2024-10-30T00:00:00",
          "2024-10-29T00:00:00",
          "2024-10-28T00:00:00",
          "2024-10-27T00:00:00",
          "2024-10-26T00:00:00",
          "2024-10-25T00:00:00",
          "2024-10-24T00:00:00",
          "2024-10-23T00:00:00",
          "2024-10-22T00:00:00",
          "2024-10-21T00:00:00",
          "2024-10-20T00:00:00",
          "2024-10-19T00:00:00",
          "2024-10-18T00:00:00",
          "2024-10-17T00:00:00",
          "2024-10-16T00:00:00",
          "2024-10-15T00:00:00",
          "2024-10-14T00:00:00",
          "2024-10-13T00:00:00",
          "2024-10-12T00:00:00",
          "2024-10-11T00:00:00",
          "2024-10-10T00:00:00",
          "2024-10-09T00:00:00",
          "2024-10-08T00:00:00",
          "2024-10-07T00:00:00",
          "2024-10-06T00:00:00",
          "2024-10-05T00:00:00",
          "2024-10-04T00:00:00",
          "2024-10-03T00:00:00",
          "2024-10-02T00:00:00",
          "2024-10-01T00:00:00"
         ],
         "y": [
          2,
          4,
          6,
          8,
          9,
          10,
          11.75,
          13,
          14,
          15,
          15,
          17,
          17.75,
          18,
          19,
          19,
          20,
          21,
          20,
          21,
          21,
          21.75,
          22,
          22,
          22,
          23,
          22,
          22.75,
          23,
          23.75,
          24,
          24,
          24,
          25,
          24,
          25.75,
          26,
          27.75,
          28.75,
          29,
          30,
          31,
          33,
          34.75,
          37.75,
          38.75,
          40,
          42.75,
          44.75,
          48,
          51.75,
          55,
          57.75,
          62,
          66.75,
          70.75,
          76.75,
          81,
          85.75,
          91.75,
          96,
          100,
          106.75,
          109.5,
          113,
          118.5,
          122.75,
          127.75,
          130.75,
          135.5,
          139,
          142,
          145.75,
          148,
          147.75,
          151.75,
          151,
          150,
          151.75,
          150.25,
          150,
          151,
          147.75,
          144,
          141.75,
          137,
          134,
          128,
          126.75,
          123.5,
          118,
          112,
          110.75,
          104,
          99.75,
          95,
          93.75,
          88.75,
          84.75,
          81,
          78.75,
          75.75,
          72.75,
          70,
          67,
          63.75,
          61.75,
          58,
          55.5,
          52.75,
          51,
          50,
          48,
          47.75,
          46,
          45,
          43.75,
          42,
          41,
          41,
          40,
          38.75,
          37.75,
          38,
          37,
          36,
          36,
          36,
          35,
          34,
          33,
          33,
          32,
          32.75,
          31,
          31.75,
          31,
          31.75,
          31.5,
          29.75,
          30.75,
          30,
          30.75,
          29,
          28,
          28.75,
          29,
          28,
          28.75,
          27,
          28,
          26.75,
          21.5,
          22.25,
          22,
          22.25,
          22,
          23,
          24,
          24,
          24,
          25,
          25.25,
          25.25,
          24.5,
          25,
          26.25,
          27,
          27,
          28,
          28,
          28,
          29,
          30,
          29.5,
          30,
          30,
          31,
          30.25,
          32,
          32,
          32.25,
          33,
          34.25,
          34.25,
          36.25,
          37,
          37.25,
          38.25,
          39,
          39.5,
          42.25,
          44,
          45.25,
          49,
          49.25,
          51,
          52.5,
          55.25,
          58.25,
          61.25,
          64.75,
          69.25,
          72.5,
          72.5,
          77.25,
          80.25,
          82.25,
          89,
          91.25,
          97,
          101,
          105.5,
          109.25,
          112.25,
          117,
          121,
          124,
          129,
          130.75,
          133,
          134.5,
          139.25,
          141.25,
          143,
          144,
          143.25,
          142,
          141.25,
          137,
          138,
          134.5,
          134,
          129.25,
          126.25,
          124,
          118,
          114.25,
          112,
          107,
          102.5,
          98.25,
          92.25,
          88,
          83,
          76.25,
          72.5,
          68,
          63,
          59,
          54.25,
          52,
          47.25,
          44,
          41.25,
          39,
          37,
          34.25,
          34,
          30.5,
          29,
          29,
          27,
          26,
          25,
          24.25,
          23,
          22.25,
          21,
          21,
          19.25,
          20,
          19,
          20,
          19.25,
          19,
          19,
          19,
          19,
          19,
          19,
          18.25,
          18.25,
          18,
          18,
          17.25,
          17,
          17,
          16,
          15,
          14,
          13.25,
          13,
          13,
          12.25,
          11,
          10.25,
          9.25,
          9,
          8,
          6,
          5,
          3.25,
          2
         ]
        },
        {
         "line": {
          "color": "rgb(80,0,80)"
         },
         "name": "Median",
         "type": "scatter",
         "x": [
          "2024-10-01T00:00:00",
          "2024-10-02T00:00:00",
          "2024-10-03T00:00:00",
          "2024-10-04T00:00:00",
          "2024-10-05T00:00:00",
          "2024-10-06T00:00:00",
          "2024-10-07T00:00:00",
          "2024-10-08T00:00:00",
          "2024-10-09T00:00:00",
          "2024-10-10T00:00:00",
          "2024-10-11T00:00:00",
          "2024-10-12T00:00:00",
          "2024-10-13T00:00:00",
          "2024-10-14T00:00:00",
          "2024-10-15T00:00:00",
          "2024-10-16T00:00:00",
          "2024-10-17T00:00:00",
          "2024-10-18T00:00:00",
          "2024-10-19T00:00:00",
          "2024-10-20T00:00:00",
          "2024-10-21T00:00:00",
          "2024-10-22T00:00:00",
          "2024-10-23T00:00:00",
          "2024-10-24T00:00:00",
          "2024-10-25T00:00:00",
          "2024-10-26T00:00:00",
          "2024-10-27T00:00:00",
          "2024-10-28T00:00:00",
          "2024-10-29T00:00:00",
          "2024-10-30T00:00:00",
          "2024-10-31T00:00:00",
          "2024-11-01T00:00:00",
          "2024-11-02T00:00:00",
          "2024-11-03T00:00:00",
          "2024-11-04T00:00:00",
          "2024-11-05T00:00:00",
          "2024-11-06T00:00:00",
          "2024-11-07T00:00:00",
          "2024-11-08T00:00:00",
          "2024-11-09T00:00:00",
          "2024-11-10T00:00:00",
          "2024-11-11T00:00:00",
          "2024-11-12T00:00:00",
          "2024-11-13T00:00:00",
          "2024-11-14T00:00:00",
          "2024-11-15T00:00:00",
          "2024-11-16T00:00:00",
          "2024-11-17T00:00:00",
          "2024-11-18T00:00:00",
          "2024-11-19T00:00:00",
          "2024-11-20T00:00:00",
          "2024-11-21T00:00:00",
          "2024-11-22T00:00:00",
          "2024-11-23T00:00:00",
          "2024-11-24T00:00:00",
          "2024-11-25T00:00:00",
          "2024-11-26T00:00:00",
          "2024-11-27T00:00:00",
          "2024-11-28T00:00:00",
          "2024-11-29T00:00:00",
          "2024-11-30T00:00:00",
          "2024-12-01T00:00:00",
          "2024-12-02T00:00:00",
          "2024-12-03T00:00:00",
          "2024-12-04T00:00:00",
          "2024-12-05T00:00:00",
          "2024-12-06T00:00:00",
          "2024-12-07T00:00:00",
          "2024-12-08T00:00:00",
          "2024-12-09T00:00:00",
          "2024-12-10T00:00:00",
          "2024-12-11T00:00:00",
          "2024-12-12T00:00:00",
          "2024-12-13T00:00:00",
          "2024-12-14T00:00:00",
          "2024-12-15T00:00:00",
          "2024-12-16T00:00:00",
          "2024-12-17T00:00:00",
          "2024-12-18T00:00:00",
          "2024-12-19T00:00:00",
          "2024-12-20T00:00:00",
          "2024-12-21T00:00:00",
          "2024-12-22T00:00:00",
          "2024-12-23T00:00:00",
          "2024-12-24T00:00:00",
          "2024-12-25T00:00:00",
          "2024-12-26T00:00:00",
          "2024-12-27T00:00:00",
          "2024-12-28T00:00:00",
          "2024-12-29T00:00:00",
          "2024-12-30T00:00:00",
          "2024-12-31T00:00:00",
          "2025-01-01T00:00:00",
          "2025-01-02T00:00:00",
          "2025-01-03T00:00:00",
          "2025-01-04T00:00:00",
          "2025-01-05T00:00:00",
          "2025-01-06T00:00:00",
          "2025-01-07T00:00:00",
          "2025-01-08T00:00:00",
          "2025-01-09T00:00:00",
          "2025-01-10T00:00:00",
          "2025-01-11T00:00:00",
          "2025-01-12T00:00:00",
          "2025-01-13T00:00:00",
          "2025-01-14T00:00:00",
          "2025-01-15T00:00:00",
          "2025-01-16T00:00:00",
          "2025-01-17T00:00:00",
          "2025-01-18T00:00:00",
          "2025-01-19T00:00:00",
          "2025-01-20T00:00:00",
          "2025-01-21T00:00:00",
          "2025-01-22T00:00:00",
          "2025-01-23T00:00:00",
          "2025-01-24T00:00:00",
          "2025-01-25T00:00:00",
          "2025-01-26T00:00:00",
          "2025-01-27T00:00:00",
          "2025-01-28T00:00:00",
          "2025-01-29T00:00:00",
          "2025-01-30T00:00:00",
          "2025-01-31T00:00:00",
          "2025-02-01T00:00:00",
          "2025-02-02T00:00:00",
          "2025-02-03T00:00:00",
          "2025-02-04T00:00:00",
          "2025-02-05T00:00:00",
          "2025-02-06T00:00:00",
          "2025-02-07T00:00:00",
          "2025-02-08T00:00:00",
          "2025-02-09T00:00:00",
          "2025-02-10T00:00:00",
          "2025-02-11T00:00:00",
          "2025-02-12T00:00:00",
          "2025-02-13T00:00:00",
          "2025-02-14T00:00:00",
          "2025-02-15T00:00:00",
          "2025-02-16T00:00:00",
          "2025-02-17T00:00:00",
          "2025-02-18T00:00:00",
          "2025-02-19T00:00:00",
          "2025-02-20T00:00:00",
          "2025-02-21T00:00:00",
          "2025-02-22T00:00:00",
          "2025-02-23T00:00:00",
          "2025-02-24T00:00:00",
          "2025-02-25T00:00:00",
          "2025-02-26T00:00:00",
          "2025-02-27T00:00:00",
          "2025-02-28T00:00:00",
          "2025-03-01T00:00:00"
         ],
         "y": [
          2,
          4,
          6,
          7,
          8,
          9,
          11,
          11.5,
          13,
          13,
          14.5,
          15,
          15,
          16,
          17,
          16.5,
          17,
          18.5,
          19,
          19.5,
          20,
          20,
          20,
          20.5,
          20.5,
          21,
          21.5,
          20.5,
          21,
          21.5,
          22,
          21.5,
          22,
          23,
          23,
          24,
          24,
          24.5,
          25,
          27,
          27,
          29,
          31,
          32,
          34,
          35,
          38,
          39,
          42,
          45,
          49,
          52.5,
          55,
          57,
          62.5,
          67,
          70.5,
          76,
          81,
          85.5,
          91.5,
          97,
          101.5,
          106,
          110,
          115,
          118,
          124,
          127.5,
          131.5,
          133.5,
          138.5,
          140,
          143.5,
          144,
          145,
          147,
          146,
          147,
          145,
          145,
          144.5,
          142,
          140.5,
          138,
          132.5,
          128,
          125,
          122.5,
          117,
          114,
          109,
          103.5,
          99.5,
          95.5,
          92,
          88,
          85,
          81,
          78,
          76,
          73.5,
          70,
          67,
          64,
          61,
          59,
          56,
          52,
          50.5,
          49,
          46.5,
          44.5,
          44,
          43,
          42,
          41,
          40,
          38.5,
          38.5,
          36,
          36.5,
          36,
          36,
          35,
          34,
          33,
          33,
          32,
          32.5,
          32,
          30,
          30,
          29,
          30,
          29.5,
          29.5,
          29,
          29,
          28,
          28,
          27.5,
          27,
          26.5,
          26,
          26,
          26.5,
          26,
          26,
          25.5,
          25.5,
          24.5
         ]
        }
       ],
       "layout": {
        "height": 300,
        "legend": {
         "font": {
          "size": 14
         },
         "y": 0.5
        },
        "template": {
         "data": {
          "bar": [
           {
            "error_x": {
             "color": "#2a3f5f"
            },
            "error_y": {
             "color": "#2a3f5f"
            },
            "marker": {
             "line": {
              "color": "#E5ECF6",
              "width": 0.5
             },
             "pattern": {
              "fillmode": "overlay",
              "size": 10,
              "solidity": 0.2
             }
            },
            "type": "bar"
           }
          ],
          "barpolar": [
           {
            "marker": {
             "line": {
              "color": "#E5ECF6",
              "width": 0.5
             },
             "pattern": {
              "fillmode": "overlay",
              "size": 10,
              "solidity": 0.2
             }
            },
            "type": "barpolar"
           }
          ],
          "carpet": [
           {
            "aaxis": {
             "endlinecolor": "#2a3f5f",
             "gridcolor": "white",
             "linecolor": "white",
             "minorgridcolor": "white",
             "startlinecolor": "#2a3f5f"
            },
            "baxis": {
             "endlinecolor": "#2a3f5f",
             "gridcolor": "white",
             "linecolor": "white",
             "minorgridcolor": "white",
             "startlinecolor": "#2a3f5f"
            },
            "type": "carpet"
           }
          ],
          "choropleth": [
           {
            "colorbar": {
             "outlinewidth": 0,
             "ticks": ""
            },
            "type": "choropleth"
           }
          ],
          "contour": [
           {
            "colorbar": {
             "outlinewidth": 0,
             "ticks": ""
            },
            "colorscale": [
             [
              0,
              "#0d0887"
             ],
             [
              0.1111111111111111,
              "#46039f"
             ],
             [
              0.2222222222222222,
              "#7201a8"
             ],
             [
              0.3333333333333333,
              "#9c179e"
             ],
             [
              0.4444444444444444,
              "#bd3786"
             ],
             [
              0.5555555555555556,
              "#d8576b"
             ],
             [
              0.6666666666666666,
              "#ed7953"
             ],
             [
              0.7777777777777778,
              "#fb9f3a"
             ],
             [
              0.8888888888888888,
              "#fdca26"
             ],
             [
              1,
              "#f0f921"
             ]
            ],
            "type": "contour"
           }
          ],
          "contourcarpet": [
           {
            "colorbar": {
             "outlinewidth": 0,
             "ticks": ""
            },
            "type": "contourcarpet"
           }
          ],
          "heatmap": [
           {
            "colorbar": {
             "outlinewidth": 0,
             "ticks": ""
            },
            "colorscale": [
             [
              0,
              "#0d0887"
             ],
             [
              0.1111111111111111,
              "#46039f"
             ],
             [
              0.2222222222222222,
              "#7201a8"
             ],
             [
              0.3333333333333333,
              "#9c179e"
             ],
             [
              0.4444444444444444,
              "#bd3786"
             ],
             [
              0.5555555555555556,
              "#d8576b"
             ],
             [
              0.6666666666666666,
              "#ed7953"
             ],
             [
              0.7777777777777778,
              "#fb9f3a"
             ],
             [
              0.8888888888888888,
              "#fdca26"
             ],
             [
              1,
              "#f0f921"
             ]
            ],
            "type": "heatmap"
           }
          ],
          "histogram": [
           {
            "marker": {
             "pattern": {
              "fillmode": "overlay",
              "size": 10,
              "solidity": 0.2
             }
            },
            "type": "histogram"
           }
          ],
          "histogram2d": [
           {
            "colorbar": {
             "outlinewidth": 0,
             "ticks": ""
            },
            "colorscale": [
             [
              0,
              "#0d0887"
             ],
             [
              0.1111111111111111,
              "#46039f"
             ],
             [
              0.2222222222222222,
              "#7201a8"
             ],
             [
              0.3333333333333333,
              "#9c179e"
             ],
             [
              0.4444444444444444,
              "#bd3786"
             ],
             [
              0.5555555555555556,
              "#d8576b"
             ],
             [
              0.6666666666666666,
              "#ed7953"
             ],
             [
              0.7777777777777778,
              "#fb9f3a"
             ],
             [
              0.8888888888888888,
              "#fdca26"
             ],
             [
              1,
              "#f0f921"
             ]
            ],
            "type": "histogram2d"
           }
          ],
          "histogram2dcontour": [
           {
            "colorbar": {
             "outlinewidth": 0,
             "ticks": ""
            },
            "colorscale": [
             [
              0,
              "#0d0887"
             ],
             [
              0.1111111111111111,
              "#46039f"
             ],
             [
              0.2222222222222222,
              "#7201a8"
             ],
             [
              0.3333333333333333,
              "#9c179e"
             ],
             [
              0.4444444444444444,
              "#bd3786"
             ],
             [
              0.5555555555555556,
              "#d8576b"
             ],
             [
              0.6666666666666666,
              "#ed7953"
             ],
             [
              0.7777777777777778,
              "#fb9f3a"
             ],
             [
              0.8888888888888888,
              "#fdca26"
             ],
             [
              1,
              "#f0f921"
             ]
            ],
            "type": "histogram2dcontour"
           }
          ],
          "mesh3d": [
           {
            "colorbar": {
             "outlinewidth": 0,
             "ticks": ""
            },
            "type": "mesh3d"
           }
          ],
          "parcoords": [
           {
            "line": {
             "colorbar": {
              "outlinewidth": 0,
              "ticks": ""
             }
            },
            "type": "parcoords"
           }
          ],
          "pie": [
           {
            "automargin": true,
            "type": "pie"
           }
          ],
          "scatter": [
           {
            "fillpattern": {
             "fillmode": "overlay",
             "size": 10,
             "solidity": 0.2
            },
            "type": "scatter"
           }
          ],
          "scatter3d": [
           {
            "line": {
             "colorbar": {
              "outlinewidth": 0,
              "ticks": ""
             }
            },
            "marker": {
             "colorbar": {
              "outlinewidth": 0,
              "ticks": ""
             }
            },
            "type": "scatter3d"
           }
          ],
          "scattercarpet": [
           {
            "marker": {
             "colorbar": {
              "outlinewidth": 0,
              "ticks": ""
             }
            },
            "type": "scattercarpet"
           }
          ],
          "scattergeo": [
           {
            "marker": {
             "colorbar": {
              "outlinewidth": 0,
              "ticks": ""
             }
            },
            "type": "scattergeo"
           }
          ],
          "scattergl": [
           {
            "marker": {
             "colorbar": {
              "outlinewidth": 0,
              "ticks": ""
             }
            },
            "type": "scattergl"
           }
          ],
          "scattermap": [
           {
            "marker": {
             "colorbar": {
              "outlinewidth": 0,
              "ticks": ""
             }
            },
            "type": "scattermap"
           }
          ],
          "scattermapbox": [
           {
            "marker": {
             "colorbar": {
              "outlinewidth": 0,
              "ticks": ""
             }
            },
            "type": "scattermapbox"
           }
          ],
          "scatterpolar": [
           {
            "marker": {
             "colorbar": {
              "outlinewidth": 0,
              "ticks": ""
             }
            },
            "type": "scatterpolar"
           }
          ],
          "scatterpolargl": [
           {
            "marker": {
             "colorbar": {
              "outlinewidth": 0,
              "ticks": ""
             }
            },
            "type": "scatterpolargl"
           }
          ],
          "scatterternary": [
           {
            "marker": {
             "colorbar": {
              "outlinewidth": 0,
              "ticks": ""
             }
            },
            "type": "scatterternary"
           }
          ],
          "surface": [
           {
            "colorbar": {
             "outlinewidth": 0,
             "ticks": ""
            },
            "colorscale": [
             [
              0,
              "#0d0887"
             ],
             [
              0.1111111111111111,
              "#46039f"
             ],
             [
              0.2222222222222222,
              "#7201a8"
             ],
             [
              0.3333333333333333,
              "#9c179e"
             ],
             [
              0.4444444444444444,
              "#bd3786"
             ],
             [
              0.5555555555555556,
              "#d8576b"
             ],
             [
              0.6666666666666666,
              "#ed7953"
             ],
             [
              0.7777777777777778,
              "#fb9f3a"
             ],
             [
              0.8888888888888888,
              "#fdca26"
             ],
             [
              1,
              "#f0f921"
             ]
            ],
            "type": "surface"
           }
          ],
          "table": [
           {
            "cells": {
             "fill": {
              "color": "#EBF0F8"
             },
             "line": {
              "color": "white"
             }
            },
            "header": {
             "fill": {
              "color": "#C8D4E3"
             },
             "line": {
              "color": "white"
             }
            },
            "type": "table"
           }
          ]
         },
         "layout": {
          "annotationdefaults": {
           "arrowcolor": "#2a3f5f",
           "arrowhead": 0,
           "arrowwidth": 1
          },
          "autotypenumbers": "strict",
          "coloraxis": {
           "colorbar": {
            "outlinewidth": 0,
            "ticks": ""
           }
          },
          "colorscale": {
           "diverging": [
            [
             0,
             "#8e0152"
            ],
            [
             0.1,
             "#c51b7d"
            ],
            [
             0.2,
             "#de77ae"
            ],
            [
             0.3,
             "#f1b6da"
            ],
            [
             0.4,
             "#fde0ef"
            ],
            [
             0.5,
             "#f7f7f7"
            ],
            [
             0.6,
             "#e6f5d0"
            ],
            [
             0.7,
             "#b8e186"
            ],
            [
             0.8,
             "#7fbc41"
            ],
            [
             0.9,
             "#4d9221"
            ],
            [
             1,
             "#276419"
            ]
           ],
           "sequential": [
            [
             0,
             "#0d0887"
            ],
            [
             0.1111111111111111,
             "#46039f"
            ],
            [
             0.2222222222222222,
             "#7201a8"
            ],
            [
             0.3333333333333333,
             "#9c179e"
            ],
            [
             0.4444444444444444,
             "#bd3786"
            ],
            [
             0.5555555555555556,
             "#d8576b"
            ],
            [
             0.6666666666666666,
             "#ed7953"
            ],
            [
             0.7777777777777778,
             "#fb9f3a"
            ],
            [
             0.8888888888888888,
             "#fdca26"
            ],
            [
             1,
             "#f0f921"
            ]
           ],
           "sequentialminus": [
            [
             0,
             "#0d0887"
            ],
            [
             0.1111111111111111,
             "#46039f"
            ],
            [
             0.2222222222222222,
             "#7201a8"
            ],
            [
             0.3333333333333333,
             "#9c179e"
            ],
            [
             0.4444444444444444,
             "#bd3786"
            ],
            [
             0.5555555555555556,
             "#d8576b"
            ],
            [
             0.6666666666666666,
             "#ed7953"
            ],
            [
             0.7777777777777778,
             "#fb9f3a"
            ],
            [
             0.8888888888888888,
             "#fdca26"
            ],
            [
             1,
             "#f0f921"
            ]
           ]
          },
          "colorway": [
           "#636efa",
           "#EF553B",
           "#00cc96",
           "#ab63fa",
           "#FFA15A",
           "#19d3f3",
           "#FF6692",
           "#B6E880",
           "#FF97FF",
           "#FECB52"
          ],
          "font": {
           "color": "#2a3f5f"
          },
          "geo": {
           "bgcolor": "white",
           "lakecolor": "white",
           "landcolor": "#E5ECF6",
           "showlakes": true,
           "showland": true,
           "subunitcolor": "white"
          },
          "hoverlabel": {
           "align": "left"
          },
          "hovermode": "closest",
          "mapbox": {
           "style": "light"
          },
          "paper_bgcolor": "white",
          "plot_bgcolor": "#E5ECF6",
          "polar": {
           "angularaxis": {
            "gridcolor": "white",
            "linecolor": "white",
            "ticks": ""
           },
           "bgcolor": "#E5ECF6",
           "radialaxis": {
            "gridcolor": "white",
            "linecolor": "white",
            "ticks": ""
           }
          },
          "scene": {
           "xaxis": {
            "backgroundcolor": "#E5ECF6",
            "gridcolor": "white",
            "gridwidth": 2,
            "linecolor": "white",
            "showbackground": true,
            "ticks": "",
            "zerolinecolor": "white"
           },
           "yaxis": {
            "backgroundcolor": "#E5ECF6",
            "gridcolor": "white",
            "gridwidth": 2,
            "linecolor": "white",
            "showbackground": true,
            "ticks": "",
            "zerolinecolor": "white"
           },
           "zaxis": {
            "backgroundcolor": "#E5ECF6",
            "gridcolor": "white",
            "gridwidth": 2,
            "linecolor": "white",
            "showbackground": true,
            "ticks": "",
            "zerolinecolor": "white"
           }
          },
          "shapedefaults": {
           "line": {
            "color": "#2a3f5f"
           }
          },
          "ternary": {
           "aaxis": {
            "gridcolor": "white",
            "linecolor": "white",
            "ticks": ""
           },
           "baxis": {
            "gridcolor": "white",
            "linecolor": "white",
            "ticks": ""
           },
           "bgcolor": "#E5ECF6",
           "caxis": {
            "gridcolor": "white",
            "linecolor": "white",
            "ticks": ""
           }
          },
          "title": {
           "x": 0.05
          },
          "xaxis": {
           "automargin": true,
           "gridcolor": "white",
           "linecolor": "white",
           "ticks": "",
           "title": {
            "standoff": 15
           },
           "zerolinecolor": "white",
           "zerolinewidth": 2
          },
          "yaxis": {
           "automargin": true,
           "gridcolor": "white",
           "linecolor": "white",
           "ticks": "",
           "title": {
            "standoff": 15
           },
           "zerolinecolor": "white",
           "zerolinewidth": 2
          }
         }
        },
        "title": {
         "font": {
          "size": 20,
          "weight": 900
         },
         "text": "Total beds"
        },
        "width": 1000,
        "xaxis": {
         "tickfont": {
          "size": 14
         }
        },
        "yaxis": {
         "tickfont": {
          "size": 14
         }
        }
       }
      }
     },
     "metadata": {},
     "output_type": "display_data"
    }
   ],
   "source": [
    "# https://plotly.com/python/line-charts/#filled-lines\n",
    "\n",
    "def fan_chart(df, title: str):\n",
    "    go_layout = {\n",
    "        'width': 1000,\n",
    "        'height': 300,\n",
    "        'title': title,\n",
    "        'legend': {'y': 0.5, 'font_size': 12},\n",
    "        'legend_y': 0.5,\n",
    "        'legend_font_size': 14,\n",
    "        'title_font_size': 20,\n",
    "        'xaxis': {'tickfont': {'size': 14}},\n",
    "        'yaxis': {'tickfont': {'size': 14}},\n",
    "        'title_font_weight': 900\n",
    "    }\n",
    "\n",
    "    x = list(df.index)\n",
    "\n",
    "    y_lo = list(df.quantile(0.1, axis=1))\n",
    "    y_hi = list(df.quantile(0.9, axis=1))\n",
    "    fig = go.Figure(layout=go_layout)\n",
    "    fig.add_trace(go.Scatter(\n",
    "        x=x+x[::-1],\n",
    "        y=y_hi+y_lo[::-1],\n",
    "        fill='toself',\n",
    "        fillcolor='rgba(231,107,243,0.3)',\n",
    "        line_color='rgba(255,255,255,0)',\n",
    "        name='lower/upper deciles',\n",
    "    ))\n",
    "\n",
    "\n",
    "    y_lo = list(df.quantile(0.25, axis=1))\n",
    "    y_hi = list(df.quantile(0.75, axis=1))\n",
    "    fig.add_trace(go.Scatter(\n",
    "        x=x+x[::-1],\n",
    "        y=y_hi+y_lo[::-1],\n",
    "        fill='toself',\n",
    "        fillcolor='rgba(231,107,243,0.5)',\n",
    "        line_color='rgba(255,255,255,0)',\n",
    "        name='lower/upper quartiles',\n",
    "    ))\n",
    "\n",
    "    fig.add_trace(go.Scatter(\n",
    "        x=x, y=list(df.quantile(0.5, axis=1)),\n",
    "        line_color='rgb(80,0,80)',\n",
    "        name='Median'\n",
    "    ))\n",
    "\n",
    "    return fig\n",
    "\n",
    "fig = fan_chart(df30, 'Total beds')\n",
    "fig.show()"
   ]
  },
  {
   "cell_type": "code",
   "execution_count": 25,
   "id": "c13cca30",
   "metadata": {},
   "outputs": [
    {
     "data": {
      "application/vnd.plotly.v1+json": {
       "config": {
        "plotlyServerURL": "https://plot.ly"
       },
       "data": [
        {
         "fill": "toself",
         "fillcolor": "rgba(231,107,243,0.3)",
         "line": {
          "color": "rgba(255,255,255,0)"
         },
         "name": "lower/upper deciles",
         "type": "scatter",
         "x": [
          "2024-10-01T00:00:00",
          "2024-10-02T00:00:00",
          "2024-10-03T00:00:00",
          "2024-10-04T00:00:00",
          "2024-10-05T00:00:00",
          "2024-10-06T00:00:00",
          "2024-10-07T00:00:00",
          "2024-10-08T00:00:00",
          "2024-10-09T00:00:00",
          "2024-10-10T00:00:00",
          "2024-10-11T00:00:00",
          "2024-10-12T00:00:00",
          "2024-10-13T00:00:00",
          "2024-10-14T00:00:00",
          "2024-10-15T00:00:00",
          "2024-10-16T00:00:00",
          "2024-10-17T00:00:00",
          "2024-10-18T00:00:00",
          "2024-10-19T00:00:00",
          "2024-10-20T00:00:00",
          "2024-10-21T00:00:00",
          "2024-10-22T00:00:00",
          "2024-10-23T00:00:00",
          "2024-10-24T00:00:00",
          "2024-10-25T00:00:00",
          "2024-10-26T00:00:00",
          "2024-10-27T00:00:00",
          "2024-10-28T00:00:00",
          "2024-10-29T00:00:00",
          "2024-10-30T00:00:00",
          "2024-10-31T00:00:00",
          "2024-11-01T00:00:00",
          "2024-11-02T00:00:00",
          "2024-11-03T00:00:00",
          "2024-11-04T00:00:00",
          "2024-11-05T00:00:00",
          "2024-11-06T00:00:00",
          "2024-11-07T00:00:00",
          "2024-11-08T00:00:00",
          "2024-11-09T00:00:00",
          "2024-11-10T00:00:00",
          "2024-11-11T00:00:00",
          "2024-11-12T00:00:00",
          "2024-11-13T00:00:00",
          "2024-11-14T00:00:00",
          "2024-11-15T00:00:00",
          "2024-11-16T00:00:00",
          "2024-11-17T00:00:00",
          "2024-11-18T00:00:00",
          "2024-11-19T00:00:00",
          "2024-11-20T00:00:00",
          "2024-11-21T00:00:00",
          "2024-11-22T00:00:00",
          "2024-11-23T00:00:00",
          "2024-11-24T00:00:00",
          "2024-11-25T00:00:00",
          "2024-11-26T00:00:00",
          "2024-11-27T00:00:00",
          "2024-11-28T00:00:00",
          "2024-11-29T00:00:00",
          "2024-11-30T00:00:00",
          "2024-12-01T00:00:00",
          "2024-12-02T00:00:00",
          "2024-12-03T00:00:00",
          "2024-12-04T00:00:00",
          "2024-12-05T00:00:00",
          "2024-12-06T00:00:00",
          "2024-12-07T00:00:00",
          "2024-12-08T00:00:00",
          "2024-12-09T00:00:00",
          "2024-12-10T00:00:00",
          "2024-12-11T00:00:00",
          "2024-12-12T00:00:00",
          "2024-12-13T00:00:00",
          "2024-12-14T00:00:00",
          "2024-12-15T00:00:00",
          "2024-12-16T00:00:00",
          "2024-12-17T00:00:00",
          "2024-12-18T00:00:00",
          "2024-12-19T00:00:00",
          "2024-12-20T00:00:00",
          "2024-12-21T00:00:00",
          "2024-12-22T00:00:00",
          "2024-12-23T00:00:00",
          "2024-12-24T00:00:00",
          "2024-12-25T00:00:00",
          "2024-12-26T00:00:00",
          "2024-12-27T00:00:00",
          "2024-12-28T00:00:00",
          "2024-12-29T00:00:00",
          "2024-12-30T00:00:00",
          "2024-12-31T00:00:00",
          "2025-01-01T00:00:00",
          "2025-01-02T00:00:00",
          "2025-01-03T00:00:00",
          "2025-01-04T00:00:00",
          "2025-01-05T00:00:00",
          "2025-01-06T00:00:00",
          "2025-01-07T00:00:00",
          "2025-01-08T00:00:00",
          "2025-01-09T00:00:00",
          "2025-01-10T00:00:00",
          "2025-01-11T00:00:00",
          "2025-01-12T00:00:00",
          "2025-01-13T00:00:00",
          "2025-01-14T00:00:00",
          "2025-01-15T00:00:00",
          "2025-01-16T00:00:00",
          "2025-01-17T00:00:00",
          "2025-01-18T00:00:00",
          "2025-01-19T00:00:00",
          "2025-01-20T00:00:00",
          "2025-01-21T00:00:00",
          "2025-01-22T00:00:00",
          "2025-01-23T00:00:00",
          "2025-01-24T00:00:00",
          "2025-01-25T00:00:00",
          "2025-01-26T00:00:00",
          "2025-01-27T00:00:00",
          "2025-01-28T00:00:00",
          "2025-01-29T00:00:00",
          "2025-01-30T00:00:00",
          "2025-01-31T00:00:00",
          "2025-02-01T00:00:00",
          "2025-02-02T00:00:00",
          "2025-02-03T00:00:00",
          "2025-02-04T00:00:00",
          "2025-02-05T00:00:00",
          "2025-02-06T00:00:00",
          "2025-02-07T00:00:00",
          "2025-02-08T00:00:00",
          "2025-02-09T00:00:00",
          "2025-02-10T00:00:00",
          "2025-02-11T00:00:00",
          "2025-02-12T00:00:00",
          "2025-02-13T00:00:00",
          "2025-02-14T00:00:00",
          "2025-02-15T00:00:00",
          "2025-02-16T00:00:00",
          "2025-02-17T00:00:00",
          "2025-02-18T00:00:00",
          "2025-02-19T00:00:00",
          "2025-02-20T00:00:00",
          "2025-02-21T00:00:00",
          "2025-02-22T00:00:00",
          "2025-02-23T00:00:00",
          "2025-02-24T00:00:00",
          "2025-02-25T00:00:00",
          "2025-02-26T00:00:00",
          "2025-02-27T00:00:00",
          "2025-02-28T00:00:00",
          "2025-03-01T00:00:00",
          "2025-03-01T00:00:00",
          "2025-02-28T00:00:00",
          "2025-02-27T00:00:00",
          "2025-02-26T00:00:00",
          "2025-02-25T00:00:00",
          "2025-02-24T00:00:00",
          "2025-02-23T00:00:00",
          "2025-02-22T00:00:00",
          "2025-02-21T00:00:00",
          "2025-02-20T00:00:00",
          "2025-02-19T00:00:00",
          "2025-02-18T00:00:00",
          "2025-02-17T00:00:00",
          "2025-02-16T00:00:00",
          "2025-02-15T00:00:00",
          "2025-02-14T00:00:00",
          "2025-02-13T00:00:00",
          "2025-02-12T00:00:00",
          "2025-02-11T00:00:00",
          "2025-02-10T00:00:00",
          "2025-02-09T00:00:00",
          "2025-02-08T00:00:00",
          "2025-02-07T00:00:00",
          "2025-02-06T00:00:00",
          "2025-02-05T00:00:00",
          "2025-02-04T00:00:00",
          "2025-02-03T00:00:00",
          "2025-02-02T00:00:00",
          "2025-02-01T00:00:00",
          "2025-01-31T00:00:00",
          "2025-01-30T00:00:00",
          "2025-01-29T00:00:00",
          "2025-01-28T00:00:00",
          "2025-01-27T00:00:00",
          "2025-01-26T00:00:00",
          "2025-01-25T00:00:00",
          "2025-01-24T00:00:00",
          "2025-01-23T00:00:00",
          "2025-01-22T00:00:00",
          "2025-01-21T00:00:00",
          "2025-01-20T00:00:00",
          "2025-01-19T00:00:00",
          "2025-01-18T00:00:00",
          "2025-01-17T00:00:00",
          "2025-01-16T00:00:00",
          "2025-01-15T00:00:00",
          "2025-01-14T00:00:00",
          "2025-01-13T00:00:00",
          "2025-01-12T00:00:00",
          "2025-01-11T00:00:00",
          "2025-01-10T00:00:00",
          "2025-01-09T00:00:00",
          "2025-01-08T00:00:00",
          "2025-01-07T00:00:00",
          "2025-01-06T00:00:00",
          "2025-01-05T00:00:00",
          "2025-01-04T00:00:00",
          "2025-01-03T00:00:00",
          "2025-01-02T00:00:00",
          "2025-01-01T00:00:00",
          "2024-12-31T00:00:00",
          "2024-12-30T00:00:00",
          "2024-12-29T00:00:00",
          "2024-12-28T00:00:00",
          "2024-12-27T00:00:00",
          "2024-12-26T00:00:00",
          "2024-12-25T00:00:00",
          "2024-12-24T00:00:00",
          "2024-12-23T00:00:00",
          "2024-12-22T00:00:00",
          "2024-12-21T00:00:00",
          "2024-12-20T00:00:00",
          "2024-12-19T00:00:00",
          "2024-12-18T00:00:00",
          "2024-12-17T00:00:00",
          "2024-12-16T00:00:00",
          "2024-12-15T00:00:00",
          "2024-12-14T00:00:00",
          "2024-12-13T00:00:00",
          "2024-12-12T00:00:00",
          "2024-12-11T00:00:00",
          "2024-12-10T00:00:00",
          "2024-12-09T00:00:00",
          "2024-12-08T00:00:00",
          "2024-12-07T00:00:00",
          "2024-12-06T00:00:00",
          "2024-12-05T00:00:00",
          "2024-12-04T00:00:00",
          "2024-12-03T00:00:00",
          "2024-12-02T00:00:00",
          "2024-12-01T00:00:00",
          "2024-11-30T00:00:00",
          "2024-11-29T00:00:00",
          "2024-11-28T00:00:00",
          "2024-11-27T00:00:00",
          "2024-11-26T00:00:00",
          "2024-11-25T00:00:00",
          "2024-11-24T00:00:00",
          "2024-11-23T00:00:00",
          "2024-11-22T00:00:00",
          "2024-11-21T00:00:00",
          "2024-11-20T00:00:00",
          "2024-11-19T00:00:00",
          "2024-11-18T00:00:00",
          "2024-11-17T00:00:00",
          "2024-11-16T00:00:00",
          "2024-11-15T00:00:00",
          "2024-11-14T00:00:00",
          "2024-11-13T00:00:00",
          "2024-11-12T00:00:00",
          "2024-11-11T00:00:00",
          "2024-11-10T00:00:00",
          "2024-11-09T00:00:00",
          "2024-11-08T00:00:00",
          "2024-11-07T00:00:00",
          "2024-11-06T00:00:00",
          "2024-11-05T00:00:00",
          "2024-11-04T00:00:00",
          "2024-11-03T00:00:00",
          "2024-11-02T00:00:00",
          "2024-11-01T00:00:00",
          "2024-10-31T00:00:00",
          "2024-10-30T00:00:00",
          "2024-10-29T00:00:00",
          "2024-10-28T00:00:00",
          "2024-10-27T00:00:00",
          "2024-10-26T00:00:00",
          "2024-10-25T00:00:00",
          "2024-10-24T00:00:00",
          "2024-10-23T00:00:00",
          "2024-10-22T00:00:00",
          "2024-10-21T00:00:00",
          "2024-10-20T00:00:00",
          "2024-10-19T00:00:00",
          "2024-10-18T00:00:00",
          "2024-10-17T00:00:00",
          "2024-10-16T00:00:00",
          "2024-10-15T00:00:00",
          "2024-10-14T00:00:00",
          "2024-10-13T00:00:00",
          "2024-10-12T00:00:00",
          "2024-10-11T00:00:00",
          "2024-10-10T00:00:00",
          "2024-10-09T00:00:00",
          "2024-10-08T00:00:00",
          "2024-10-07T00:00:00",
          "2024-10-06T00:00:00",
          "2024-10-05T00:00:00",
          "2024-10-04T00:00:00",
          "2024-10-03T00:00:00",
          "2024-10-02T00:00:00",
          "2024-10-01T00:00:00"
         ],
         "y": [
          1,
          0.10000000000000142,
          0.10000000000000142,
          1,
          1,
          1,
          1,
          1,
          1,
          1,
          1,
          1,
          1,
          1,
          1,
          1.1000000000000014,
          2,
          1.1000000000000014,
          1,
          1,
          2,
          2,
          1,
          1,
          1,
          1,
          1,
          1.1000000000000014,
          1,
          1,
          1,
          1,
          1,
          1,
          1.1000000000000014,
          1.1000000000000014,
          2,
          1.1000000000000014,
          2,
          2,
          2,
          1.1000000000000014,
          2,
          2,
          2.1000000000000014,
          2,
          2,
          2.1000000000000014,
          2.1000000000000014,
          2,
          3,
          3,
          3,
          3,
          3,
          3.1000000000000014,
          3,
          3,
          4,
          3,
          4,
          4,
          4,
          5,
          4.100000000000001,
          5,
          5,
          5,
          5,
          5,
          6,
          6,
          6,
          5.200000000000003,
          6,
          5.300000000000004,
          6,
          7,
          5.200000000000003,
          6.100000000000001,
          6,
          5.100000000000001,
          5.100000000000001,
          6,
          5,
          4.100000000000001,
          5.100000000000001,
          5,
          4,
          4,
          4,
          3,
          3,
          3,
          2.1000000000000014,
          2,
          3,
          2.1000000000000014,
          2.1000000000000014,
          2.1000000000000014,
          2,
          2,
          2,
          2,
          2,
          2,
          2,
          2,
          2,
          2,
          2,
          2,
          2,
          2,
          2.1000000000000014,
          2,
          2,
          1.1000000000000014,
          1.1000000000000014,
          1.1000000000000014,
          2,
          1,
          1,
          1,
          1.1000000000000014,
          1,
          1,
          1.1000000000000014,
          2,
          2,
          2,
          1,
          1,
          1,
          1,
          1,
          1,
          1,
          1,
          1.1000000000000014,
          1,
          1,
          1.1000000000000014,
          2,
          2,
          1,
          1,
          1,
          1,
          1,
          1.1000000000000014,
          1,
          0,
          0,
          0,
          0,
          0,
          0,
          0,
          0,
          0,
          0,
          0,
          0,
          0,
          0,
          0,
          0,
          0,
          0,
          0,
          0,
          0,
          0,
          0,
          0,
          0,
          0,
          0,
          0,
          0,
          0,
          0,
          0,
          0,
          0,
          0,
          0,
          0,
          0,
          0,
          0,
          0,
          0,
          0,
          0,
          0,
          0,
          0,
          0,
          0,
          0,
          0,
          0,
          0,
          0,
          0,
          0.9000000000000004,
          0.9000000000000004,
          1,
          1,
          0,
          0,
          0,
          0,
          0.9000000000000004,
          1,
          1,
          1,
          1,
          1,
          1,
          1,
          1,
          1.9000000000000004,
          1.9000000000000004,
          1,
          1.9000000000000004,
          1.9000000000000004,
          2,
          2,
          1.9000000000000004,
          1.9000000000000004,
          1,
          1,
          1,
          1,
          1,
          1,
          1,
          1,
          1,
          1,
          0,
          0.9000000000000004,
          0.9000000000000004,
          0,
          0,
          1,
          0,
          0,
          0,
          0,
          0,
          0,
          0,
          0,
          0,
          0,
          0,
          0,
          0,
          0,
          0,
          0,
          0,
          0,
          0,
          0,
          0,
          0,
          0,
          0,
          0,
          0,
          0,
          0,
          0,
          0,
          0,
          0,
          0,
          0,
          0,
          0,
          0,
          0,
          0,
          0,
          0,
          0,
          0,
          0,
          0,
          0,
          0,
          0,
          0,
          0,
          0,
          0,
          0,
          0,
          0
         ]
        },
        {
         "fill": "toself",
         "fillcolor": "rgba(231,107,243,0.5)",
         "line": {
          "color": "rgba(255,255,255,0)"
         },
         "name": "lower/upper quartiles",
         "type": "scatter",
         "x": [
          "2024-10-01T00:00:00",
          "2024-10-02T00:00:00",
          "2024-10-03T00:00:00",
          "2024-10-04T00:00:00",
          "2024-10-05T00:00:00",
          "2024-10-06T00:00:00",
          "2024-10-07T00:00:00",
          "2024-10-08T00:00:00",
          "2024-10-09T00:00:00",
          "2024-10-10T00:00:00",
          "2024-10-11T00:00:00",
          "2024-10-12T00:00:00",
          "2024-10-13T00:00:00",
          "2024-10-14T00:00:00",
          "2024-10-15T00:00:00",
          "2024-10-16T00:00:00",
          "2024-10-17T00:00:00",
          "2024-10-18T00:00:00",
          "2024-10-19T00:00:00",
          "2024-10-20T00:00:00",
          "2024-10-21T00:00:00",
          "2024-10-22T00:00:00",
          "2024-10-23T00:00:00",
          "2024-10-24T00:00:00",
          "2024-10-25T00:00:00",
          "2024-10-26T00:00:00",
          "2024-10-27T00:00:00",
          "2024-10-28T00:00:00",
          "2024-10-29T00:00:00",
          "2024-10-30T00:00:00",
          "2024-10-31T00:00:00",
          "2024-11-01T00:00:00",
          "2024-11-02T00:00:00",
          "2024-11-03T00:00:00",
          "2024-11-04T00:00:00",
          "2024-11-05T00:00:00",
          "2024-11-06T00:00:00",
          "2024-11-07T00:00:00",
          "2024-11-08T00:00:00",
          "2024-11-09T00:00:00",
          "2024-11-10T00:00:00",
          "2024-11-11T00:00:00",
          "2024-11-12T00:00:00",
          "2024-11-13T00:00:00",
          "2024-11-14T00:00:00",
          "2024-11-15T00:00:00",
          "2024-11-16T00:00:00",
          "2024-11-17T00:00:00",
          "2024-11-18T00:00:00",
          "2024-11-19T00:00:00",
          "2024-11-20T00:00:00",
          "2024-11-21T00:00:00",
          "2024-11-22T00:00:00",
          "2024-11-23T00:00:00",
          "2024-11-24T00:00:00",
          "2024-11-25T00:00:00",
          "2024-11-26T00:00:00",
          "2024-11-27T00:00:00",
          "2024-11-28T00:00:00",
          "2024-11-29T00:00:00",
          "2024-11-30T00:00:00",
          "2024-12-01T00:00:00",
          "2024-12-02T00:00:00",
          "2024-12-03T00:00:00",
          "2024-12-04T00:00:00",
          "2024-12-05T00:00:00",
          "2024-12-06T00:00:00",
          "2024-12-07T00:00:00",
          "2024-12-08T00:00:00",
          "2024-12-09T00:00:00",
          "2024-12-10T00:00:00",
          "2024-12-11T00:00:00",
          "2024-12-12T00:00:00",
          "2024-12-13T00:00:00",
          "2024-12-14T00:00:00",
          "2024-12-15T00:00:00",
          "2024-12-16T00:00:00",
          "2024-12-17T00:00:00",
          "2024-12-18T00:00:00",
          "2024-12-19T00:00:00",
          "2024-12-20T00:00:00",
          "2024-12-21T00:00:00",
          "2024-12-22T00:00:00",
          "2024-12-23T00:00:00",
          "2024-12-24T00:00:00",
          "2024-12-25T00:00:00",
          "2024-12-26T00:00:00",
          "2024-12-27T00:00:00",
          "2024-12-28T00:00:00",
          "2024-12-29T00:00:00",
          "2024-12-30T00:00:00",
          "2024-12-31T00:00:00",
          "2025-01-01T00:00:00",
          "2025-01-02T00:00:00",
          "2025-01-03T00:00:00",
          "2025-01-04T00:00:00",
          "2025-01-05T00:00:00",
          "2025-01-06T00:00:00",
          "2025-01-07T00:00:00",
          "2025-01-08T00:00:00",
          "2025-01-09T00:00:00",
          "2025-01-10T00:00:00",
          "2025-01-11T00:00:00",
          "2025-01-12T00:00:00",
          "2025-01-13T00:00:00",
          "2025-01-14T00:00:00",
          "2025-01-15T00:00:00",
          "2025-01-16T00:00:00",
          "2025-01-17T00:00:00",
          "2025-01-18T00:00:00",
          "2025-01-19T00:00:00",
          "2025-01-20T00:00:00",
          "2025-01-21T00:00:00",
          "2025-01-22T00:00:00",
          "2025-01-23T00:00:00",
          "2025-01-24T00:00:00",
          "2025-01-25T00:00:00",
          "2025-01-26T00:00:00",
          "2025-01-27T00:00:00",
          "2025-01-28T00:00:00",
          "2025-01-29T00:00:00",
          "2025-01-30T00:00:00",
          "2025-01-31T00:00:00",
          "2025-02-01T00:00:00",
          "2025-02-02T00:00:00",
          "2025-02-03T00:00:00",
          "2025-02-04T00:00:00",
          "2025-02-05T00:00:00",
          "2025-02-06T00:00:00",
          "2025-02-07T00:00:00",
          "2025-02-08T00:00:00",
          "2025-02-09T00:00:00",
          "2025-02-10T00:00:00",
          "2025-02-11T00:00:00",
          "2025-02-12T00:00:00",
          "2025-02-13T00:00:00",
          "2025-02-14T00:00:00",
          "2025-02-15T00:00:00",
          "2025-02-16T00:00:00",
          "2025-02-17T00:00:00",
          "2025-02-18T00:00:00",
          "2025-02-19T00:00:00",
          "2025-02-20T00:00:00",
          "2025-02-21T00:00:00",
          "2025-02-22T00:00:00",
          "2025-02-23T00:00:00",
          "2025-02-24T00:00:00",
          "2025-02-25T00:00:00",
          "2025-02-26T00:00:00",
          "2025-02-27T00:00:00",
          "2025-02-28T00:00:00",
          "2025-03-01T00:00:00",
          "2025-03-01T00:00:00",
          "2025-02-28T00:00:00",
          "2025-02-27T00:00:00",
          "2025-02-26T00:00:00",
          "2025-02-25T00:00:00",
          "2025-02-24T00:00:00",
          "2025-02-23T00:00:00",
          "2025-02-22T00:00:00",
          "2025-02-21T00:00:00",
          "2025-02-20T00:00:00",
          "2025-02-19T00:00:00",
          "2025-02-18T00:00:00",
          "2025-02-17T00:00:00",
          "2025-02-16T00:00:00",
          "2025-02-15T00:00:00",
          "2025-02-14T00:00:00",
          "2025-02-13T00:00:00",
          "2025-02-12T00:00:00",
          "2025-02-11T00:00:00",
          "2025-02-10T00:00:00",
          "2025-02-09T00:00:00",
          "2025-02-08T00:00:00",
          "2025-02-07T00:00:00",
          "2025-02-06T00:00:00",
          "2025-02-05T00:00:00",
          "2025-02-04T00:00:00",
          "2025-02-03T00:00:00",
          "2025-02-02T00:00:00",
          "2025-02-01T00:00:00",
          "2025-01-31T00:00:00",
          "2025-01-30T00:00:00",
          "2025-01-29T00:00:00",
          "2025-01-28T00:00:00",
          "2025-01-27T00:00:00",
          "2025-01-26T00:00:00",
          "2025-01-25T00:00:00",
          "2025-01-24T00:00:00",
          "2025-01-23T00:00:00",
          "2025-01-22T00:00:00",
          "2025-01-21T00:00:00",
          "2025-01-20T00:00:00",
          "2025-01-19T00:00:00",
          "2025-01-18T00:00:00",
          "2025-01-17T00:00:00",
          "2025-01-16T00:00:00",
          "2025-01-15T00:00:00",
          "2025-01-14T00:00:00",
          "2025-01-13T00:00:00",
          "2025-01-12T00:00:00",
          "2025-01-11T00:00:00",
          "2025-01-10T00:00:00",
          "2025-01-09T00:00:00",
          "2025-01-08T00:00:00",
          "2025-01-07T00:00:00",
          "2025-01-06T00:00:00",
          "2025-01-05T00:00:00",
          "2025-01-04T00:00:00",
          "2025-01-03T00:00:00",
          "2025-01-02T00:00:00",
          "2025-01-01T00:00:00",
          "2024-12-31T00:00:00",
          "2024-12-30T00:00:00",
          "2024-12-29T00:00:00",
          "2024-12-28T00:00:00",
          "2024-12-27T00:00:00",
          "2024-12-26T00:00:00",
          "2024-12-25T00:00:00",
          "2024-12-24T00:00:00",
          "2024-12-23T00:00:00",
          "2024-12-22T00:00:00",
          "2024-12-21T00:00:00",
          "2024-12-20T00:00:00",
          "2024-12-19T00:00:00",
          "2024-12-18T00:00:00",
          "2024-12-17T00:00:00",
          "2024-12-16T00:00:00",
          "2024-12-15T00:00:00",
          "2024-12-14T00:00:00",
          "2024-12-13T00:00:00",
          "2024-12-12T00:00:00",
          "2024-12-11T00:00:00",
          "2024-12-10T00:00:00",
          "2024-12-09T00:00:00",
          "2024-12-08T00:00:00",
          "2024-12-07T00:00:00",
          "2024-12-06T00:00:00",
          "2024-12-05T00:00:00",
          "2024-12-04T00:00:00",
          "2024-12-03T00:00:00",
          "2024-12-02T00:00:00",
          "2024-12-01T00:00:00",
          "2024-11-30T00:00:00",
          "2024-11-29T00:00:00",
          "2024-11-28T00:00:00",
          "2024-11-27T00:00:00",
          "2024-11-26T00:00:00",
          "2024-11-25T00:00:00",
          "2024-11-24T00:00:00",
          "2024-11-23T00:00:00",
          "2024-11-22T00:00:00",
          "2024-11-21T00:00:00",
          "2024-11-20T00:00:00",
          "2024-11-19T00:00:00",
          "2024-11-18T00:00:00",
          "2024-11-17T00:00:00",
          "2024-11-16T00:00:00",
          "2024-11-15T00:00:00",
          "2024-11-14T00:00:00",
          "2024-11-13T00:00:00",
          "2024-11-12T00:00:00",
          "2024-11-11T00:00:00",
          "2024-11-10T00:00:00",
          "2024-11-09T00:00:00",
          "2024-11-08T00:00:00",
          "2024-11-07T00:00:00",
          "2024-11-06T00:00:00",
          "2024-11-05T00:00:00",
          "2024-11-04T00:00:00",
          "2024-11-03T00:00:00",
          "2024-11-02T00:00:00",
          "2024-11-01T00:00:00",
          "2024-10-31T00:00:00",
          "2024-10-30T00:00:00",
          "2024-10-29T00:00:00",
          "2024-10-28T00:00:00",
          "2024-10-27T00:00:00",
          "2024-10-26T00:00:00",
          "2024-10-25T00:00:00",
          "2024-10-24T00:00:00",
          "2024-10-23T00:00:00",
          "2024-10-22T00:00:00",
          "2024-10-21T00:00:00",
          "2024-10-20T00:00:00",
          "2024-10-19T00:00:00",
          "2024-10-18T00:00:00",
          "2024-10-17T00:00:00",
          "2024-10-16T00:00:00",
          "2024-10-15T00:00:00",
          "2024-10-14T00:00:00",
          "2024-10-13T00:00:00",
          "2024-10-12T00:00:00",
          "2024-10-11T00:00:00",
          "2024-10-10T00:00:00",
          "2024-10-09T00:00:00",
          "2024-10-08T00:00:00",
          "2024-10-07T00:00:00",
          "2024-10-06T00:00:00",
          "2024-10-05T00:00:00",
          "2024-10-04T00:00:00",
          "2024-10-03T00:00:00",
          "2024-10-02T00:00:00",
          "2024-10-01T00:00:00"
         ],
         "y": [
          0,
          0,
          0,
          0,
          0,
          0,
          1,
          1,
          1,
          1,
          1,
          1,
          1,
          1,
          1,
          1,
          1,
          1,
          1,
          1,
          1,
          1,
          1,
          1,
          1,
          1,
          1,
          1,
          1,
          1,
          1,
          1,
          1,
          1,
          1,
          1,
          1,
          1,
          1,
          1,
          1,
          1,
          1,
          1,
          1,
          1,
          1,
          1,
          2,
          2,
          2,
          2,
          2,
          2,
          2,
          2.75,
          3,
          3,
          3,
          3,
          3,
          3,
          3.75,
          3.75,
          3,
          3,
          4,
          4,
          4,
          4,
          5,
          4,
          4.75,
          4,
          4,
          4,
          4.75,
          4,
          4,
          4,
          4,
          4,
          4,
          4.75,
          4,
          4,
          4.75,
          4,
          3,
          3,
          3,
          2.75,
          3,
          2,
          2,
          2,
          2,
          2,
          2,
          2,
          2,
          2,
          2,
          2,
          2,
          2,
          1.75,
          1,
          1,
          1,
          1,
          1,
          1,
          1,
          1,
          1,
          1,
          1,
          1,
          1,
          1,
          1,
          1,
          1,
          1,
          1,
          1,
          1,
          1,
          1,
          1,
          1,
          1,
          1,
          1,
          1,
          1,
          1,
          1,
          1,
          1,
          1,
          1,
          1,
          1,
          1,
          1,
          1,
          1,
          1,
          1,
          1,
          0,
          0,
          0,
          0,
          0,
          0,
          0,
          0,
          0,
          0,
          0,
          0,
          0,
          0,
          0,
          0,
          0,
          0,
          0,
          0,
          0,
          0,
          0,
          0,
          0,
          0,
          0,
          0,
          0,
          0,
          0,
          0,
          0,
          0,
          0,
          0,
          0,
          0,
          0,
          0,
          0,
          0,
          0,
          0,
          0,
          0,
          0,
          0,
          0,
          0.25,
          0.25,
          0.25,
          1,
          1,
          1,
          1,
          1,
          1,
          1,
          1,
          1,
          1,
          1,
          1.25,
          1.25,
          2,
          1,
          2,
          2,
          2.25,
          2,
          2.25,
          3,
          2,
          2,
          3,
          2.25,
          3,
          3,
          2.25,
          3,
          2,
          2,
          2,
          2,
          1,
          2,
          2,
          2,
          1,
          1,
          1,
          1,
          1,
          1,
          1,
          1,
          1,
          1,
          1,
          0.25,
          0.25,
          0,
          0,
          0,
          0,
          0,
          0,
          0,
          0,
          0,
          0,
          0,
          0,
          0,
          0,
          0,
          0,
          0,
          0,
          0,
          0,
          0,
          0,
          0,
          0,
          0,
          0,
          0,
          0,
          0,
          0,
          0,
          0,
          0,
          0,
          0,
          0,
          0,
          0,
          0,
          0,
          0,
          0,
          0,
          0,
          0,
          0,
          0,
          0,
          0,
          0
         ]
        },
        {
         "line": {
          "color": "rgb(80,0,80)"
         },
         "name": "Median",
         "type": "scatter",
         "x": [
          "2024-10-01T00:00:00",
          "2024-10-02T00:00:00",
          "2024-10-03T00:00:00",
          "2024-10-04T00:00:00",
          "2024-10-05T00:00:00",
          "2024-10-06T00:00:00",
          "2024-10-07T00:00:00",
          "2024-10-08T00:00:00",
          "2024-10-09T00:00:00",
          "2024-10-10T00:00:00",
          "2024-10-11T00:00:00",
          "2024-10-12T00:00:00",
          "2024-10-13T00:00:00",
          "2024-10-14T00:00:00",
          "2024-10-15T00:00:00",
          "2024-10-16T00:00:00",
          "2024-10-17T00:00:00",
          "2024-10-18T00:00:00",
          "2024-10-19T00:00:00",
          "2024-10-20T00:00:00",
          "2024-10-21T00:00:00",
          "2024-10-22T00:00:00",
          "2024-10-23T00:00:00",
          "2024-10-24T00:00:00",
          "2024-10-25T00:00:00",
          "2024-10-26T00:00:00",
          "2024-10-27T00:00:00",
          "2024-10-28T00:00:00",
          "2024-10-29T00:00:00",
          "2024-10-30T00:00:00",
          "2024-10-31T00:00:00",
          "2024-11-01T00:00:00",
          "2024-11-02T00:00:00",
          "2024-11-03T00:00:00",
          "2024-11-04T00:00:00",
          "2024-11-05T00:00:00",
          "2024-11-06T00:00:00",
          "2024-11-07T00:00:00",
          "2024-11-08T00:00:00",
          "2024-11-09T00:00:00",
          "2024-11-10T00:00:00",
          "2024-11-11T00:00:00",
          "2024-11-12T00:00:00",
          "2024-11-13T00:00:00",
          "2024-11-14T00:00:00",
          "2024-11-15T00:00:00",
          "2024-11-16T00:00:00",
          "2024-11-17T00:00:00",
          "2024-11-18T00:00:00",
          "2024-11-19T00:00:00",
          "2024-11-20T00:00:00",
          "2024-11-21T00:00:00",
          "2024-11-22T00:00:00",
          "2024-11-23T00:00:00",
          "2024-11-24T00:00:00",
          "2024-11-25T00:00:00",
          "2024-11-26T00:00:00",
          "2024-11-27T00:00:00",
          "2024-11-28T00:00:00",
          "2024-11-29T00:00:00",
          "2024-11-30T00:00:00",
          "2024-12-01T00:00:00",
          "2024-12-02T00:00:00",
          "2024-12-03T00:00:00",
          "2024-12-04T00:00:00",
          "2024-12-05T00:00:00",
          "2024-12-06T00:00:00",
          "2024-12-07T00:00:00",
          "2024-12-08T00:00:00",
          "2024-12-09T00:00:00",
          "2024-12-10T00:00:00",
          "2024-12-11T00:00:00",
          "2024-12-12T00:00:00",
          "2024-12-13T00:00:00",
          "2024-12-14T00:00:00",
          "2024-12-15T00:00:00",
          "2024-12-16T00:00:00",
          "2024-12-17T00:00:00",
          "2024-12-18T00:00:00",
          "2024-12-19T00:00:00",
          "2024-12-20T00:00:00",
          "2024-12-21T00:00:00",
          "2024-12-22T00:00:00",
          "2024-12-23T00:00:00",
          "2024-12-24T00:00:00",
          "2024-12-25T00:00:00",
          "2024-12-26T00:00:00",
          "2024-12-27T00:00:00",
          "2024-12-28T00:00:00",
          "2024-12-29T00:00:00",
          "2024-12-30T00:00:00",
          "2024-12-31T00:00:00",
          "2025-01-01T00:00:00",
          "2025-01-02T00:00:00",
          "2025-01-03T00:00:00",
          "2025-01-04T00:00:00",
          "2025-01-05T00:00:00",
          "2025-01-06T00:00:00",
          "2025-01-07T00:00:00",
          "2025-01-08T00:00:00",
          "2025-01-09T00:00:00",
          "2025-01-10T00:00:00",
          "2025-01-11T00:00:00",
          "2025-01-12T00:00:00",
          "2025-01-13T00:00:00",
          "2025-01-14T00:00:00",
          "2025-01-15T00:00:00",
          "2025-01-16T00:00:00",
          "2025-01-17T00:00:00",
          "2025-01-18T00:00:00",
          "2025-01-19T00:00:00",
          "2025-01-20T00:00:00",
          "2025-01-21T00:00:00",
          "2025-01-22T00:00:00",
          "2025-01-23T00:00:00",
          "2025-01-24T00:00:00",
          "2025-01-25T00:00:00",
          "2025-01-26T00:00:00",
          "2025-01-27T00:00:00",
          "2025-01-28T00:00:00",
          "2025-01-29T00:00:00",
          "2025-01-30T00:00:00",
          "2025-01-31T00:00:00",
          "2025-02-01T00:00:00",
          "2025-02-02T00:00:00",
          "2025-02-03T00:00:00",
          "2025-02-04T00:00:00",
          "2025-02-05T00:00:00",
          "2025-02-06T00:00:00",
          "2025-02-07T00:00:00",
          "2025-02-08T00:00:00",
          "2025-02-09T00:00:00",
          "2025-02-10T00:00:00",
          "2025-02-11T00:00:00",
          "2025-02-12T00:00:00",
          "2025-02-13T00:00:00",
          "2025-02-14T00:00:00",
          "2025-02-15T00:00:00",
          "2025-02-16T00:00:00",
          "2025-02-17T00:00:00",
          "2025-02-18T00:00:00",
          "2025-02-19T00:00:00",
          "2025-02-20T00:00:00",
          "2025-02-21T00:00:00",
          "2025-02-22T00:00:00",
          "2025-02-23T00:00:00",
          "2025-02-24T00:00:00",
          "2025-02-25T00:00:00",
          "2025-02-26T00:00:00",
          "2025-02-27T00:00:00",
          "2025-02-28T00:00:00",
          "2025-03-01T00:00:00"
         ],
         "y": [
          0,
          0,
          0,
          0,
          0,
          0,
          0,
          0,
          0,
          0,
          0,
          0,
          0,
          0,
          0.5,
          0.5,
          0.5,
          0,
          1,
          1,
          1,
          1,
          1,
          1,
          1,
          1,
          1,
          1,
          1,
          1,
          0,
          0.5,
          0,
          0,
          0,
          0.5,
          0.5,
          0,
          0.5,
          0,
          0,
          1,
          1,
          1,
          1,
          1,
          1,
          1,
          1,
          1,
          1,
          1,
          2,
          1,
          2,
          2,
          2,
          2,
          2,
          2,
          2,
          2,
          2,
          3,
          2,
          3,
          3,
          3,
          3,
          2.5,
          3,
          3,
          4,
          3,
          4,
          3,
          3.5,
          3,
          3,
          3.5,
          3,
          3,
          3,
          3,
          3.5,
          3,
          3,
          2.5,
          2,
          2,
          2,
          2,
          2,
          2,
          1,
          1,
          1,
          1,
          1,
          1,
          1,
          1,
          1,
          1,
          1,
          1,
          1,
          1,
          1,
          0,
          0,
          0,
          0.5,
          0.5,
          0,
          0,
          0,
          0,
          0,
          0,
          0.5,
          0,
          0,
          0,
          0,
          0,
          0,
          0,
          0,
          0,
          0,
          0,
          0.5,
          0,
          1,
          1,
          0,
          0,
          0.5,
          0,
          0,
          0.5,
          1,
          0.5,
          0,
          0,
          0,
          0,
          0.5,
          1,
          0.5,
          0
         ]
        }
       ],
       "layout": {
        "height": 300,
        "legend": {
         "font": {
          "size": 14
         },
         "y": 0.5
        },
        "template": {
         "data": {
          "bar": [
           {
            "error_x": {
             "color": "#2a3f5f"
            },
            "error_y": {
             "color": "#2a3f5f"
            },
            "marker": {
             "line": {
              "color": "#E5ECF6",
              "width": 0.5
             },
             "pattern": {
              "fillmode": "overlay",
              "size": 10,
              "solidity": 0.2
             }
            },
            "type": "bar"
           }
          ],
          "barpolar": [
           {
            "marker": {
             "line": {
              "color": "#E5ECF6",
              "width": 0.5
             },
             "pattern": {
              "fillmode": "overlay",
              "size": 10,
              "solidity": 0.2
             }
            },
            "type": "barpolar"
           }
          ],
          "carpet": [
           {
            "aaxis": {
             "endlinecolor": "#2a3f5f",
             "gridcolor": "white",
             "linecolor": "white",
             "minorgridcolor": "white",
             "startlinecolor": "#2a3f5f"
            },
            "baxis": {
             "endlinecolor": "#2a3f5f",
             "gridcolor": "white",
             "linecolor": "white",
             "minorgridcolor": "white",
             "startlinecolor": "#2a3f5f"
            },
            "type": "carpet"
           }
          ],
          "choropleth": [
           {
            "colorbar": {
             "outlinewidth": 0,
             "ticks": ""
            },
            "type": "choropleth"
           }
          ],
          "contour": [
           {
            "colorbar": {
             "outlinewidth": 0,
             "ticks": ""
            },
            "colorscale": [
             [
              0,
              "#0d0887"
             ],
             [
              0.1111111111111111,
              "#46039f"
             ],
             [
              0.2222222222222222,
              "#7201a8"
             ],
             [
              0.3333333333333333,
              "#9c179e"
             ],
             [
              0.4444444444444444,
              "#bd3786"
             ],
             [
              0.5555555555555556,
              "#d8576b"
             ],
             [
              0.6666666666666666,
              "#ed7953"
             ],
             [
              0.7777777777777778,
              "#fb9f3a"
             ],
             [
              0.8888888888888888,
              "#fdca26"
             ],
             [
              1,
              "#f0f921"
             ]
            ],
            "type": "contour"
           }
          ],
          "contourcarpet": [
           {
            "colorbar": {
             "outlinewidth": 0,
             "ticks": ""
            },
            "type": "contourcarpet"
           }
          ],
          "heatmap": [
           {
            "colorbar": {
             "outlinewidth": 0,
             "ticks": ""
            },
            "colorscale": [
             [
              0,
              "#0d0887"
             ],
             [
              0.1111111111111111,
              "#46039f"
             ],
             [
              0.2222222222222222,
              "#7201a8"
             ],
             [
              0.3333333333333333,
              "#9c179e"
             ],
             [
              0.4444444444444444,
              "#bd3786"
             ],
             [
              0.5555555555555556,
              "#d8576b"
             ],
             [
              0.6666666666666666,
              "#ed7953"
             ],
             [
              0.7777777777777778,
              "#fb9f3a"
             ],
             [
              0.8888888888888888,
              "#fdca26"
             ],
             [
              1,
              "#f0f921"
             ]
            ],
            "type": "heatmap"
           }
          ],
          "histogram": [
           {
            "marker": {
             "pattern": {
              "fillmode": "overlay",
              "size": 10,
              "solidity": 0.2
             }
            },
            "type": "histogram"
           }
          ],
          "histogram2d": [
           {
            "colorbar": {
             "outlinewidth": 0,
             "ticks": ""
            },
            "colorscale": [
             [
              0,
              "#0d0887"
             ],
             [
              0.1111111111111111,
              "#46039f"
             ],
             [
              0.2222222222222222,
              "#7201a8"
             ],
             [
              0.3333333333333333,
              "#9c179e"
             ],
             [
              0.4444444444444444,
              "#bd3786"
             ],
             [
              0.5555555555555556,
              "#d8576b"
             ],
             [
              0.6666666666666666,
              "#ed7953"
             ],
             [
              0.7777777777777778,
              "#fb9f3a"
             ],
             [
              0.8888888888888888,
              "#fdca26"
             ],
             [
              1,
              "#f0f921"
             ]
            ],
            "type": "histogram2d"
           }
          ],
          "histogram2dcontour": [
           {
            "colorbar": {
             "outlinewidth": 0,
             "ticks": ""
            },
            "colorscale": [
             [
              0,
              "#0d0887"
             ],
             [
              0.1111111111111111,
              "#46039f"
             ],
             [
              0.2222222222222222,
              "#7201a8"
             ],
             [
              0.3333333333333333,
              "#9c179e"
             ],
             [
              0.4444444444444444,
              "#bd3786"
             ],
             [
              0.5555555555555556,
              "#d8576b"
             ],
             [
              0.6666666666666666,
              "#ed7953"
             ],
             [
              0.7777777777777778,
              "#fb9f3a"
             ],
             [
              0.8888888888888888,
              "#fdca26"
             ],
             [
              1,
              "#f0f921"
             ]
            ],
            "type": "histogram2dcontour"
           }
          ],
          "mesh3d": [
           {
            "colorbar": {
             "outlinewidth": 0,
             "ticks": ""
            },
            "type": "mesh3d"
           }
          ],
          "parcoords": [
           {
            "line": {
             "colorbar": {
              "outlinewidth": 0,
              "ticks": ""
             }
            },
            "type": "parcoords"
           }
          ],
          "pie": [
           {
            "automargin": true,
            "type": "pie"
           }
          ],
          "scatter": [
           {
            "fillpattern": {
             "fillmode": "overlay",
             "size": 10,
             "solidity": 0.2
            },
            "type": "scatter"
           }
          ],
          "scatter3d": [
           {
            "line": {
             "colorbar": {
              "outlinewidth": 0,
              "ticks": ""
             }
            },
            "marker": {
             "colorbar": {
              "outlinewidth": 0,
              "ticks": ""
             }
            },
            "type": "scatter3d"
           }
          ],
          "scattercarpet": [
           {
            "marker": {
             "colorbar": {
              "outlinewidth": 0,
              "ticks": ""
             }
            },
            "type": "scattercarpet"
           }
          ],
          "scattergeo": [
           {
            "marker": {
             "colorbar": {
              "outlinewidth": 0,
              "ticks": ""
             }
            },
            "type": "scattergeo"
           }
          ],
          "scattergl": [
           {
            "marker": {
             "colorbar": {
              "outlinewidth": 0,
              "ticks": ""
             }
            },
            "type": "scattergl"
           }
          ],
          "scattermap": [
           {
            "marker": {
             "colorbar": {
              "outlinewidth": 0,
              "ticks": ""
             }
            },
            "type": "scattermap"
           }
          ],
          "scattermapbox": [
           {
            "marker": {
             "colorbar": {
              "outlinewidth": 0,
              "ticks": ""
             }
            },
            "type": "scattermapbox"
           }
          ],
          "scatterpolar": [
           {
            "marker": {
             "colorbar": {
              "outlinewidth": 0,
              "ticks": ""
             }
            },
            "type": "scatterpolar"
           }
          ],
          "scatterpolargl": [
           {
            "marker": {
             "colorbar": {
              "outlinewidth": 0,
              "ticks": ""
             }
            },
            "type": "scatterpolargl"
           }
          ],
          "scatterternary": [
           {
            "marker": {
             "colorbar": {
              "outlinewidth": 0,
              "ticks": ""
             }
            },
            "type": "scatterternary"
           }
          ],
          "surface": [
           {
            "colorbar": {
             "outlinewidth": 0,
             "ticks": ""
            },
            "colorscale": [
             [
              0,
              "#0d0887"
             ],
             [
              0.1111111111111111,
              "#46039f"
             ],
             [
              0.2222222222222222,
              "#7201a8"
             ],
             [
              0.3333333333333333,
              "#9c179e"
             ],
             [
              0.4444444444444444,
              "#bd3786"
             ],
             [
              0.5555555555555556,
              "#d8576b"
             ],
             [
              0.6666666666666666,
              "#ed7953"
             ],
             [
              0.7777777777777778,
              "#fb9f3a"
             ],
             [
              0.8888888888888888,
              "#fdca26"
             ],
             [
              1,
              "#f0f921"
             ]
            ],
            "type": "surface"
           }
          ],
          "table": [
           {
            "cells": {
             "fill": {
              "color": "#EBF0F8"
             },
             "line": {
              "color": "white"
             }
            },
            "header": {
             "fill": {
              "color": "#C8D4E3"
             },
             "line": {
              "color": "white"
             }
            },
            "type": "table"
           }
          ]
         },
         "layout": {
          "annotationdefaults": {
           "arrowcolor": "#2a3f5f",
           "arrowhead": 0,
           "arrowwidth": 1
          },
          "autotypenumbers": "strict",
          "coloraxis": {
           "colorbar": {
            "outlinewidth": 0,
            "ticks": ""
           }
          },
          "colorscale": {
           "diverging": [
            [
             0,
             "#8e0152"
            ],
            [
             0.1,
             "#c51b7d"
            ],
            [
             0.2,
             "#de77ae"
            ],
            [
             0.3,
             "#f1b6da"
            ],
            [
             0.4,
             "#fde0ef"
            ],
            [
             0.5,
             "#f7f7f7"
            ],
            [
             0.6,
             "#e6f5d0"
            ],
            [
             0.7,
             "#b8e186"
            ],
            [
             0.8,
             "#7fbc41"
            ],
            [
             0.9,
             "#4d9221"
            ],
            [
             1,
             "#276419"
            ]
           ],
           "sequential": [
            [
             0,
             "#0d0887"
            ],
            [
             0.1111111111111111,
             "#46039f"
            ],
            [
             0.2222222222222222,
             "#7201a8"
            ],
            [
             0.3333333333333333,
             "#9c179e"
            ],
            [
             0.4444444444444444,
             "#bd3786"
            ],
            [
             0.5555555555555556,
             "#d8576b"
            ],
            [
             0.6666666666666666,
             "#ed7953"
            ],
            [
             0.7777777777777778,
             "#fb9f3a"
            ],
            [
             0.8888888888888888,
             "#fdca26"
            ],
            [
             1,
             "#f0f921"
            ]
           ],
           "sequentialminus": [
            [
             0,
             "#0d0887"
            ],
            [
             0.1111111111111111,
             "#46039f"
            ],
            [
             0.2222222222222222,
             "#7201a8"
            ],
            [
             0.3333333333333333,
             "#9c179e"
            ],
            [
             0.4444444444444444,
             "#bd3786"
            ],
            [
             0.5555555555555556,
             "#d8576b"
            ],
            [
             0.6666666666666666,
             "#ed7953"
            ],
            [
             0.7777777777777778,
             "#fb9f3a"
            ],
            [
             0.8888888888888888,
             "#fdca26"
            ],
            [
             1,
             "#f0f921"
            ]
           ]
          },
          "colorway": [
           "#636efa",
           "#EF553B",
           "#00cc96",
           "#ab63fa",
           "#FFA15A",
           "#19d3f3",
           "#FF6692",
           "#B6E880",
           "#FF97FF",
           "#FECB52"
          ],
          "font": {
           "color": "#2a3f5f"
          },
          "geo": {
           "bgcolor": "white",
           "lakecolor": "white",
           "landcolor": "#E5ECF6",
           "showlakes": true,
           "showland": true,
           "subunitcolor": "white"
          },
          "hoverlabel": {
           "align": "left"
          },
          "hovermode": "closest",
          "mapbox": {
           "style": "light"
          },
          "paper_bgcolor": "white",
          "plot_bgcolor": "#E5ECF6",
          "polar": {
           "angularaxis": {
            "gridcolor": "white",
            "linecolor": "white",
            "ticks": ""
           },
           "bgcolor": "#E5ECF6",
           "radialaxis": {
            "gridcolor": "white",
            "linecolor": "white",
            "ticks": ""
           }
          },
          "scene": {
           "xaxis": {
            "backgroundcolor": "#E5ECF6",
            "gridcolor": "white",
            "gridwidth": 2,
            "linecolor": "white",
            "showbackground": true,
            "ticks": "",
            "zerolinecolor": "white"
           },
           "yaxis": {
            "backgroundcolor": "#E5ECF6",
            "gridcolor": "white",
            "gridwidth": 2,
            "linecolor": "white",
            "showbackground": true,
            "ticks": "",
            "zerolinecolor": "white"
           },
           "zaxis": {
            "backgroundcolor": "#E5ECF6",
            "gridcolor": "white",
            "gridwidth": 2,
            "linecolor": "white",
            "showbackground": true,
            "ticks": "",
            "zerolinecolor": "white"
           }
          },
          "shapedefaults": {
           "line": {
            "color": "#2a3f5f"
           }
          },
          "ternary": {
           "aaxis": {
            "gridcolor": "white",
            "linecolor": "white",
            "ticks": ""
           },
           "baxis": {
            "gridcolor": "white",
            "linecolor": "white",
            "ticks": ""
           },
           "bgcolor": "#E5ECF6",
           "caxis": {
            "gridcolor": "white",
            "linecolor": "white",
            "ticks": ""
           }
          },
          "title": {
           "x": 0.05
          },
          "xaxis": {
           "automargin": true,
           "gridcolor": "white",
           "linecolor": "white",
           "ticks": "",
           "title": {
            "standoff": 15
           },
           "zerolinecolor": "white",
           "zerolinewidth": 2
          },
          "yaxis": {
           "automargin": true,
           "gridcolor": "white",
           "linecolor": "white",
           "ticks": "",
           "title": {
            "standoff": 15
           },
           "zerolinecolor": "white",
           "zerolinewidth": 2
          }
         }
        },
        "title": {
         "font": {
          "size": 20,
          "weight": 900
         },
         "text": "Paeds beds"
        },
        "width": 1000,
        "xaxis": {
         "tickfont": {
          "size": 14
         }
        },
        "yaxis": {
         "tickfont": {
          "size": 14
         }
        }
       }
      }
     },
     "metadata": {},
     "output_type": "display_data"
    }
   ],
   "source": [
    "fig = fan_chart(df30_paeds, 'Paeds beds')\n",
    "fig.show()"
   ]
  },
  {
   "cell_type": "code",
   "execution_count": null,
   "id": "6fc6a1ef",
   "metadata": {},
   "outputs": [],
   "source": []
  }
 ],
 "metadata": {
  "kernelspec": {
   "display_name": ".venv",
   "language": "python",
   "name": "python3"
  },
  "language_info": {
   "codemirror_mode": {
    "name": "ipython",
    "version": 3
   },
   "file_extension": ".py",
   "mimetype": "text/x-python",
   "name": "python",
   "nbconvert_exporter": "python",
   "pygments_lexer": "ipython3",
   "version": "3.13.2"
  }
 },
 "nbformat": 4,
 "nbformat_minor": 5
}
